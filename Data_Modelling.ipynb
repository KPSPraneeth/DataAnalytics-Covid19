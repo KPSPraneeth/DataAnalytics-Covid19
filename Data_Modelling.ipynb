{
 "cells": [
  {
   "cell_type": "markdown",
   "id": "compressed-malaysia",
   "metadata": {},
   "source": [
    "\n",
    "-----------------------------------------------------------------------------------------\n",
    "\n",
    "**Note: This notebook will take 5-6 minutes to run through from start to finish. The majority of this execution time is spent in section 5 where the random forest model is experimented with different values and in cleaning, predicting on new dataset.**\n",
    "\n",
    "This homework consists of total 3 notebooks which are listed below:\n",
    "1. Assignment2_Data_Cleaning_solution_COMP47350_CDC\n",
    "    - The original dataset which is provided for homework 1 is taken performed data cleaning along with creating 3 new features. The final dataset is then used as an input to the Homework2.\n",
    "2. Assignment2_Data_Modelling_solution_COMP47350_CDC\n",
    "    - The dataset from previous step is used for modelling and performed all the steps which are provided.\n",
    "3. New_data_cleaning_homework_2_Q4.3\n",
    "    - The new dataset for question 4.3 is taken done the data cleaning in the above mentioned file. The final csv after cleaning is taken as an input for modelling in question 4.3 of data modelling notebook(Step 2 notebook).\n",
    "\n",
    "## Introduction\n",
    "- The cleaned dataset for this assignment(as an input) can be found in the file Assignment2_Data_Cleaning_solution_COMP47350_CDC. \n",
    "- The above mentioned notebook is built and cleaned from the initial raw dataset till the addition of 3 new features.\n",
    "- This notebook will apply the cleaned dataset from Task1 and use it to create 3 different models to predict whether an person dies or not.\n",
    " \n",
    "- Each model will be a supervised learning model and the output will be a binary classification. \n",
    "- Also, the final good accurate model is trained with the full dataset and do the prediction on the new dataset. \n",
    "\n",
    "This homework will be broken down into 4 main parts:\n",
    "1. We will review the dataset from homework one(re-done from begining as mentioned above) and decide on which features to use to build our model\n",
    "2. We will create a Linear Regression model and analyse\n",
    "3. We will create a Logistical Regression model and analyse\n",
    "4. We will create a Random Forest model and analyse\n",
    "5. We will then try to optimize each model  \n",
    "6. We will then extract the good model and train it and predict the values with new dataset provided.\n",
    "7. Summarise the results obtained."
   ]
  },
  {
   "cell_type": "code",
   "execution_count": 1,
   "id": "efficient-packet",
   "metadata": {},
   "outputs": [],
   "source": [
    "import pandas as pd\n",
    "import matplotlib.pyplot as plt\n",
    "import numpy as np\n",
    "import seaborn as sns\n",
    "\n",
    "from patsy import dmatrices\n",
    "from sklearn.linear_model import LinearRegression\n",
    "from sklearn.linear_model import LogisticRegression\n",
    "from sklearn.tree import DecisionTreeClassifier\n",
    "from sklearn.ensemble import RandomForestClassifier\n",
    "from sklearn.model_selection import train_test_split\n",
    "from sklearn import metrics\n",
    "from sklearn.model_selection import cross_validate\n",
    "from sklearn.model_selection import cross_val_score \n",
    "from sklearn.tree import export_graphviz\n",
    "from sklearn import tree\n",
    "import calendar\n",
    "# import graphviz\n",
    "# from graphviz import Source\n",
    "\n",
    "# ignore warnings\n",
    "import warnings\n",
    "warnings.filterwarnings('ignore')\n"
   ]
  },
  {
   "cell_type": "markdown",
   "id": "congressional-brain",
   "metadata": {},
   "source": [
    "# (1) Data understanding and prep:\n",
    "\n",
    "The original dataset from CDC has been cleaned (Task1 - redone from begining which is a repeat of homework 1) and is now imported as a starting point for this work. \n",
    "\n",
    "Futhermore, in addition a number of extra features were added (to to better capture the problem domain) that were not in the original dataset.\n",
    "   - %deaths_every_30_days : Provides the percentage of people died for 30 days.\n",
    "   - Seasons : Indicates in which season(Total 4 seasons) the person effected with COVID-19. This is extracted by converting the cdc_case_earliest_dt to month and then categoried into seasons.\n",
    "   - Is_person_Waited_Or_Not: This feature indicates whether a person responded immediately(with in 5 days) when he/she got the symptoms after the reported date.\n",
    "    \n"
   ]
  },
  {
   "cell_type": "code",
   "execution_count": 2,
   "id": "tough-scoop",
   "metadata": {},
   "outputs": [],
   "source": [
    "# read in the cleaned csv which is created from the date cleaning notebook.\n",
    "df = pd.read_csv('CDC_1-3_cleaned_new_features_FOR_A2.csv', keep_default_na=True, sep=',\\s+', delimiter=',', skipinitialspace=True)\n"
   ]
  },
  {
   "cell_type": "markdown",
   "id": "approximate-candle",
   "metadata": {},
   "source": [
    "After importing the cleaned csv, we will inspect the data and feature of it."
   ]
  },
  {
   "cell_type": "code",
   "execution_count": 3,
   "id": "liquid-pizza",
   "metadata": {},
   "outputs": [
    {
     "data": {
      "text/plain": [
       "(9535, 13)"
      ]
     },
     "execution_count": 3,
     "metadata": {},
     "output_type": "execute_result"
    }
   ],
   "source": [
    "# get the number of rows and columns in the dataframe.\n",
    "df.shape"
   ]
  },
  {
   "cell_type": "code",
   "execution_count": 4,
   "id": "resident-modeling",
   "metadata": {},
   "outputs": [
    {
     "data": {
      "text/html": [
       "<div>\n",
       "<style scoped>\n",
       "    .dataframe tbody tr th:only-of-type {\n",
       "        vertical-align: middle;\n",
       "    }\n",
       "\n",
       "    .dataframe tbody tr th {\n",
       "        vertical-align: top;\n",
       "    }\n",
       "\n",
       "    .dataframe thead th {\n",
       "        text-align: right;\n",
       "    }\n",
       "</style>\n",
       "<table border=\"1\" class=\"dataframe\">\n",
       "  <thead>\n",
       "    <tr style=\"text-align: right;\">\n",
       "      <th></th>\n",
       "      <th>cdc_case_earliest_dt</th>\n",
       "      <th>current_status</th>\n",
       "      <th>sex</th>\n",
       "      <th>age_group</th>\n",
       "      <th>race_ethnicity_combined</th>\n",
       "      <th>hosp_yn</th>\n",
       "      <th>icu_yn</th>\n",
       "      <th>death_yn</th>\n",
       "      <th>medcond_yn</th>\n",
       "      <th>percent</th>\n",
       "      <th>%deaths_every_30days</th>\n",
       "      <th>Seasons</th>\n",
       "      <th>Is_person_Waited_OR_Not</th>\n",
       "    </tr>\n",
       "  </thead>\n",
       "  <tbody>\n",
       "    <tr>\n",
       "      <th>0</th>\n",
       "      <td>2020-12-01</td>\n",
       "      <td>Laboratory-confirmed case</td>\n",
       "      <td>Male</td>\n",
       "      <td>30 - 39 Years</td>\n",
       "      <td>White, Non-Hispanic</td>\n",
       "      <td>Missing</td>\n",
       "      <td>Missing</td>\n",
       "      <td>No</td>\n",
       "      <td>Missing</td>\n",
       "      <td>0.012840</td>\n",
       "      <td>2.955426</td>\n",
       "      <td>Winter</td>\n",
       "      <td>0.0</td>\n",
       "    </tr>\n",
       "    <tr>\n",
       "      <th>1</th>\n",
       "      <td>2020-10-28</td>\n",
       "      <td>Laboratory-confirmed case</td>\n",
       "      <td>Female</td>\n",
       "      <td>10 - 19 Years</td>\n",
       "      <td>Missing</td>\n",
       "      <td>Missing</td>\n",
       "      <td>Missing</td>\n",
       "      <td>No</td>\n",
       "      <td>Missing</td>\n",
       "      <td>0.012840</td>\n",
       "      <td>3.080569</td>\n",
       "      <td>Autumn</td>\n",
       "      <td>0.0</td>\n",
       "    </tr>\n",
       "    <tr>\n",
       "      <th>2</th>\n",
       "      <td>2020-12-28</td>\n",
       "      <td>Laboratory-confirmed case</td>\n",
       "      <td>Female</td>\n",
       "      <td>30 - 39 Years</td>\n",
       "      <td>Missing</td>\n",
       "      <td>No</td>\n",
       "      <td>Missing</td>\n",
       "      <td>No</td>\n",
       "      <td>No</td>\n",
       "      <td>0.107759</td>\n",
       "      <td>2.955426</td>\n",
       "      <td>Winter</td>\n",
       "      <td>1.0</td>\n",
       "    </tr>\n",
       "    <tr>\n",
       "      <th>3</th>\n",
       "      <td>2020-07-28</td>\n",
       "      <td>Laboratory-confirmed case</td>\n",
       "      <td>Male</td>\n",
       "      <td>20 - 29 Years</td>\n",
       "      <td>Black, Non-Hispanic</td>\n",
       "      <td>Missing</td>\n",
       "      <td>Missing</td>\n",
       "      <td>No</td>\n",
       "      <td>No</td>\n",
       "      <td>0.107759</td>\n",
       "      <td>4.191617</td>\n",
       "      <td>Summer</td>\n",
       "      <td>1.0</td>\n",
       "    </tr>\n",
       "    <tr>\n",
       "      <th>4</th>\n",
       "      <td>2020-12-02</td>\n",
       "      <td>Laboratory-confirmed case</td>\n",
       "      <td>Female</td>\n",
       "      <td>20 - 29 Years</td>\n",
       "      <td>Missing</td>\n",
       "      <td>No</td>\n",
       "      <td>Missing</td>\n",
       "      <td>No</td>\n",
       "      <td>Missing</td>\n",
       "      <td>0.012840</td>\n",
       "      <td>2.955426</td>\n",
       "      <td>Winter</td>\n",
       "      <td>0.0</td>\n",
       "    </tr>\n",
       "  </tbody>\n",
       "</table>\n",
       "</div>"
      ],
      "text/plain": [
       "  cdc_case_earliest_dt             current_status     sex      age_group  \\\n",
       "0           2020-12-01  Laboratory-confirmed case    Male  30 - 39 Years   \n",
       "1           2020-10-28  Laboratory-confirmed case  Female  10 - 19 Years   \n",
       "2           2020-12-28  Laboratory-confirmed case  Female  30 - 39 Years   \n",
       "3           2020-07-28  Laboratory-confirmed case    Male  20 - 29 Years   \n",
       "4           2020-12-02  Laboratory-confirmed case  Female  20 - 29 Years   \n",
       "\n",
       "  race_ethnicity_combined  hosp_yn   icu_yn death_yn medcond_yn   percent  \\\n",
       "0     White, Non-Hispanic  Missing  Missing       No    Missing  0.012840   \n",
       "1                 Missing  Missing  Missing       No    Missing  0.012840   \n",
       "2                 Missing       No  Missing       No         No  0.107759   \n",
       "3     Black, Non-Hispanic  Missing  Missing       No         No  0.107759   \n",
       "4                 Missing       No  Missing       No    Missing  0.012840   \n",
       "\n",
       "   %deaths_every_30days Seasons  Is_person_Waited_OR_Not  \n",
       "0              2.955426  Winter                      0.0  \n",
       "1              3.080569  Autumn                      0.0  \n",
       "2              2.955426  Winter                      1.0  \n",
       "3              4.191617  Summer                      1.0  \n",
       "4              2.955426  Winter                      0.0  "
      ]
     },
     "execution_count": 4,
     "metadata": {},
     "output_type": "execute_result"
    }
   ],
   "source": [
    "df.head()"
   ]
  },
  {
   "cell_type": "code",
   "execution_count": 5,
   "id": "organic-purse",
   "metadata": {},
   "outputs": [
    {
     "data": {
      "text/plain": [
       "cdc_case_earliest_dt        object\n",
       "current_status              object\n",
       "sex                         object\n",
       "age_group                   object\n",
       "race_ethnicity_combined     object\n",
       "hosp_yn                     object\n",
       "icu_yn                      object\n",
       "death_yn                    object\n",
       "medcond_yn                  object\n",
       "percent                    float64\n",
       "%deaths_every_30days       float64\n",
       "Seasons                     object\n",
       "Is_person_Waited_OR_Not    float64\n",
       "dtype: object"
      ]
     },
     "execution_count": 5,
     "metadata": {},
     "output_type": "execute_result"
    }
   ],
   "source": [
    "df.dtypes"
   ]
  },
  {
   "cell_type": "code",
   "execution_count": 6,
   "id": "continuing-intellectual",
   "metadata": {},
   "outputs": [
    {
     "data": {
      "text/plain": [
       "cdc_case_earliest_dt       0\n",
       "current_status             0\n",
       "sex                        0\n",
       "age_group                  0\n",
       "race_ethnicity_combined    0\n",
       "hosp_yn                    0\n",
       "icu_yn                     0\n",
       "death_yn                   0\n",
       "medcond_yn                 0\n",
       "percent                    0\n",
       "%deaths_every_30days       0\n",
       "Seasons                    0\n",
       "Is_person_Waited_OR_Not    0\n",
       "dtype: int64"
      ]
     },
     "execution_count": 6,
     "metadata": {},
     "output_type": "execute_result"
    }
   ],
   "source": [
    "df.isna().sum()"
   ]
  },
  {
   "cell_type": "markdown",
   "id": "imposed-grill",
   "metadata": {},
   "source": [
    "From the above details, we can observe that among the newly created features there is a continous feature and a categorical feature as it is having seasons. Also, there are no null values in the dataset."
   ]
  },
  {
   "cell_type": "markdown",
   "id": "periodic-upper",
   "metadata": {},
   "source": [
    "## 1. Data Understanding and Preparation.\n",
    "\n",
    "\n",
    "#### Convert the datatypes to appropriate ones for further analysis"
   ]
  },
  {
   "cell_type": "code",
   "execution_count": 7,
   "id": "ranging-fight",
   "metadata": {},
   "outputs": [
    {
     "data": {
      "text/plain": [
       "Index(['cdc_case_earliest_dt', 'current_status', 'sex', 'age_group',\n",
       "       'race_ethnicity_combined', 'hosp_yn', 'icu_yn', 'death_yn',\n",
       "       'medcond_yn', 'Seasons'],\n",
       "      dtype='object')"
      ]
     },
     "execution_count": 7,
     "metadata": {},
     "output_type": "execute_result"
    }
   ],
   "source": [
    "# select all the remaining object features to convert them into categorical\n",
    "object_columns = df.select_dtypes(['object']).columns\n",
    "object_columns"
   ]
  },
  {
   "cell_type": "code",
   "execution_count": 8,
   "id": "apparent-supplier",
   "metadata": {},
   "outputs": [],
   "source": [
    "#change each column and change the dtype as categorical\n",
    "for column in object_columns:\n",
    "    df[column] = df[column].astype('category')"
   ]
  },
  {
   "cell_type": "code",
   "execution_count": 9,
   "id": "productive-healing",
   "metadata": {},
   "outputs": [],
   "source": [
    "# Change the data type of cdc_case_earliest_dt as it is a date feature.\n",
    "df['cdc_case_earliest_dt'] = df['cdc_case_earliest_dt'].astype('datetime64[ns]')"
   ]
  },
  {
   "cell_type": "code",
   "execution_count": 10,
   "id": "latin-things",
   "metadata": {},
   "outputs": [],
   "source": [
    "# storing all the categorical features in a variable.\n",
    "Category_features = df.select_dtypes(['category']).columns"
   ]
  },
  {
   "cell_type": "code",
   "execution_count": 11,
   "id": "marked-lighting",
   "metadata": {},
   "outputs": [],
   "source": [
    "# storing all the continous features in a variable\n",
    "Numerical_features = df.select_dtypes(['float64']).columns"
   ]
  },
  {
   "cell_type": "code",
   "execution_count": 12,
   "id": "confirmed-prophet",
   "metadata": {},
   "outputs": [
    {
     "data": {
      "text/plain": [
       "cdc_case_earliest_dt       datetime64[ns]\n",
       "current_status                   category\n",
       "sex                              category\n",
       "age_group                        category\n",
       "race_ethnicity_combined          category\n",
       "hosp_yn                          category\n",
       "icu_yn                           category\n",
       "death_yn                         category\n",
       "medcond_yn                       category\n",
       "percent                           float64\n",
       "%deaths_every_30days              float64\n",
       "Seasons                          category\n",
       "Is_person_Waited_OR_Not           float64\n",
       "dtype: object"
      ]
     },
     "execution_count": 12,
     "metadata": {},
     "output_type": "execute_result"
    }
   ],
   "source": [
    "df.dtypes"
   ]
  },
  {
   "cell_type": "code",
   "execution_count": 13,
   "id": "sapphire-cattle",
   "metadata": {},
   "outputs": [
    {
     "data": {
      "text/html": [
       "<div>\n",
       "<style scoped>\n",
       "    .dataframe tbody tr th:only-of-type {\n",
       "        vertical-align: middle;\n",
       "    }\n",
       "\n",
       "    .dataframe tbody tr th {\n",
       "        vertical-align: top;\n",
       "    }\n",
       "\n",
       "    .dataframe thead th {\n",
       "        text-align: right;\n",
       "    }\n",
       "</style>\n",
       "<table border=\"1\" class=\"dataframe\">\n",
       "  <thead>\n",
       "    <tr style=\"text-align: right;\">\n",
       "      <th></th>\n",
       "      <th>cdc_case_earliest_dt</th>\n",
       "      <th>current_status</th>\n",
       "      <th>sex</th>\n",
       "      <th>age_group</th>\n",
       "      <th>race_ethnicity_combined</th>\n",
       "      <th>hosp_yn</th>\n",
       "      <th>icu_yn</th>\n",
       "      <th>death_yn</th>\n",
       "      <th>medcond_yn</th>\n",
       "      <th>percent</th>\n",
       "      <th>%deaths_every_30days</th>\n",
       "      <th>Seasons</th>\n",
       "      <th>Is_person_Waited_OR_Not</th>\n",
       "    </tr>\n",
       "  </thead>\n",
       "  <tbody>\n",
       "    <tr>\n",
       "      <th>0</th>\n",
       "      <td>2020-12-01</td>\n",
       "      <td>Laboratory-confirmed case</td>\n",
       "      <td>Male</td>\n",
       "      <td>30 - 39 Years</td>\n",
       "      <td>White, Non-Hispanic</td>\n",
       "      <td>Missing</td>\n",
       "      <td>Missing</td>\n",
       "      <td>No</td>\n",
       "      <td>Missing</td>\n",
       "      <td>0.012840</td>\n",
       "      <td>2.955426</td>\n",
       "      <td>Winter</td>\n",
       "      <td>0.0</td>\n",
       "    </tr>\n",
       "    <tr>\n",
       "      <th>1</th>\n",
       "      <td>2020-10-28</td>\n",
       "      <td>Laboratory-confirmed case</td>\n",
       "      <td>Female</td>\n",
       "      <td>10 - 19 Years</td>\n",
       "      <td>Missing</td>\n",
       "      <td>Missing</td>\n",
       "      <td>Missing</td>\n",
       "      <td>No</td>\n",
       "      <td>Missing</td>\n",
       "      <td>0.012840</td>\n",
       "      <td>3.080569</td>\n",
       "      <td>Autumn</td>\n",
       "      <td>0.0</td>\n",
       "    </tr>\n",
       "    <tr>\n",
       "      <th>2</th>\n",
       "      <td>2020-12-28</td>\n",
       "      <td>Laboratory-confirmed case</td>\n",
       "      <td>Female</td>\n",
       "      <td>30 - 39 Years</td>\n",
       "      <td>Missing</td>\n",
       "      <td>No</td>\n",
       "      <td>Missing</td>\n",
       "      <td>No</td>\n",
       "      <td>No</td>\n",
       "      <td>0.107759</td>\n",
       "      <td>2.955426</td>\n",
       "      <td>Winter</td>\n",
       "      <td>1.0</td>\n",
       "    </tr>\n",
       "    <tr>\n",
       "      <th>3</th>\n",
       "      <td>2020-07-28</td>\n",
       "      <td>Laboratory-confirmed case</td>\n",
       "      <td>Male</td>\n",
       "      <td>20 - 29 Years</td>\n",
       "      <td>Black, Non-Hispanic</td>\n",
       "      <td>Missing</td>\n",
       "      <td>Missing</td>\n",
       "      <td>No</td>\n",
       "      <td>No</td>\n",
       "      <td>0.107759</td>\n",
       "      <td>4.191617</td>\n",
       "      <td>Summer</td>\n",
       "      <td>1.0</td>\n",
       "    </tr>\n",
       "    <tr>\n",
       "      <th>4</th>\n",
       "      <td>2020-12-02</td>\n",
       "      <td>Laboratory-confirmed case</td>\n",
       "      <td>Female</td>\n",
       "      <td>20 - 29 Years</td>\n",
       "      <td>Missing</td>\n",
       "      <td>No</td>\n",
       "      <td>Missing</td>\n",
       "      <td>No</td>\n",
       "      <td>Missing</td>\n",
       "      <td>0.012840</td>\n",
       "      <td>2.955426</td>\n",
       "      <td>Winter</td>\n",
       "      <td>0.0</td>\n",
       "    </tr>\n",
       "  </tbody>\n",
       "</table>\n",
       "</div>"
      ],
      "text/plain": [
       "  cdc_case_earliest_dt             current_status     sex      age_group  \\\n",
       "0           2020-12-01  Laboratory-confirmed case    Male  30 - 39 Years   \n",
       "1           2020-10-28  Laboratory-confirmed case  Female  10 - 19 Years   \n",
       "2           2020-12-28  Laboratory-confirmed case  Female  30 - 39 Years   \n",
       "3           2020-07-28  Laboratory-confirmed case    Male  20 - 29 Years   \n",
       "4           2020-12-02  Laboratory-confirmed case  Female  20 - 29 Years   \n",
       "\n",
       "  race_ethnicity_combined  hosp_yn   icu_yn death_yn medcond_yn   percent  \\\n",
       "0     White, Non-Hispanic  Missing  Missing       No    Missing  0.012840   \n",
       "1                 Missing  Missing  Missing       No    Missing  0.012840   \n",
       "2                 Missing       No  Missing       No         No  0.107759   \n",
       "3     Black, Non-Hispanic  Missing  Missing       No         No  0.107759   \n",
       "4                 Missing       No  Missing       No    Missing  0.012840   \n",
       "\n",
       "   %deaths_every_30days Seasons  Is_person_Waited_OR_Not  \n",
       "0              2.955426  Winter                      0.0  \n",
       "1              3.080569  Autumn                      0.0  \n",
       "2              2.955426  Winter                      1.0  \n",
       "3              4.191617  Summer                      1.0  \n",
       "4              2.955426  Winter                      0.0  "
      ]
     },
     "execution_count": 13,
     "metadata": {},
     "output_type": "execute_result"
    }
   ],
   "source": [
    "df.head()"
   ]
  },
  {
   "cell_type": "markdown",
   "id": "divided-amsterdam",
   "metadata": {},
   "source": [
    "#### 1.1 Now shuffle the rows before splitting the data."
   ]
  },
  {
   "cell_type": "code",
   "execution_count": 14,
   "id": "fitting-headline",
   "metadata": {},
   "outputs": [
    {
     "data": {
      "text/html": [
       "<div>\n",
       "<style scoped>\n",
       "    .dataframe tbody tr th:only-of-type {\n",
       "        vertical-align: middle;\n",
       "    }\n",
       "\n",
       "    .dataframe tbody tr th {\n",
       "        vertical-align: top;\n",
       "    }\n",
       "\n",
       "    .dataframe thead th {\n",
       "        text-align: right;\n",
       "    }\n",
       "</style>\n",
       "<table border=\"1\" class=\"dataframe\">\n",
       "  <thead>\n",
       "    <tr style=\"text-align: right;\">\n",
       "      <th></th>\n",
       "      <th>cdc_case_earliest_dt</th>\n",
       "      <th>current_status</th>\n",
       "      <th>sex</th>\n",
       "      <th>age_group</th>\n",
       "      <th>race_ethnicity_combined</th>\n",
       "      <th>hosp_yn</th>\n",
       "      <th>icu_yn</th>\n",
       "      <th>death_yn</th>\n",
       "      <th>medcond_yn</th>\n",
       "      <th>percent</th>\n",
       "      <th>%deaths_every_30days</th>\n",
       "      <th>Seasons</th>\n",
       "      <th>Is_person_Waited_OR_Not</th>\n",
       "    </tr>\n",
       "  </thead>\n",
       "  <tbody>\n",
       "    <tr>\n",
       "      <th>0</th>\n",
       "      <td>2020-12-01</td>\n",
       "      <td>Laboratory-confirmed case</td>\n",
       "      <td>Male</td>\n",
       "      <td>30 - 39 Years</td>\n",
       "      <td>White, Non-Hispanic</td>\n",
       "      <td>Missing</td>\n",
       "      <td>Missing</td>\n",
       "      <td>No</td>\n",
       "      <td>Missing</td>\n",
       "      <td>0.012840</td>\n",
       "      <td>2.955426</td>\n",
       "      <td>Winter</td>\n",
       "      <td>0.0</td>\n",
       "    </tr>\n",
       "    <tr>\n",
       "      <th>1</th>\n",
       "      <td>2020-10-28</td>\n",
       "      <td>Laboratory-confirmed case</td>\n",
       "      <td>Female</td>\n",
       "      <td>10 - 19 Years</td>\n",
       "      <td>Missing</td>\n",
       "      <td>Missing</td>\n",
       "      <td>Missing</td>\n",
       "      <td>No</td>\n",
       "      <td>Missing</td>\n",
       "      <td>0.012840</td>\n",
       "      <td>3.080569</td>\n",
       "      <td>Autumn</td>\n",
       "      <td>0.0</td>\n",
       "    </tr>\n",
       "    <tr>\n",
       "      <th>2</th>\n",
       "      <td>2020-12-28</td>\n",
       "      <td>Laboratory-confirmed case</td>\n",
       "      <td>Female</td>\n",
       "      <td>30 - 39 Years</td>\n",
       "      <td>Missing</td>\n",
       "      <td>No</td>\n",
       "      <td>Missing</td>\n",
       "      <td>No</td>\n",
       "      <td>No</td>\n",
       "      <td>0.107759</td>\n",
       "      <td>2.955426</td>\n",
       "      <td>Winter</td>\n",
       "      <td>1.0</td>\n",
       "    </tr>\n",
       "    <tr>\n",
       "      <th>3</th>\n",
       "      <td>2020-07-28</td>\n",
       "      <td>Laboratory-confirmed case</td>\n",
       "      <td>Male</td>\n",
       "      <td>20 - 29 Years</td>\n",
       "      <td>Black, Non-Hispanic</td>\n",
       "      <td>Missing</td>\n",
       "      <td>Missing</td>\n",
       "      <td>No</td>\n",
       "      <td>No</td>\n",
       "      <td>0.107759</td>\n",
       "      <td>4.191617</td>\n",
       "      <td>Summer</td>\n",
       "      <td>1.0</td>\n",
       "    </tr>\n",
       "    <tr>\n",
       "      <th>4</th>\n",
       "      <td>2020-12-02</td>\n",
       "      <td>Laboratory-confirmed case</td>\n",
       "      <td>Female</td>\n",
       "      <td>20 - 29 Years</td>\n",
       "      <td>Missing</td>\n",
       "      <td>No</td>\n",
       "      <td>Missing</td>\n",
       "      <td>No</td>\n",
       "      <td>Missing</td>\n",
       "      <td>0.012840</td>\n",
       "      <td>2.955426</td>\n",
       "      <td>Winter</td>\n",
       "      <td>0.0</td>\n",
       "    </tr>\n",
       "  </tbody>\n",
       "</table>\n",
       "</div>"
      ],
      "text/plain": [
       "  cdc_case_earliest_dt             current_status     sex      age_group  \\\n",
       "0           2020-12-01  Laboratory-confirmed case    Male  30 - 39 Years   \n",
       "1           2020-10-28  Laboratory-confirmed case  Female  10 - 19 Years   \n",
       "2           2020-12-28  Laboratory-confirmed case  Female  30 - 39 Years   \n",
       "3           2020-07-28  Laboratory-confirmed case    Male  20 - 29 Years   \n",
       "4           2020-12-02  Laboratory-confirmed case  Female  20 - 29 Years   \n",
       "\n",
       "  race_ethnicity_combined  hosp_yn   icu_yn death_yn medcond_yn   percent  \\\n",
       "0     White, Non-Hispanic  Missing  Missing       No    Missing  0.012840   \n",
       "1                 Missing  Missing  Missing       No    Missing  0.012840   \n",
       "2                 Missing       No  Missing       No         No  0.107759   \n",
       "3     Black, Non-Hispanic  Missing  Missing       No         No  0.107759   \n",
       "4                 Missing       No  Missing       No    Missing  0.012840   \n",
       "\n",
       "   %deaths_every_30days Seasons  Is_person_Waited_OR_Not  \n",
       "0              2.955426  Winter                      0.0  \n",
       "1              3.080569  Autumn                      0.0  \n",
       "2              2.955426  Winter                      1.0  \n",
       "3              4.191617  Summer                      1.0  \n",
       "4              2.955426  Winter                      0.0  "
      ]
     },
     "execution_count": 14,
     "metadata": {},
     "output_type": "execute_result"
    }
   ],
   "source": [
    "# randomly generate sequence based on dataframe index and set to be new index\n",
    "df.set_index(np.random.permutation(df.index))\n",
    "# sort the resulting random index\n",
    "df.sort_index(inplace=True)\n",
    "df.head(5)\n"
   ]
  },
  {
   "cell_type": "markdown",
   "id": "corporate-creation",
   "metadata": {},
   "source": [
    "##### The dataset will now be split into two datasets: 70% training and 30% test\n",
    "- First we will extract all features except target feature.\n",
    "- Then we will set \"X\" to be the extracted features in the dataframe i.e. we drop \"death_yn\" from the dataframe\n",
    "- Then we will set \"Y\" with the target feature."
   ]
  },
  {
   "cell_type": "code",
   "execution_count": 15,
   "id": "encouraging-memphis",
   "metadata": {},
   "outputs": [
    {
     "name": "stdout",
     "output_type": "stream",
     "text": [
      "\n",
      "Target feature death_yn total dataset counts:\n",
      "\n",
      " No     9210\n",
      "Yes     325\n",
      "Name: death_yn, dtype: int64\n",
      "\n",
      "Training data death_yn counts:\n",
      " No     6441\n",
      "Yes     233\n",
      "Name: death_yn, dtype: int64\n",
      "\n",
      "Test data death_yn counts:\n",
      " No     2769\n",
      "Yes      92\n",
      "Name: death_yn, dtype: int64\n",
      "\n",
      "\n",
      "\n",
      "original range is:  9535\n",
      "Training range (70%):\t rows 0 to 6674\n",
      "test range (30%): \t rows 6674 to 9535\n"
     ]
    }
   ],
   "source": [
    "features = df.columns[df.columns != 'death_yn']\n",
    "\n",
    "#Separate the input features and the target feature\n",
    "X = df[features]\n",
    "y = df.death_yn\n",
    "\n",
    "# Split the dataset into two datasets: 70% training and 30% test\n",
    "# set random_state=1 to always get the same sample set.\n",
    "X_train, X_test, y_train, y_test = train_test_split(X, y, test_size=0.3, random_state=1)\n",
    "\n",
    "\n",
    "print(\"\\nTarget feature death_yn total dataset counts:\\n\\n\", y.value_counts())\n",
    "print(\"\\nTraining data death_yn counts:\\n\", y_train.value_counts())\n",
    "print(\"\\nTest data death_yn counts:\\n\", y_test.value_counts())\n",
    "print(\"\\n\\n\")\n",
    "print(\"original range is: \",df.shape[0])\n",
    "print(\"Training range (70%):\\t rows 0 to\", round(X_train.shape[0]))\n",
    "print(\"test range (30%): \\t rows\", round(X_train.shape[0]), \"to\", round(X_train.shape[0]) + X_test.shape[0])"
   ]
  },
  {
   "cell_type": "markdown",
   "id": "accessible-attendance",
   "metadata": {},
   "source": [
    "The dataset is now ready for plotting"
   ]
  },
  {
   "cell_type": "markdown",
   "id": "unlikely-ethernet",
   "metadata": {},
   "source": [
    "## 1.2 On the training set we will now carry out a series of plots comparing all features to help make decisions on what features to keep for the model \n",
    "\n",
    "- All plots will be using the training subset of dataset: X_train, y_train\n",
    "\n"
   ]
  },
  {
   "cell_type": "markdown",
   "id": "fantastic-nurse",
   "metadata": {},
   "source": [
    "##### 1.2.1 Plot the correlations between all the continuous features. \n",
    "Here there is only one continous feature i.e. '%deaths_every_30days', while the 'Is_person_Waited_Or_Not' is not a continous feature as it is having only 2 values(0 and 1) but these values are stored as a float values. Due to which it is represented as continous feature. On the other hand, the percentage feature have different values which can be considered for having a correlation. \n",
    "While the other datetime feature cannot be used for plotting and correlation as it is having date time values which is not possible.\n",
    "\n",
    "Hence, even the dataset consists of numerical features, in general these are not useful for having a correlation between them. Even if we have correlation table the percentage deaths for every 30 days feature will be only feature which can provide as others can not have correlation.\n",
    "\n",
    "Therefore, the correlation can not be determined with one feature. **Hence there is no plot for correlation in the dataset.**\n",
    "\n",
    "##### 1.2.2 For each continous feature, plot its interaction with the target feature.\n",
    "\n",
    "According to the dataset '%deaths_for_every_30_days' and 'Is_person_waited_or_Not' are considered as numerical features. Hence the interartion between these features with the target feature is plotted below though among which 1 feature is not a continous column.\n"
   ]
  },
  {
   "cell_type": "code",
   "execution_count": 16,
   "id": "stainless-desperate",
   "metadata": {},
   "outputs": [],
   "source": [
    "# For the time being we will add the target feature and other features from training set into a single dataframe for plotting purposes.\n",
    "df_temp = pd.concat([X_train, y_train], axis=1)"
   ]
  },
  {
   "cell_type": "code",
   "execution_count": 17,
   "id": "funky-simon",
   "metadata": {},
   "outputs": [
    {
     "data": {
      "text/plain": [
       "<AxesSubplot:>"
      ]
     },
     "execution_count": 17,
     "metadata": {},
     "output_type": "execute_result"
    },
    {
     "data": {
      "image/png": "[encoded data removed]",
      "text/plain": [
       "<Figure size 2880x1440 with 1 Axes>"
      ]
     },
     "metadata": {
      "needs_background": "light"
     },
     "output_type": "display_data"
    }
   ],
   "source": [
    "df_temp[\"cdc_case_earliest_dt\"].hist(figsize=(40, 20), bins=30)"
   ]
  },
  {
   "cell_type": "code",
   "execution_count": 18,
   "id": "resident-turner",
   "metadata": {
    "scrolled": true
   },
   "outputs": [
    {
     "data": {
      "text/plain": [
       "<AxesSubplot:title={'center':'%deaths_every_30days'}, xlabel='[death_yn]'>"
      ]
     },
     "execution_count": 18,
     "metadata": {},
     "output_type": "execute_result"
    },
    {
     "data": {
      "text/plain": [
       "<Figure size 432x288 with 0 Axes>"
      ]
     },
     "metadata": {},
     "output_type": "display_data"
    },
    {
     "data": {
      "image/png": "[encoded data removed]",
      "text/plain": [
       "<Figure size 720x504 with 1 Axes>"
      ]
     },
     "metadata": {
      "needs_background": "light"
     },
     "output_type": "display_data"
    }
   ],
   "source": [
    "# Plot between '%deaths_every_30days' and target feature 'death_yn'.\n",
    "\n",
    "plt.figure()\n",
    "flierprops = dict(marker='o', markerfacecolor='green', markersize=6, linestyle='none')\n",
    "df_temp.boxplot(['%deaths_every_30days'], by=['death_yn'], flierprops=flierprops, figsize=(10,7))"
   ]
  },
  {
   "cell_type": "code",
   "execution_count": 19,
   "id": "remarkable-shepherd",
   "metadata": {},
   "outputs": [
    {
     "data": {
      "text/plain": [
       "Text(0, 0.5, '% deaths')"
      ]
     },
     "execution_count": 19,
     "metadata": {},
     "output_type": "execute_result"
    },
    {
     "data": {
      "image/png": "[encoded data removed]",
      "text/plain": [
       "<Figure size 1080x504 with 1 Axes>"
      ]
     },
     "metadata": {
      "needs_background": "light"
     },
     "output_type": "display_data"
    }
   ],
   "source": [
    "group = df_temp[['percent','Is_person_Waited_OR_Not','death_yn']].groupby(['Is_person_Waited_OR_Not','death_yn']).sum()\n",
    "\n",
    "my_plot = group.unstack().plot(kind='bar', stacked=True, title=\"death_yn vs Is_person_Waited_OR_Not\", figsize=(15,7), grid=True)\n",
    "\n",
    "# add legend     \n",
    "my_plot.legend([\"No\",\"Yes\"])\n",
    "\n",
    "# add gridlines\n",
    "plt.grid(b=True, which='major', color='#666666', linestyle='-')\n",
    "plt.minorticks_on()\n",
    "plt.grid(b=True, which='minor', color='#999999', linestyle='-', alpha=0.2)\n",
    "plt.xticks(rotation=0, ha='right')\n",
    "\n",
    "my_plot.set_xlabel('Is_person_Waited_OR_Not')\n",
    "my_plot.set_ylabel(\"% deaths\")"
   ]
  },
  {
   "cell_type": "markdown",
   "id": "handmade-halloween",
   "metadata": {},
   "source": [
    "From the above plots, we can observe that the interation between the target and these numerical features is quite good as there is some difference in the number of deaths which is expected as the dataset is imbalanced the deaths value should vary. Also, even the number of deaths are low, the percentage rate is high in every month. Due to which there is more percentage death rate shown in the above box plot. Furthermore, in general the percentage deaths are more when compared with other category which is as expected because during the initial days of covid there were more deaths in USA. \n",
    "\n",
    "On the other hand, the percentage of people who reacted fast are quite equal in both the categories of target feature. Hence this is also a good feature to have in the dataset as it is having some information which will be helpful for modelling.\n",
    "\n",
    "Final continous features:\n",
    "- %deaths_every_30days\n",
    "- Is_person_Waited_OR_Not\n",
    "\n",
    "Dropped continous features:\n",
    "- cdc_case_earliest_dt\n",
    "\n",
    "As it is having a datetime values in the dataset which is not acceptable for modelling. Also, the useful data from this date feature is extracted and created a new feature in the dataset. Due to which there is no use of having this feature for modelling. Hence this feature can be dropped. "
   ]
  },
  {
   "cell_type": "markdown",
   "id": "continued-consistency",
   "metadata": {},
   "source": [
    "### 1.2.3 Plot interaction between categorical features and target feature\n",
    "- Here we will plot a pairwise interaction between each categorical feature against the target feature. \n",
    "- We will discuss what we observe from these plots, e.g., which categorical features seem to be better at predicting the target feature...\n",
    "- We will choose a subset of categorical features we find promising (if any) and justify our choice.\n",
    "\n",
    "Here we have 9 categorical features\n",
    "- A stacked bar plot for each will be created."
   ]
  },
  {
   "cell_type": "code",
   "execution_count": 20,
   "id": "intense-communist",
   "metadata": {},
   "outputs": [
    {
     "name": "stdout",
     "output_type": "stream",
     "text": [
      "\n",
      "\u001b[1mcurrent_status\u001b[0m\n",
      "Index \t Count\n",
      "Laboratory-confirmed case \t 6241\n",
      "Probable Case \t 433\n",
      "\n",
      "\u001b[1msex\u001b[0m\n",
      "Index \t Count\n",
      "Female \t 3500\n",
      "Male \t 3115\n",
      "Unknown \t 58\n",
      "Other \t 1\n",
      "\n",
      "\u001b[1mage_group\u001b[0m\n",
      "Index \t Count\n",
      "60 - 69 Years \t 716\n",
      "80+ Years \t 308\n",
      "70 - 79 Years \t 411\n",
      "50 - 59 Years \t 987\n",
      "30 - 39 Years \t 1059\n",
      "20 - 29 Years \t 1248\n",
      "0 - 9 Years \t 297\n",
      "40 - 49 Years \t 937\n",
      "10 - 19 Years \t 711\n",
      "\n",
      "\u001b[1mrace_ethnicity_combined\u001b[0m\n",
      "Index \t Count\n",
      "White, Non-Hispanic \t 2253\n",
      "Missing \t 2661\n",
      "Hispanic/Latino \t 700\n",
      "Black, Non-Hispanic \t 473\n",
      "Asian, Non-Hispanic \t 182\n",
      "Multiple/Other, Non-Hispanic \t 347\n",
      "American Indian/Alaska Native, Non-Hispanic \t 44\n",
      "Native Hawaiian/Other Pacific Islander, Non-Hispanic \t 14\n",
      "\n",
      "\u001b[1mhosp_yn\u001b[0m\n",
      "Index \t Count\n",
      "No \t 3581\n",
      "Missing \t 2636\n",
      "Yes \t 455\n",
      "OTH \t 2\n",
      "\n",
      "\u001b[1micu_yn\u001b[0m\n",
      "Index \t Count\n",
      "Missing \t 5952\n",
      "No \t 669\n",
      "Yes \t 53\n",
      "\n",
      "\u001b[1mdeath_yn\u001b[0m\n",
      "Index \t Count\n",
      "\n",
      "\u001b[1mmedcond_yn\u001b[0m\n",
      "Index \t Count\n",
      "Missing \t 5438\n",
      "Yes \t 551\n",
      "No \t 685\n",
      "\n",
      "\u001b[1mSeasons\u001b[0m\n",
      "Index \t Count\n",
      "Autumn \t 2132\n",
      "Spring \t 792\n",
      "Winter \t 2281\n",
      "Summer \t 1469\n"
     ]
    },
    {
     "data": {
      "image/png": "[encoded data removed]",
      "text/plain": [
       "<Figure size 1080x504 with 1 Axes>"
      ]
     },
     "metadata": {
      "needs_background": "light"
     },
     "output_type": "display_data"
    },
    {
     "data": {
      "image/png": "[encoded data removed]",
      "text/plain": [
       "<Figure size 1080x504 with 1 Axes>"
      ]
     },
     "metadata": {
      "needs_background": "light"
     },
     "output_type": "display_data"
    },
    {
     "data": {
      "image/png": "[encoded data removed]",
      "text/plain": [
       "<Figure size 1080x504 with 1 Axes>"
      ]
     },
     "metadata": {
      "needs_background": "light"
     },
     "output_type": "display_data"
    },
    {
     "data": {
      "image/png": "[encoded data removed]",
      "text/plain": [
       "<Figure size 1080x504 with 1 Axes>"
      ]
     },
     "metadata": {
      "needs_background": "light"
     },
     "output_type": "display_data"
    },
    {
     "data": {
      "image/png": "[encoded data removed]",
      "text/plain": [
       "<Figure size 1080x504 with 1 Axes>"
      ]
     },
     "metadata": {
      "needs_background": "light"
     },
     "output_type": "display_data"
    },
    {
     "data": {
      "image/png": "[encoded data removed]",
      "text/plain": [
       "<Figure size 1080x504 with 1 Axes>"
      ]
     },
     "metadata": {
      "needs_background": "light"
     },
     "output_type": "display_data"
    },
    {
     "data": {
      "image/png": "[encoded data removed]",
      "text/plain": [
       "<Figure size 1080x504 with 1 Axes>"
      ]
     },
     "metadata": {
      "needs_background": "light"
     },
     "output_type": "display_data"
    },
    {
     "data": {
      "image/png": "[encoded data removed]",
      "text/plain": [
       "<Figure size 1080x504 with 1 Axes>"
      ]
     },
     "metadata": {
      "needs_background": "light"
     },
     "output_type": "display_data"
    }
   ],
   "source": [
    "#Using code from the module lab\n",
    "\n",
    "# to loop through all the features in categorical columns \n",
    "for second_feature in Category_features:\n",
    "    details_of_feature = pd.unique(df_temp[second_feature].ravel())\n",
    "\n",
    "    # add new column and set values to zero\n",
    "    df_temp['percent'] = 0\n",
    "\n",
    "    #print header\n",
    "    print(\"\\n\" + '\\033[1m' +second_feature+ '\\033[0m')\n",
    "    print(\"Index \\t Count\")\n",
    "    \n",
    "#  to avoid plotting between death_yn vs death_yn\n",
    "    if('death_yn' != second_feature):\n",
    "            \n",
    "\n",
    "        # for each delinquency category\n",
    "        for i in details_of_feature:\n",
    "\n",
    "            count = df_temp[df_temp[second_feature] == i].count()['death_yn']\n",
    "            count_percentage = (1 / count) * 100\n",
    "\n",
    "            # print out index vs count\n",
    "            print(i, \"\\t\", count)\n",
    "\n",
    "            index_list = df_temp[df_temp[second_feature] == i].index.tolist()\n",
    "            for ind in index_list:\n",
    "                df_temp.loc[ind, 'percent'] = count_percentage\n",
    "\n",
    "        group = df_temp[['percent',second_feature,'death_yn']].groupby([second_feature,'death_yn']).sum()\n",
    "\n",
    "        my_plot = group.unstack().plot(kind='bar', stacked=True, title=\"death_yn vs \"+second_feature, figsize=(15,7), grid=True)\n",
    "\n",
    "        # add legend     \n",
    "        my_plot.legend([\"No\",\"Yes\"])\n",
    "        \n",
    "        # add gridlines\n",
    "        plt.grid(b=True, which='major', color='#666666', linestyle='-')\n",
    "        plt.minorticks_on()\n",
    "        plt.grid(b=True, which='minor', color='#999999', linestyle='-', alpha=0.2)\n",
    "        plt.xticks(rotation=30, ha='right')\n",
    "        \n",
    "        my_plot.set_xlabel(second_feature)\n",
    "        my_plot.set_ylabel(\"% deaths\")\n",
    "        my_plot.set_ylim([0,100])\n",
    "       \n",
    "    else:\n",
    "        continue\n",
    "        \n",
    "    \n",
    "# drop 'percent' that was used only for stacked bar plot\n",
    "df_temp = df_temp.drop(\"percent\", 1)"
   ]
  },
  {
   "cell_type": "markdown",
   "id": "elect-catch",
   "metadata": {},
   "source": [
    "From the above stacked plots, we can observe that the current_status is not having a good relation with the target feature as the categories in this feature are having equal weight but according to the actual data the values are not same. Hence the stacked plot is contradicting the actual data and is not having any information. Hence this makes the prediction balanced and cannnot give a appropriate results. Therefore, this feature can be dropped from the dataset.\n",
    "\n",
    "\n",
    "Final categorical feature selection :<br>\n",
    "Except the current_status all other features seems to have a good relation with respect to target feature and hence lets keep all of them."
   ]
  },
  {
   "cell_type": "markdown",
   "id": "convinced-extraction",
   "metadata": {},
   "source": [
    "### 1.2.4 Summary & Drop Features\n",
    "\n",
    "From the above analysis, we have decided to drop one categorical feature i.e. 'current_status'"
   ]
  },
  {
   "cell_type": "code",
   "execution_count": 21,
   "id": "useful-script",
   "metadata": {},
   "outputs": [],
   "source": [
    "# remove 'percent' feature that was used only for generating the stacked bar plot from the last homework. This should have been deleted in the last homework\n",
    "df = df.drop(\"percent\", 1)"
   ]
  },
  {
   "cell_type": "code",
   "execution_count": 22,
   "id": "peripheral-admission",
   "metadata": {},
   "outputs": [
    {
     "name": "stdout",
     "output_type": "stream",
     "text": [
      "\n",
      "Remaining columns: Index(['cdc_case_earliest_dt', 'sex', 'age_group', 'race_ethnicity_combined',\n",
      "       'hosp_yn', 'icu_yn', 'death_yn', 'medcond_yn', '%deaths_every_30days',\n",
      "       'Seasons', 'Is_person_Waited_OR_Not'],\n",
      "      dtype='object')\n",
      "\n",
      "New shape: (9535, 11)\n"
     ]
    }
   ],
   "source": [
    "# before dropping make copy of original\n",
    "df_model = df.copy()\n",
    "# drop low value features\n",
    "df_model.drop('current_status', 1, inplace=True)\n",
    "print('\\nRemaining columns:', df_model.columns)\n",
    "print('\\nNew shape:', df_model.shape)"
   ]
  },
  {
   "cell_type": "code",
   "execution_count": 23,
   "id": "fiscal-chance",
   "metadata": {},
   "outputs": [],
   "source": [
    "# The cdc_case_earliest_dt can be dropped from the dataframe as the datetime values are not accepted by the model. \n",
    "#Also, the information from this feature is extracted and created a new featuer which is in use.\n",
    "# Hence drop this feature.\n",
    "\n",
    "df_model = df_model.drop(['cdc_case_earliest_dt'],1)"
   ]
  },
  {
   "cell_type": "code",
   "execution_count": 24,
   "id": "indian-present",
   "metadata": {},
   "outputs": [
    {
     "data": {
      "text/html": [
       "<div>\n",
       "<style scoped>\n",
       "    .dataframe tbody tr th:only-of-type {\n",
       "        vertical-align: middle;\n",
       "    }\n",
       "\n",
       "    .dataframe tbody tr th {\n",
       "        vertical-align: top;\n",
       "    }\n",
       "\n",
       "    .dataframe thead th {\n",
       "        text-align: right;\n",
       "    }\n",
       "</style>\n",
       "<table border=\"1\" class=\"dataframe\">\n",
       "  <thead>\n",
       "    <tr style=\"text-align: right;\">\n",
       "      <th></th>\n",
       "      <th>sex</th>\n",
       "      <th>age_group</th>\n",
       "      <th>race_ethnicity_combined</th>\n",
       "      <th>hosp_yn</th>\n",
       "      <th>icu_yn</th>\n",
       "      <th>death_yn</th>\n",
       "      <th>medcond_yn</th>\n",
       "      <th>%deaths_every_30days</th>\n",
       "      <th>Seasons</th>\n",
       "      <th>Is_person_Waited_OR_Not</th>\n",
       "    </tr>\n",
       "  </thead>\n",
       "  <tbody>\n",
       "    <tr>\n",
       "      <th>0</th>\n",
       "      <td>Male</td>\n",
       "      <td>30 - 39 Years</td>\n",
       "      <td>White, Non-Hispanic</td>\n",
       "      <td>Missing</td>\n",
       "      <td>Missing</td>\n",
       "      <td>No</td>\n",
       "      <td>Missing</td>\n",
       "      <td>2.955426</td>\n",
       "      <td>Winter</td>\n",
       "      <td>0.0</td>\n",
       "    </tr>\n",
       "    <tr>\n",
       "      <th>1</th>\n",
       "      <td>Female</td>\n",
       "      <td>10 - 19 Years</td>\n",
       "      <td>Missing</td>\n",
       "      <td>Missing</td>\n",
       "      <td>Missing</td>\n",
       "      <td>No</td>\n",
       "      <td>Missing</td>\n",
       "      <td>3.080569</td>\n",
       "      <td>Autumn</td>\n",
       "      <td>0.0</td>\n",
       "    </tr>\n",
       "    <tr>\n",
       "      <th>2</th>\n",
       "      <td>Female</td>\n",
       "      <td>30 - 39 Years</td>\n",
       "      <td>Missing</td>\n",
       "      <td>No</td>\n",
       "      <td>Missing</td>\n",
       "      <td>No</td>\n",
       "      <td>No</td>\n",
       "      <td>2.955426</td>\n",
       "      <td>Winter</td>\n",
       "      <td>1.0</td>\n",
       "    </tr>\n",
       "    <tr>\n",
       "      <th>3</th>\n",
       "      <td>Male</td>\n",
       "      <td>20 - 29 Years</td>\n",
       "      <td>Black, Non-Hispanic</td>\n",
       "      <td>Missing</td>\n",
       "      <td>Missing</td>\n",
       "      <td>No</td>\n",
       "      <td>No</td>\n",
       "      <td>4.191617</td>\n",
       "      <td>Summer</td>\n",
       "      <td>1.0</td>\n",
       "    </tr>\n",
       "    <tr>\n",
       "      <th>4</th>\n",
       "      <td>Female</td>\n",
       "      <td>20 - 29 Years</td>\n",
       "      <td>Missing</td>\n",
       "      <td>No</td>\n",
       "      <td>Missing</td>\n",
       "      <td>No</td>\n",
       "      <td>Missing</td>\n",
       "      <td>2.955426</td>\n",
       "      <td>Winter</td>\n",
       "      <td>0.0</td>\n",
       "    </tr>\n",
       "  </tbody>\n",
       "</table>\n",
       "</div>"
      ],
      "text/plain": [
       "      sex      age_group race_ethnicity_combined  hosp_yn   icu_yn death_yn  \\\n",
       "0    Male  30 - 39 Years     White, Non-Hispanic  Missing  Missing       No   \n",
       "1  Female  10 - 19 Years                 Missing  Missing  Missing       No   \n",
       "2  Female  30 - 39 Years                 Missing       No  Missing       No   \n",
       "3    Male  20 - 29 Years     Black, Non-Hispanic  Missing  Missing       No   \n",
       "4  Female  20 - 29 Years                 Missing       No  Missing       No   \n",
       "\n",
       "  medcond_yn  %deaths_every_30days Seasons  Is_person_Waited_OR_Not  \n",
       "0    Missing              2.955426  Winter                      0.0  \n",
       "1    Missing              3.080569  Autumn                      0.0  \n",
       "2         No              2.955426  Winter                      1.0  \n",
       "3         No              4.191617  Summer                      1.0  \n",
       "4    Missing              2.955426  Winter                      0.0  "
      ]
     },
     "execution_count": 24,
     "metadata": {},
     "output_type": "execute_result"
    }
   ],
   "source": [
    "df_model.head()"
   ]
  },
  {
   "cell_type": "markdown",
   "id": "daily-stand",
   "metadata": {},
   "source": [
    "## 1.3 Prepare dataset for modeling\n",
    "Now we have picked our descriptive features for the whole dataset, a number of additional steps will need to be taken to prepare the dataset for modeling \n",
    "- We will now convert the categorical variables into dummies variable to allow modeling\n",
    "- We will then remove the redundant dummies which contain no additional information\n",
    "- We will then set up the train test split again based on the dataset with the dummies included"
   ]
  },
  {
   "cell_type": "markdown",
   "id": "geological-cemetery",
   "metadata": {},
   "source": [
    "#### Set up dummy features. \n",
    "This will split up each categorical feature into a number of dummy features. The data type changes to \"uint8\""
   ]
  },
  {
   "cell_type": "code",
   "execution_count": 25,
   "id": "desperate-aspect",
   "metadata": {},
   "outputs": [
    {
     "data": {
      "text/plain": [
       "%deaths_every_30days                                                            float64\n",
       "Is_person_Waited_OR_Not                                                         float64\n",
       "sex_Female                                                                        uint8\n",
       "sex_Male                                                                          uint8\n",
       "sex_Other                                                                         uint8\n",
       "sex_Unknown                                                                       uint8\n",
       "age_group_0 - 9 Years                                                             uint8\n",
       "age_group_10 - 19 Years                                                           uint8\n",
       "age_group_20 - 29 Years                                                           uint8\n",
       "age_group_30 - 39 Years                                                           uint8\n",
       "age_group_40 - 49 Years                                                           uint8\n",
       "age_group_50 - 59 Years                                                           uint8\n",
       "age_group_60 - 69 Years                                                           uint8\n",
       "age_group_70 - 79 Years                                                           uint8\n",
       "age_group_80+ Years                                                               uint8\n",
       "race_ethnicity_combined_American Indian/Alaska Native, Non-Hispanic               uint8\n",
       "race_ethnicity_combined_Asian, Non-Hispanic                                       uint8\n",
       "race_ethnicity_combined_Black, Non-Hispanic                                       uint8\n",
       "race_ethnicity_combined_Hispanic/Latino                                           uint8\n",
       "race_ethnicity_combined_Missing                                                   uint8\n",
       "race_ethnicity_combined_Multiple/Other, Non-Hispanic                              uint8\n",
       "race_ethnicity_combined_Native Hawaiian/Other Pacific Islander, Non-Hispanic      uint8\n",
       "race_ethnicity_combined_White, Non-Hispanic                                       uint8\n",
       "hosp_yn_Missing                                                                   uint8\n",
       "hosp_yn_No                                                                        uint8\n",
       "hosp_yn_OTH                                                                       uint8\n",
       "hosp_yn_Yes                                                                       uint8\n",
       "icu_yn_Missing                                                                    uint8\n",
       "icu_yn_No                                                                         uint8\n",
       "icu_yn_Yes                                                                        uint8\n",
       "death_yn_No                                                                       uint8\n",
       "death_yn_Yes                                                                      uint8\n",
       "medcond_yn_Missing                                                                uint8\n",
       "medcond_yn_No                                                                     uint8\n",
       "medcond_yn_Yes                                                                    uint8\n",
       "Seasons_Autumn                                                                    uint8\n",
       "Seasons_Spring                                                                    uint8\n",
       "Seasons_Summer                                                                    uint8\n",
       "Seasons_Winter                                                                    uint8\n",
       "dtype: object"
      ]
     },
     "execution_count": 25,
     "metadata": {},
     "output_type": "execute_result"
    }
   ],
   "source": [
    "# set up dummies features\n",
    "df_model = pd.get_dummies(df_model)\n",
    "df_model.dtypes"
   ]
  },
  {
   "cell_type": "markdown",
   "id": "everyday-praise",
   "metadata": {},
   "source": [
    "#### Remove redundant features\n",
    "We do not need to keep \n",
    "'death_yn_No','sex_Unknown','age_group_80+Years','race_ethnicity_combined_Missing','hosp_yn_Missing','icu_yn_Missing','medcond_yn_Missing','Seasons_Winter'. \n",
    "\n",
    "The other columns of each category will tell whether this value is 1 or not. Hence these above columns does not required as the same information is extracted from other features of each category. Hence drop these features from the dataframe."
   ]
  },
  {
   "cell_type": "code",
   "execution_count": 26,
   "id": "later-stick",
   "metadata": {},
   "outputs": [],
   "source": [
    "df_model = df_model.drop(['death_yn_No','sex_Unknown','age_group_80+ Years','race_ethnicity_combined_Missing','hosp_yn_Missing','icu_yn_Missing','medcond_yn_Missing','Seasons_Winter'],1)"
   ]
  },
  {
   "cell_type": "markdown",
   "id": "phantom-canada",
   "metadata": {},
   "source": [
    "#### Continuous columns are:"
   ]
  },
  {
   "cell_type": "code",
   "execution_count": 27,
   "id": "surrounded-nomination",
   "metadata": {},
   "outputs": [
    {
     "data": {
      "text/plain": [
       "['%deaths_every_30days', 'Is_person_Waited_OR_Not']"
      ]
     },
     "execution_count": 27,
     "metadata": {},
     "output_type": "execute_result"
    }
   ],
   "source": [
    "continuous_columns = df_model.select_dtypes(include=['float64']).columns.tolist()\n",
    "continuous_columns"
   ]
  },
  {
   "cell_type": "code",
   "execution_count": 28,
   "id": "friendly-action",
   "metadata": {},
   "outputs": [
    {
     "data": {
      "text/plain": [
       "['sex_Female',\n",
       " 'sex_Male',\n",
       " 'sex_Other',\n",
       " 'age_group_0 - 9 Years',\n",
       " 'age_group_10 - 19 Years',\n",
       " 'age_group_20 - 29 Years',\n",
       " 'age_group_30 - 39 Years',\n",
       " 'age_group_40 - 49 Years',\n",
       " 'age_group_50 - 59 Years',\n",
       " 'age_group_60 - 69 Years',\n",
       " 'age_group_70 - 79 Years',\n",
       " 'race_ethnicity_combined_American Indian/Alaska Native, Non-Hispanic',\n",
       " 'race_ethnicity_combined_Asian, Non-Hispanic',\n",
       " 'race_ethnicity_combined_Black, Non-Hispanic',\n",
       " 'race_ethnicity_combined_Hispanic/Latino',\n",
       " 'race_ethnicity_combined_Multiple/Other, Non-Hispanic',\n",
       " 'race_ethnicity_combined_Native Hawaiian/Other Pacific Islander, Non-Hispanic',\n",
       " 'race_ethnicity_combined_White, Non-Hispanic',\n",
       " 'hosp_yn_No',\n",
       " 'hosp_yn_OTH',\n",
       " 'hosp_yn_Yes',\n",
       " 'icu_yn_No',\n",
       " 'icu_yn_Yes',\n",
       " 'medcond_yn_No',\n",
       " 'medcond_yn_Yes',\n",
       " 'Seasons_Autumn',\n",
       " 'Seasons_Spring',\n",
       " 'Seasons_Summer']"
      ]
     },
     "execution_count": 28,
     "metadata": {},
     "output_type": "execute_result"
    }
   ],
   "source": [
    "categorical_columns = df_model.select_dtypes(include=['uint8']).columns.tolist()\n",
    "\n",
    "# remove the target \"death_yn_No\"\n",
    "categorical_columns.remove('death_yn_Yes')\n",
    "categorical_columns"
   ]
  },
  {
   "cell_type": "markdown",
   "id": "flexible-universe",
   "metadata": {},
   "source": [
    "#### Total features are:"
   ]
  },
  {
   "cell_type": "code",
   "execution_count": 29,
   "id": "hundred-enemy",
   "metadata": {},
   "outputs": [
    {
     "data": {
      "text/plain": [
       "['%deaths_every_30days',\n",
       " 'Is_person_Waited_OR_Not',\n",
       " 'sex_Female',\n",
       " 'sex_Male',\n",
       " 'sex_Other',\n",
       " 'age_group_0 - 9 Years',\n",
       " 'age_group_10 - 19 Years',\n",
       " 'age_group_20 - 29 Years',\n",
       " 'age_group_30 - 39 Years',\n",
       " 'age_group_40 - 49 Years',\n",
       " 'age_group_50 - 59 Years',\n",
       " 'age_group_60 - 69 Years',\n",
       " 'age_group_70 - 79 Years',\n",
       " 'race_ethnicity_combined_American Indian/Alaska Native, Non-Hispanic',\n",
       " 'race_ethnicity_combined_Asian, Non-Hispanic',\n",
       " 'race_ethnicity_combined_Black, Non-Hispanic',\n",
       " 'race_ethnicity_combined_Hispanic/Latino',\n",
       " 'race_ethnicity_combined_Multiple/Other, Non-Hispanic',\n",
       " 'race_ethnicity_combined_Native Hawaiian/Other Pacific Islander, Non-Hispanic',\n",
       " 'race_ethnicity_combined_White, Non-Hispanic',\n",
       " 'hosp_yn_No',\n",
       " 'hosp_yn_OTH',\n",
       " 'hosp_yn_Yes',\n",
       " 'icu_yn_No',\n",
       " 'icu_yn_Yes',\n",
       " 'medcond_yn_No',\n",
       " 'medcond_yn_Yes',\n",
       " 'Seasons_Autumn',\n",
       " 'Seasons_Spring',\n",
       " 'Seasons_Summer']"
      ]
     },
     "execution_count": 29,
     "metadata": {},
     "output_type": "execute_result"
    }
   ],
   "source": [
    "features = continuous_columns + categorical_columns\n",
    "features"
   ]
  },
  {
   "cell_type": "markdown",
   "id": "italic-scroll",
   "metadata": {},
   "source": [
    "### Setting up the train/test split\n",
    "- This is based on the dataset with dummy values\n",
    "- The Target is stored in dataframe \"y\"\n",
    "- The remaining features are stored in dataframe \"X\"\n",
    "- Both are split into training and test subsets"
   ]
  },
  {
   "cell_type": "code",
   "execution_count": 30,
   "id": "brown-exchange",
   "metadata": {},
   "outputs": [
    {
     "name": "stdout",
     "output_type": "stream",
     "text": [
      "original range is:  9535\n",
      "training range (70%):\t rows 0 to 6674\n",
      "test range (30%): \t rows 6674 to 9535\n"
     ]
    }
   ],
   "source": [
    "# y is the target\n",
    "y = df_model[\"death_yn_Yes\"]\n",
    "# X is everything else\n",
    "X = df_model.drop([\"death_yn_Yes\"],1)\n",
    "# Split the dataset into two datasets: 70% training and 30% test\n",
    "X_train, X_test, y_train, y_test = train_test_split(X, y, random_state=1,  test_size=0.3)\n",
    "\n",
    "print(\"original range is: \",df_model.shape[0])\n",
    "print(\"training range (70%):\\t rows 0 to\", round(X_train.shape[0]))\n",
    "print(\"test range (30%): \\t rows\", round(X_train.shape[0]), \"to\", round(X_train.shape[0]) + X_test.shape[0])"
   ]
  },
  {
   "cell_type": "code",
   "execution_count": 31,
   "id": "specific-analyst",
   "metadata": {},
   "outputs": [
    {
     "name": "stdout",
     "output_type": "stream",
     "text": [
      "\n",
      "Descriptive features in X:\n",
      "       %deaths_every_30days  Is_person_Waited_OR_Not  sex_Female  sex_Male  \\\n",
      "724               2.305665                      0.0           1         0   \n",
      "5118              4.460094                      0.0           1         0   \n",
      "7756             15.555556                      1.0           1         0   \n",
      "8398              0.822123                      0.0           0         1   \n",
      "4594             15.555556                      1.0           0         1   \n",
      "\n",
      "      sex_Other  age_group_0 - 9 Years  age_group_10 - 19 Years  \\\n",
      "724           0                      0                        0   \n",
      "5118          0                      0                        0   \n",
      "7756          0                      0                        0   \n",
      "8398          0                      0                        0   \n",
      "4594          0                      0                        0   \n",
      "\n",
      "      age_group_20 - 29 Years  age_group_30 - 39 Years  \\\n",
      "724                         0                        0   \n",
      "5118                        0                        0   \n",
      "7756                        0                        0   \n",
      "8398                        0                        0   \n",
      "4594                        0                        0   \n",
      "\n",
      "      age_group_40 - 49 Years  ...  hosp_yn_No  hosp_yn_OTH  hosp_yn_Yes  \\\n",
      "724                         0  ...           1            0            0   \n",
      "5118                        0  ...           0            0            0   \n",
      "7756                        0  ...           1            0            0   \n",
      "8398                        0  ...           1            0            0   \n",
      "4594                        0  ...           0            0            1   \n",
      "\n",
      "      icu_yn_No  icu_yn_Yes  medcond_yn_No  medcond_yn_Yes  Seasons_Autumn  \\\n",
      "724           0           0              0               0               1   \n",
      "5118          0           0              0               1               0   \n",
      "7756          0           0              0               1               0   \n",
      "8398          0           0              0               0               0   \n",
      "4594          1           0              0               1               0   \n",
      "\n",
      "      Seasons_Spring  Seasons_Summer  \n",
      "724                0               0  \n",
      "5118               1               0  \n",
      "7756               1               0  \n",
      "8398               0               0  \n",
      "4594               1               0  \n",
      "\n",
      "[5 rows x 30 columns]\n",
      "\n",
      "Target feature in y:\n",
      " 724     0\n",
      "5118    1\n",
      "7756    0\n",
      "8398    0\n",
      "4594    0\n",
      "Name: death_yn_Yes, dtype: uint8\n"
     ]
    }
   ],
   "source": [
    "print(\"\\nDescriptive features in X:\\n\", X_train.head(5))\n",
    "print(\"\\nTarget feature in y:\\n\", y_train.head(5))"
   ]
  },
  {
   "cell_type": "markdown",
   "id": "seeing-transport",
   "metadata": {},
   "source": [
    "#### Reset the indexes of the training and test splits\n",
    "- We can see from the X_train printout below that the indexes are no longer consecutive\n",
    "- This is the same for y_train, X_test, y_test\n",
    "- This will need to be dealt with next as it will effect merging of dataframes in the coming sections"
   ]
  },
  {
   "cell_type": "code",
   "execution_count": 32,
   "id": "uniform-chamber",
   "metadata": {},
   "outputs": [
    {
     "data": {
      "text/html": [
       "<div>\n",
       "<style scoped>\n",
       "    .dataframe tbody tr th:only-of-type {\n",
       "        vertical-align: middle;\n",
       "    }\n",
       "\n",
       "    .dataframe tbody tr th {\n",
       "        vertical-align: top;\n",
       "    }\n",
       "\n",
       "    .dataframe thead th {\n",
       "        text-align: right;\n",
       "    }\n",
       "</style>\n",
       "<table border=\"1\" class=\"dataframe\">\n",
       "  <thead>\n",
       "    <tr style=\"text-align: right;\">\n",
       "      <th></th>\n",
       "      <th>%deaths_every_30days</th>\n",
       "      <th>Is_person_Waited_OR_Not</th>\n",
       "      <th>sex_Female</th>\n",
       "      <th>sex_Male</th>\n",
       "      <th>sex_Other</th>\n",
       "      <th>age_group_0 - 9 Years</th>\n",
       "      <th>age_group_10 - 19 Years</th>\n",
       "      <th>age_group_20 - 29 Years</th>\n",
       "      <th>age_group_30 - 39 Years</th>\n",
       "      <th>age_group_40 - 49 Years</th>\n",
       "      <th>...</th>\n",
       "      <th>hosp_yn_No</th>\n",
       "      <th>hosp_yn_OTH</th>\n",
       "      <th>hosp_yn_Yes</th>\n",
       "      <th>icu_yn_No</th>\n",
       "      <th>icu_yn_Yes</th>\n",
       "      <th>medcond_yn_No</th>\n",
       "      <th>medcond_yn_Yes</th>\n",
       "      <th>Seasons_Autumn</th>\n",
       "      <th>Seasons_Spring</th>\n",
       "      <th>Seasons_Summer</th>\n",
       "    </tr>\n",
       "  </thead>\n",
       "  <tbody>\n",
       "    <tr>\n",
       "      <th>724</th>\n",
       "      <td>2.305665</td>\n",
       "      <td>0.0</td>\n",
       "      <td>1</td>\n",
       "      <td>0</td>\n",
       "      <td>0</td>\n",
       "      <td>0</td>\n",
       "      <td>0</td>\n",
       "      <td>0</td>\n",
       "      <td>0</td>\n",
       "      <td>0</td>\n",
       "      <td>...</td>\n",
       "      <td>1</td>\n",
       "      <td>0</td>\n",
       "      <td>0</td>\n",
       "      <td>0</td>\n",
       "      <td>0</td>\n",
       "      <td>0</td>\n",
       "      <td>0</td>\n",
       "      <td>1</td>\n",
       "      <td>0</td>\n",
       "      <td>0</td>\n",
       "    </tr>\n",
       "    <tr>\n",
       "      <th>5118</th>\n",
       "      <td>4.460094</td>\n",
       "      <td>0.0</td>\n",
       "      <td>1</td>\n",
       "      <td>0</td>\n",
       "      <td>0</td>\n",
       "      <td>0</td>\n",
       "      <td>0</td>\n",
       "      <td>0</td>\n",
       "      <td>0</td>\n",
       "      <td>0</td>\n",
       "      <td>...</td>\n",
       "      <td>0</td>\n",
       "      <td>0</td>\n",
       "      <td>0</td>\n",
       "      <td>0</td>\n",
       "      <td>0</td>\n",
       "      <td>0</td>\n",
       "      <td>1</td>\n",
       "      <td>0</td>\n",
       "      <td>1</td>\n",
       "      <td>0</td>\n",
       "    </tr>\n",
       "    <tr>\n",
       "      <th>7756</th>\n",
       "      <td>15.555556</td>\n",
       "      <td>1.0</td>\n",
       "      <td>1</td>\n",
       "      <td>0</td>\n",
       "      <td>0</td>\n",
       "      <td>0</td>\n",
       "      <td>0</td>\n",
       "      <td>0</td>\n",
       "      <td>0</td>\n",
       "      <td>0</td>\n",
       "      <td>...</td>\n",
       "      <td>1</td>\n",
       "      <td>0</td>\n",
       "      <td>0</td>\n",
       "      <td>0</td>\n",
       "      <td>0</td>\n",
       "      <td>0</td>\n",
       "      <td>1</td>\n",
       "      <td>0</td>\n",
       "      <td>1</td>\n",
       "      <td>0</td>\n",
       "    </tr>\n",
       "    <tr>\n",
       "      <th>8398</th>\n",
       "      <td>0.822123</td>\n",
       "      <td>0.0</td>\n",
       "      <td>0</td>\n",
       "      <td>1</td>\n",
       "      <td>0</td>\n",
       "      <td>0</td>\n",
       "      <td>0</td>\n",
       "      <td>0</td>\n",
       "      <td>0</td>\n",
       "      <td>0</td>\n",
       "      <td>...</td>\n",
       "      <td>1</td>\n",
       "      <td>0</td>\n",
       "      <td>0</td>\n",
       "      <td>0</td>\n",
       "      <td>0</td>\n",
       "      <td>0</td>\n",
       "      <td>0</td>\n",
       "      <td>0</td>\n",
       "      <td>0</td>\n",
       "      <td>0</td>\n",
       "    </tr>\n",
       "    <tr>\n",
       "      <th>4594</th>\n",
       "      <td>15.555556</td>\n",
       "      <td>1.0</td>\n",
       "      <td>0</td>\n",
       "      <td>1</td>\n",
       "      <td>0</td>\n",
       "      <td>0</td>\n",
       "      <td>0</td>\n",
       "      <td>0</td>\n",
       "      <td>0</td>\n",
       "      <td>0</td>\n",
       "      <td>...</td>\n",
       "      <td>0</td>\n",
       "      <td>0</td>\n",
       "      <td>1</td>\n",
       "      <td>1</td>\n",
       "      <td>0</td>\n",
       "      <td>0</td>\n",
       "      <td>1</td>\n",
       "      <td>0</td>\n",
       "      <td>1</td>\n",
       "      <td>0</td>\n",
       "    </tr>\n",
       "  </tbody>\n",
       "</table>\n",
       "<p>5 rows × 30 columns</p>\n",
       "</div>"
      ],
      "text/plain": [
       "      %deaths_every_30days  Is_person_Waited_OR_Not  sex_Female  sex_Male  \\\n",
       "724               2.305665                      0.0           1         0   \n",
       "5118              4.460094                      0.0           1         0   \n",
       "7756             15.555556                      1.0           1         0   \n",
       "8398              0.822123                      0.0           0         1   \n",
       "4594             15.555556                      1.0           0         1   \n",
       "\n",
       "      sex_Other  age_group_0 - 9 Years  age_group_10 - 19 Years  \\\n",
       "724           0                      0                        0   \n",
       "5118          0                      0                        0   \n",
       "7756          0                      0                        0   \n",
       "8398          0                      0                        0   \n",
       "4594          0                      0                        0   \n",
       "\n",
       "      age_group_20 - 29 Years  age_group_30 - 39 Years  \\\n",
       "724                         0                        0   \n",
       "5118                        0                        0   \n",
       "7756                        0                        0   \n",
       "8398                        0                        0   \n",
       "4594                        0                        0   \n",
       "\n",
       "      age_group_40 - 49 Years  ...  hosp_yn_No  hosp_yn_OTH  hosp_yn_Yes  \\\n",
       "724                         0  ...           1            0            0   \n",
       "5118                        0  ...           0            0            0   \n",
       "7756                        0  ...           1            0            0   \n",
       "8398                        0  ...           1            0            0   \n",
       "4594                        0  ...           0            0            1   \n",
       "\n",
       "      icu_yn_No  icu_yn_Yes  medcond_yn_No  medcond_yn_Yes  Seasons_Autumn  \\\n",
       "724           0           0              0               0               1   \n",
       "5118          0           0              0               1               0   \n",
       "7756          0           0              0               1               0   \n",
       "8398          0           0              0               0               0   \n",
       "4594          1           0              0               1               0   \n",
       "\n",
       "      Seasons_Spring  Seasons_Summer  \n",
       "724                0               0  \n",
       "5118               1               0  \n",
       "7756               1               0  \n",
       "8398               0               0  \n",
       "4594               1               0  \n",
       "\n",
       "[5 rows x 30 columns]"
      ]
     },
     "execution_count": 32,
     "metadata": {},
     "output_type": "execute_result"
    }
   ],
   "source": [
    "X_train.head(5)"
   ]
  },
  {
   "cell_type": "markdown",
   "id": "dried-track",
   "metadata": {},
   "source": [
    "We will now reset the index of all training and test dataframes"
   ]
  },
  {
   "cell_type": "code",
   "execution_count": 33,
   "id": "color-basics",
   "metadata": {},
   "outputs": [
    {
     "data": {
      "text/html": [
       "<div>\n",
       "<style scoped>\n",
       "    .dataframe tbody tr th:only-of-type {\n",
       "        vertical-align: middle;\n",
       "    }\n",
       "\n",
       "    .dataframe tbody tr th {\n",
       "        vertical-align: top;\n",
       "    }\n",
       "\n",
       "    .dataframe thead th {\n",
       "        text-align: right;\n",
       "    }\n",
       "</style>\n",
       "<table border=\"1\" class=\"dataframe\">\n",
       "  <thead>\n",
       "    <tr style=\"text-align: right;\">\n",
       "      <th></th>\n",
       "      <th>%deaths_every_30days</th>\n",
       "      <th>Is_person_Waited_OR_Not</th>\n",
       "      <th>sex_Female</th>\n",
       "      <th>sex_Male</th>\n",
       "      <th>sex_Other</th>\n",
       "      <th>age_group_0 - 9 Years</th>\n",
       "      <th>age_group_10 - 19 Years</th>\n",
       "      <th>age_group_20 - 29 Years</th>\n",
       "      <th>age_group_30 - 39 Years</th>\n",
       "      <th>age_group_40 - 49 Years</th>\n",
       "      <th>...</th>\n",
       "      <th>hosp_yn_No</th>\n",
       "      <th>hosp_yn_OTH</th>\n",
       "      <th>hosp_yn_Yes</th>\n",
       "      <th>icu_yn_No</th>\n",
       "      <th>icu_yn_Yes</th>\n",
       "      <th>medcond_yn_No</th>\n",
       "      <th>medcond_yn_Yes</th>\n",
       "      <th>Seasons_Autumn</th>\n",
       "      <th>Seasons_Spring</th>\n",
       "      <th>Seasons_Summer</th>\n",
       "    </tr>\n",
       "  </thead>\n",
       "  <tbody>\n",
       "    <tr>\n",
       "      <th>0</th>\n",
       "      <td>2.305665</td>\n",
       "      <td>0.0</td>\n",
       "      <td>1</td>\n",
       "      <td>0</td>\n",
       "      <td>0</td>\n",
       "      <td>0</td>\n",
       "      <td>0</td>\n",
       "      <td>0</td>\n",
       "      <td>0</td>\n",
       "      <td>0</td>\n",
       "      <td>...</td>\n",
       "      <td>1</td>\n",
       "      <td>0</td>\n",
       "      <td>0</td>\n",
       "      <td>0</td>\n",
       "      <td>0</td>\n",
       "      <td>0</td>\n",
       "      <td>0</td>\n",
       "      <td>1</td>\n",
       "      <td>0</td>\n",
       "      <td>0</td>\n",
       "    </tr>\n",
       "    <tr>\n",
       "      <th>1</th>\n",
       "      <td>4.460094</td>\n",
       "      <td>0.0</td>\n",
       "      <td>1</td>\n",
       "      <td>0</td>\n",
       "      <td>0</td>\n",
       "      <td>0</td>\n",
       "      <td>0</td>\n",
       "      <td>0</td>\n",
       "      <td>0</td>\n",
       "      <td>0</td>\n",
       "      <td>...</td>\n",
       "      <td>0</td>\n",
       "      <td>0</td>\n",
       "      <td>0</td>\n",
       "      <td>0</td>\n",
       "      <td>0</td>\n",
       "      <td>0</td>\n",
       "      <td>1</td>\n",
       "      <td>0</td>\n",
       "      <td>1</td>\n",
       "      <td>0</td>\n",
       "    </tr>\n",
       "    <tr>\n",
       "      <th>2</th>\n",
       "      <td>15.555556</td>\n",
       "      <td>1.0</td>\n",
       "      <td>1</td>\n",
       "      <td>0</td>\n",
       "      <td>0</td>\n",
       "      <td>0</td>\n",
       "      <td>0</td>\n",
       "      <td>0</td>\n",
       "      <td>0</td>\n",
       "      <td>0</td>\n",
       "      <td>...</td>\n",
       "      <td>1</td>\n",
       "      <td>0</td>\n",
       "      <td>0</td>\n",
       "      <td>0</td>\n",
       "      <td>0</td>\n",
       "      <td>0</td>\n",
       "      <td>1</td>\n",
       "      <td>0</td>\n",
       "      <td>1</td>\n",
       "      <td>0</td>\n",
       "    </tr>\n",
       "    <tr>\n",
       "      <th>3</th>\n",
       "      <td>0.822123</td>\n",
       "      <td>0.0</td>\n",
       "      <td>0</td>\n",
       "      <td>1</td>\n",
       "      <td>0</td>\n",
       "      <td>0</td>\n",
       "      <td>0</td>\n",
       "      <td>0</td>\n",
       "      <td>0</td>\n",
       "      <td>0</td>\n",
       "      <td>...</td>\n",
       "      <td>1</td>\n",
       "      <td>0</td>\n",
       "      <td>0</td>\n",
       "      <td>0</td>\n",
       "      <td>0</td>\n",
       "      <td>0</td>\n",
       "      <td>0</td>\n",
       "      <td>0</td>\n",
       "      <td>0</td>\n",
       "      <td>0</td>\n",
       "    </tr>\n",
       "    <tr>\n",
       "      <th>4</th>\n",
       "      <td>15.555556</td>\n",
       "      <td>1.0</td>\n",
       "      <td>0</td>\n",
       "      <td>1</td>\n",
       "      <td>0</td>\n",
       "      <td>0</td>\n",
       "      <td>0</td>\n",
       "      <td>0</td>\n",
       "      <td>0</td>\n",
       "      <td>0</td>\n",
       "      <td>...</td>\n",
       "      <td>0</td>\n",
       "      <td>0</td>\n",
       "      <td>1</td>\n",
       "      <td>1</td>\n",
       "      <td>0</td>\n",
       "      <td>0</td>\n",
       "      <td>1</td>\n",
       "      <td>0</td>\n",
       "      <td>1</td>\n",
       "      <td>0</td>\n",
       "    </tr>\n",
       "  </tbody>\n",
       "</table>\n",
       "<p>5 rows × 30 columns</p>\n",
       "</div>"
      ],
      "text/plain": [
       "   %deaths_every_30days  Is_person_Waited_OR_Not  sex_Female  sex_Male  \\\n",
       "0              2.305665                      0.0           1         0   \n",
       "1              4.460094                      0.0           1         0   \n",
       "2             15.555556                      1.0           1         0   \n",
       "3              0.822123                      0.0           0         1   \n",
       "4             15.555556                      1.0           0         1   \n",
       "\n",
       "   sex_Other  age_group_0 - 9 Years  age_group_10 - 19 Years  \\\n",
       "0          0                      0                        0   \n",
       "1          0                      0                        0   \n",
       "2          0                      0                        0   \n",
       "3          0                      0                        0   \n",
       "4          0                      0                        0   \n",
       "\n",
       "   age_group_20 - 29 Years  age_group_30 - 39 Years  age_group_40 - 49 Years  \\\n",
       "0                        0                        0                        0   \n",
       "1                        0                        0                        0   \n",
       "2                        0                        0                        0   \n",
       "3                        0                        0                        0   \n",
       "4                        0                        0                        0   \n",
       "\n",
       "   ...  hosp_yn_No  hosp_yn_OTH  hosp_yn_Yes  icu_yn_No  icu_yn_Yes  \\\n",
       "0  ...           1            0            0          0           0   \n",
       "1  ...           0            0            0          0           0   \n",
       "2  ...           1            0            0          0           0   \n",
       "3  ...           1            0            0          0           0   \n",
       "4  ...           0            0            1          1           0   \n",
       "\n",
       "   medcond_yn_No  medcond_yn_Yes  Seasons_Autumn  Seasons_Spring  \\\n",
       "0              0               0               1               0   \n",
       "1              0               1               0               1   \n",
       "2              0               1               0               1   \n",
       "3              0               0               0               0   \n",
       "4              0               1               0               1   \n",
       "\n",
       "   Seasons_Summer  \n",
       "0               0  \n",
       "1               0  \n",
       "2               0  \n",
       "3               0  \n",
       "4               0  \n",
       "\n",
       "[5 rows x 30 columns]"
      ]
     },
     "execution_count": 33,
     "metadata": {},
     "output_type": "execute_result"
    }
   ],
   "source": [
    "# need to reset the index to allow contatenation with predicted values otherwise not joining on same index...\n",
    "X_train.reset_index(drop=True, inplace=True)\n",
    "y_train.reset_index(drop=True, inplace=True)\n",
    "X_test.reset_index(drop=True, inplace=True)\n",
    "y_test.reset_index(drop=True, inplace=True)\n",
    "X_train.head(5)"
   ]
  },
  {
   "cell_type": "markdown",
   "id": "prescription-pastor",
   "metadata": {},
   "source": [
    "The datasets are now ready for modeling"
   ]
  },
  {
   "cell_type": "markdown",
   "id": "linear-white",
   "metadata": {},
   "source": [
    "## (2) Linear Regression Model\n",
    "#### 2.1 Train a linear regression model using only the descriptive features selected from part 1 above"
   ]
  },
  {
   "cell_type": "code",
   "execution_count": 34,
   "id": "parallel-arlington",
   "metadata": {},
   "outputs": [],
   "source": [
    "# Train aka fit, a model using all continuous and categorical features.\n",
    "multiple_linreg = LinearRegression().fit(X_train, y_train)"
   ]
  },
  {
   "cell_type": "markdown",
   "id": "raised-stanford",
   "metadata": {},
   "source": [
    "#### 2.2 Print out the coefficients learned by the model"
   ]
  },
  {
   "cell_type": "code",
   "execution_count": 35,
   "id": "acknowledged-europe",
   "metadata": {},
   "outputs": [
    {
     "name": "stdout",
     "output_type": "stream",
     "text": [
      "\n",
      "Features are: \n",
      " Index(['%deaths_every_30days', 'Is_person_Waited_OR_Not', 'sex_Female',\n",
      "       'sex_Male', 'sex_Other', 'age_group_0 - 9 Years',\n",
      "       'age_group_10 - 19 Years', 'age_group_20 - 29 Years',\n",
      "       'age_group_30 - 39 Years', 'age_group_40 - 49 Years',\n",
      "       'age_group_50 - 59 Years', 'age_group_60 - 69 Years',\n",
      "       'age_group_70 - 79 Years',\n",
      "       'race_ethnicity_combined_American Indian/Alaska Native, Non-Hispanic',\n",
      "       'race_ethnicity_combined_Asian, Non-Hispanic',\n",
      "       'race_ethnicity_combined_Black, Non-Hispanic',\n",
      "       'race_ethnicity_combined_Hispanic/Latino',\n",
      "       'race_ethnicity_combined_Multiple/Other, Non-Hispanic',\n",
      "       'race_ethnicity_combined_Native Hawaiian/Other Pacific Islander, Non-Hispanic',\n",
      "       'race_ethnicity_combined_White, Non-Hispanic', 'hosp_yn_No',\n",
      "       'hosp_yn_OTH', 'hosp_yn_Yes', 'icu_yn_No', 'icu_yn_Yes',\n",
      "       'medcond_yn_No', 'medcond_yn_Yes', 'Seasons_Autumn', 'Seasons_Spring',\n",
      "       'Seasons_Summer'],\n",
      "      dtype='object')\n",
      "\n",
      "Coeficients are: \n",
      " [ 0.00664856 -0.01410987 -0.00941103  0.00479965 -0.03987301 -0.30109007\n",
      " -0.2997315  -0.3025615  -0.30272033 -0.30731589 -0.30247339 -0.28296467\n",
      " -0.21435986  0.06069705  0.03005669  0.01720825  0.02973901  0.00075129\n",
      " -0.03337682  0.0208537  -0.01579594 -0.12457425  0.14744874 -0.01995295\n",
      "  0.25368688  0.00305159  0.02820577 -0.00182332 -0.02196794  0.00225212]\n",
      "\n",
      "Intercept is: \n",
      " 0.28941485228074043\n",
      "\n",
      "Features and coeficients: \n",
      " [('%deaths_every_30days', 0.0066485556767689885), ('Is_person_Waited_OR_Not', -0.014109872616072718), ('sex_Female', -0.009411025337177088), ('sex_Male', 0.004799648921858392), ('sex_Other', -0.03987301465677215), ('age_group_0 - 9 Years', -0.30109006685520384), ('age_group_10 - 19 Years', -0.2997314954944418), ('age_group_20 - 29 Years', -0.30256149694825407), ('age_group_30 - 39 Years', -0.30272033195806614), ('age_group_40 - 49 Years', -0.30731589404597176), ('age_group_50 - 59 Years', -0.30247339225374287), ('age_group_60 - 69 Years', -0.28296467165689115), ('age_group_70 - 79 Years', -0.21435985683106637), ('race_ethnicity_combined_American Indian/Alaska Native, Non-Hispanic', 0.06069705396329157), ('race_ethnicity_combined_Asian, Non-Hispanic', 0.030056687776522904), ('race_ethnicity_combined_Black, Non-Hispanic', 0.017208245333205963), ('race_ethnicity_combined_Hispanic/Latino', 0.02973901386657226), ('race_ethnicity_combined_Multiple/Other, Non-Hispanic', 0.0007512871876505227), ('race_ethnicity_combined_Native Hawaiian/Other Pacific Islander, Non-Hispanic', -0.033376817616864285), ('race_ethnicity_combined_White, Non-Hispanic', 0.0208536992605982), ('hosp_yn_No', -0.01579593707581258), ('hosp_yn_OTH', -0.12457425231671239), ('hosp_yn_Yes', 0.14744873631835465), ('icu_yn_No', -0.01995294604891863), ('icu_yn_Yes', 0.25368688365073455), ('medcond_yn_No', 0.0030515882160724998), ('medcond_yn_Yes', 0.028205766664410818), ('Seasons_Autumn', -0.0018233155492956169), ('Seasons_Spring', -0.021967938271059632), ('Seasons_Summer', 0.0022521184893660932)]\n"
     ]
    }
   ],
   "source": [
    "# Print the weights learned for each feature.\n",
    "print(\"\\nFeatures are: \\n\", X_train.columns)\n",
    "print(\"\\nCoeficients are: \\n\", multiple_linreg.coef_)\n",
    "print(\"\\nIntercept is: \\n\", multiple_linreg.intercept_)\n",
    "print(\"\\nFeatures and coeficients: \\n\", list(zip(X_train.columns, multiple_linreg.coef_)))"
   ]
  },
  {
   "cell_type": "markdown",
   "id": "optional-venture",
   "metadata": {},
   "source": [
    "#### 2.3 Interpreting the linear regression model\n",
    "\n",
    "- linear regression needs numeric features to predict on the new data. Due to which we have converted all the categorical feature to numeric values. \n",
    "- Also linear regression assumes a linear relationship between descriptive features and target feature. \n",
    "- In order to make the predictions, the weights of each each feature is required which will increase depending on the number of features. \n",
    "- After achieveing these values the prediction function will be \n",
    "  - $target\\_value = w_0 + w_1 * feature_1 + w_2*feature_2 + ...+ w_n*feature_n $\n",
    "  \n",
    "- In this regression model, after training the model the intercept which we can observe above is 0.241\n",
    "- The intercept value means that if the other feature values are then the target value will be 0.241. Also, means that the intercept touches the y-axis at 0.241.\n",
    "\n",
    "- Here the coefficients are zipped and provided in a list for the ease of observation with its feature. Each feature coefficient is the weight of that feature in a target value equation.\n",
    "- Furthermore, it is important to notice that the value of %death_every_30days feature is having a good impact on the model as the value provide that whether there are any deaths in a period of 30 days. \n",
    "\n",
    "When it comes to the robustness of the model, the linear regression cannot handle outliers as the linear slope equation may change inorder to get the model fit near to the outlier. Due to which the intercept and coefficients of other features change and this may lead to false outcomes.\n",
    "But according our dataset there are no outliers in the data as most of them are categorical features. Also, the continous feature values are not exactly an outlier as that is a percentage of deaths in a month which can not be wrong data. Hence there are no outliers in the dataset.\n",
    "\n",
    "It is important to note that the output from a linear regression model is not suited to the classification problem that we are trying to solve.\n",
    "- The output is not a probability and an additional thresholding step is necessary to convert the output into a binary classification which is done in the next section\n"
   ]
  },
  {
   "cell_type": "markdown",
   "id": "million-prompt",
   "metadata": {},
   "source": [
    "#### 2.4 Printing 100 predicted target features and evaluate the prediction\n",
    "- Here we will print the predicted target feature value for the first 100 training examples. \n",
    "- We will threshold the predicted target feature value given by the linear regression model at 0.5, to get the predicted class for each example. \n",
    "    - If value is >= 0.5 it is cast to 1, if < 0.5 it is cast to 0"
   ]
  },
  {
   "cell_type": "code",
   "execution_count": 36,
   "id": "sharp-avatar",
   "metadata": {},
   "outputs": [
    {
     "name": "stdout",
     "output_type": "stream",
     "text": [
      "\n",
      "Predictions with multiple linear regression: \n",
      "\n",
      "   death_yn_Yes  Predicted\n",
      "0             0        0.0\n",
      "1             1        0.0\n",
      "2             0        0.0\n",
      "3             0        0.0\n",
      "4             0        0.0\n",
      "5             0        0.0\n",
      "6             0        0.0\n",
      "7             0        0.0\n",
      "8             0        0.0\n",
      "9             1        0.0\n"
     ]
    }
   ],
   "source": [
    "# calculate the prediction and threshold the value. If >= 0.5 its true\n",
    "multiple_linreg_predictions_train = (multiple_linreg.predict(X_train) >= 0.5) * 1.0\n",
    "\n",
    "print(\"\\nPredictions with multiple linear regression: \\n\")\n",
    "actual_vs_predicted_multiplelinreg = pd.concat([y_train, pd.DataFrame(multiple_linreg_predictions_train, columns=['Predicted'])], axis=1)\n",
    "print(actual_vs_predicted_multiplelinreg.head(10))"
   ]
  },
  {
   "cell_type": "markdown",
   "id": "another-hindu",
   "metadata": {},
   "source": [
    "From the above 10 predictions, we can observe that alomost every prediction seems correct with respect to the actual ones. This is beacuse the dataset is inbalanced as the number of deaths in the data are very less(about 3.1% in 6986 train set). \n",
    "\n",
    "But we will observe the actual measures among full training set in the next section."
   ]
  },
  {
   "cell_type": "markdown",
   "id": "distinct-philippines",
   "metadata": {},
   "source": [
    "#### 2.5 Evaluation metrics based on training data\n",
    "- We will print the classification evaluation measures computed on the training set (e.g. Accuracy, Confusion matrix, Precision, Recall, F1)\n",
    "- We will discuss findings based on these measures"
   ]
  },
  {
   "cell_type": "code",
   "execution_count": 37,
   "id": "polished-health",
   "metadata": {},
   "outputs": [
    {
     "name": "stdout",
     "output_type": "stream",
     "text": [
      "==================== Train Data =======================\n",
      "Accuracy:  0.968684447108181\n",
      "Confusion matrix: \n",
      " [[6430   11]\n",
      " [ 198   35]]\n",
      "Classification report:\n",
      "                precision    recall  f1-score   support\n",
      "\n",
      "           0       0.97      1.00      0.98      6441\n",
      "           1       0.76      0.15      0.25       233\n",
      "\n",
      "    accuracy                           0.97      6674\n",
      "   macro avg       0.87      0.57      0.62      6674\n",
      "weighted avg       0.96      0.97      0.96      6674\n",
      "\n",
      "======================================================\n"
     ]
    }
   ],
   "source": [
    "# Some more evaluation metrics.\n",
    "print(\"==================== Train Data =======================\")\n",
    "print(\"Accuracy: \", metrics.accuracy_score(y_train, multiple_linreg_predictions_train))\n",
    "print(\"Confusion matrix: \\n\", metrics.confusion_matrix(y_train, multiple_linreg_predictions_train))\n",
    "print(\"Classification report:\\n \", metrics.classification_report(y_train, multiple_linreg_predictions_train))\n",
    "print(\"======================================================\")"
   ]
  },
  {
   "cell_type": "markdown",
   "id": "detected-drill",
   "metadata": {},
   "source": [
    "#### Interpretation of results:\n",
    "\n",
    "- Confusion matrix:\n",
    "    This matrix gives the details of actual values taken by the model and how many values are predicted out of it.\n",
    "    This can be interpreted as TP(True Positive), TN(True Negative), FP(False Positive), FN(False Negative).\n",
    "    \n",
    "    TP - The value which is predicted 1 and the actual is also 1.\n",
    "    TN - The value which is predicted is 0 and the actual is also 0.\n",
    "    FP - The value which is predicted 1 and is actually 0.\n",
    "    FN - The value which is predicted 0 and is actually 1.\n",
    "    \n",
    "    Here - \n",
    "           Actual No or TN - 6766\n",
    "           Actual Yes or TP - 220\n",
    "\n",
    "- Accuracy:\n",
    "    - The overall accuracy on the train data is 97% which is quite good, but the dataset is imblanced so the accuracy is not a main focus here. \n",
    "    - As the majority class of the dataset is No(death_yn = NO). So the accuracy is quite good with respect to it.\n",
    "- Precission:\n",
    "    - This indicates what percentage of predicted positive are actually positive.\n",
    "    - For class 0 i.e. death_yn = No. the precision is 0.97 which means that almost everything is predicted correctly.\n",
    "    - On the other hand, for class 1 i.e. death_yn = Yes, the prediction positive is 0.72\n",
    "- Recall:\n",
    "    - This tells that how much percentage of positive values did the model predict.\n",
    "    - Recall for the class positive i.e. a person died is 0.13\n",
    "    - Recall for the class negative i.e. a person did not died is 1.00\n",
    "    - The recall for class 0 is high because there are almost 97% of X-train is No(i.e. death_yn = No)\n",
    "    \n",
    "- f1-score\n",
    "    - This is the weighted average of precision and recall.\n",
    "    - The f1-score of negative class is 0.99\n",
    "    - The f1-score of positive class is 0.22\n",
    "    \n",
    "Summary\n",
    "- The model is  better at predicting the negative class.\n",
    "- This makes sense as the model has more negative data to learn from - it is the majority class. \n",
    "- But with respect to the positive class, the model is not good as its recall value is low.\n",
    "- Also, this is one of the reason that the positive class data is so great."
   ]
  },
  {
   "cell_type": "markdown",
   "id": "executive-apple",
   "metadata": {},
   "source": [
    "#### 2.6 Evaluate the model using the hold-out (30% examples) test set\n",
    "- The results from the test data will be compared the results from the training data.\n",
    "- In addition they will be compared to the results from a cross-validated model (i.e. a new model trained and evaluated using cross-validation on the full dataset)."
   ]
  },
  {
   "cell_type": "markdown",
   "id": "floppy-taxation",
   "metadata": {},
   "source": [
    "Printing Actual death vs predicted based on test data"
   ]
  },
  {
   "cell_type": "code",
   "execution_count": 38,
   "id": "respected-advancement",
   "metadata": {},
   "outputs": [
    {
     "name": "stdout",
     "output_type": "stream",
     "text": [
      "\n",
      "Predictions with multiple linear regression: \n",
      "\n",
      "   death_yn_Yes  Predicted\n",
      "0             0        0.0\n",
      "1             0        0.0\n",
      "2             0        0.0\n",
      "3             0        0.0\n",
      "4             0        0.0\n",
      "5             0        0.0\n",
      "6             0        0.0\n",
      "7             0        0.0\n",
      "8             0        0.0\n",
      "9             0        0.0\n"
     ]
    }
   ],
   "source": [
    "# calculate the prediction and threshold the value. If >= 0.5 its true\n",
    "multiple_linreg_predictions_test = (multiple_linreg.predict(X_test) >= 0.5) * 1.0\n",
    "\n",
    "print(\"\\nPredictions with multiple linear regression: \\n\")\n",
    "actual_vs_predicted_multiplelinreg = pd.concat([y_test, pd.DataFrame(multiple_linreg_predictions_test, columns=['Predicted'])], axis=1)\n",
    "print(actual_vs_predicted_multiplelinreg.head(10))"
   ]
  },
  {
   "cell_type": "markdown",
   "id": "liked-editor",
   "metadata": {},
   "source": [
    "##### Evaluation metrics based on test data"
   ]
  },
  {
   "cell_type": "code",
   "execution_count": 39,
   "id": "lonely-import",
   "metadata": {},
   "outputs": [
    {
     "name": "stdout",
     "output_type": "stream",
     "text": [
      "==================== Test Data =======================\n",
      "Accuracy:  0.9713386927647676\n",
      "Confusion matrix: \n",
      " [[2762    7]\n",
      " [  75   17]]\n",
      "Classification report - Test data:\n",
      "                precision    recall  f1-score   support\n",
      "\n",
      "           0       0.97      1.00      0.99      2769\n",
      "           1       0.71      0.18      0.29        92\n",
      "\n",
      "    accuracy                           0.97      2861\n",
      "   macro avg       0.84      0.59      0.64      2861\n",
      "weighted avg       0.97      0.97      0.96      2861\n",
      "\n",
      "\n",
      "==================== Train Data ======================\n",
      "Accuracy:  0.968684447108181\n",
      "Confusion matrix: \n",
      " [[6430   11]\n",
      " [ 198   35]]\n",
      "\n",
      "Classification report: - Training data\n",
      "                precision    recall  f1-score   support\n",
      "\n",
      "           0       0.97      1.00      0.98      6441\n",
      "           1       0.76      0.15      0.25       233\n",
      "\n",
      "    accuracy                           0.97      6674\n",
      "   macro avg       0.87      0.57      0.62      6674\n",
      "weighted avg       0.96      0.97      0.96      6674\n",
      "\n"
     ]
    }
   ],
   "source": [
    "# Some more evaluation metrics.\n",
    "print(\"==================== Test Data =======================\")\n",
    "print(\"Accuracy: \", metrics.accuracy_score(y_test, multiple_linreg_predictions_test))\n",
    "print(\"Confusion matrix: \\n\", metrics.confusion_matrix(y_test, multiple_linreg_predictions_test))\n",
    "print(\"Classification report - Test data:\\n \", metrics.classification_report(y_test, multiple_linreg_predictions_test))\n",
    "print(\"\\n==================== Train Data ======================\")\n",
    "print(\"Accuracy: \", metrics.accuracy_score(y_train, multiple_linreg_predictions_train))\n",
    "print(\"Confusion matrix: \\n\", metrics.confusion_matrix(y_train, multiple_linreg_predictions_train))\n",
    "print(\"\\nClassification report: - Training data\\n \", metrics.classification_report(y_train, multiple_linreg_predictions_train))"
   ]
  },
  {
   "cell_type": "markdown",
   "id": "embedded-region",
   "metadata": {},
   "source": [
    "**Interpretation of test results and comparison with training results**\n",
    "\n",
    "- Confusion matrix\n",
    "    - The test data has total values of 2994.\n",
    "    - Out of which False positive values are 13 out of 92.\n",
    "    \n",
    "- Accuracy\n",
    "    - The accuracy of the test data is reduced when compared with train data which are 96.8% and 97.1%. \n",
    "    - But overall these values are almost similar with a difference of 0.3%.\n",
    "    \n",
    "- Precision\n",
    "    - The precision score for predicting the positive class has increased from 72% to 93%.\n",
    "    - While the precision score for predicting the negative case remians same which is 97%.\n",
    "    - The increase in precision is due to the predict positive values in test data is quite less when compared with train data. Due to which the numerator of the precision formula is high and thus overall percentage increases.\n",
    "    \n",
    "- Recall\n",
    "    - The recall score for predicting the positive class has decreased from 13% to 12%.\n",
    "    - The recall score for predicting the negative class reamins same which is 100%.\n",
    "- F1\n",
    "    - The f1 score for predicting the positive class remains same.\n",
    "    - The f1 score for predicting the negative class has reduced from 99% to 98% which is equal with a little difference.\n",
    "\n",
    "**Summary**\n",
    "- These values are a little less than expected as we are now testing the model prediction on data it has not seen before\n",
    "- More comparisons need to be made and this is where cross validation steps in"
   ]
  },
  {
   "cell_type": "markdown",
   "id": "complicated-huntington",
   "metadata": {},
   "source": [
    "#### 2.7 Cross validation\n",
    "- We will now perform cross validation on the linear regression model. \n",
    "- Here we perform the same evaluation as above but multiple times\n",
    "- Each time the data is shuffled so we get a slightly different view of the data for training and testing\n",
    "- This works well for evaluating on a limited set of data\n",
    "- We will store the results in a dictionary for later use\n",
    "\n",
    "First we need to create a function to perform this cross validation. Sklearn does not provide one for linear regression. However it does for logistic and random forests models\n",
    "- Cross validation Function can be seen below"
   ]
  },
  {
   "cell_type": "code",
   "execution_count": 40,
   "id": "sunset-silicon",
   "metadata": {},
   "outputs": [],
   "source": [
    "def cross_val_LinReg(X, y, cv=3, scoring='accuracy'):\n",
    "    \"\"\"Functions to carry out cross validation on the linear regression model\n",
    "    Default number of validations is 3. The randon state will be updated \n",
    "    at each iteration to allow our results to be repeated\"\"\"\n",
    "    \n",
    "    # store results\n",
    "    results = []\n",
    "    # evaluate cv times and append to results\n",
    "    for i in range(cv):\n",
    "        # set up train test split\n",
    "        X_train, X_test, y_train, y_test = train_test_split(X, y, random_state=i , test_size=0.3)\n",
    "        # generate model\n",
    "        multiple_linreg = LinearRegression().fit(X_train, y_train)\n",
    "        # threshold\n",
    "        multiple_linreg_predictions = (multiple_linreg.predict(X_test) >= 0.5) * 1.0\n",
    "        # calc score\n",
    "        if scoring=='accuracy':\n",
    "            score = metrics.accuracy_score(y_test, multiple_linreg_predictions)\n",
    "        elif scoring=='precision':\n",
    "            score = metrics.precision_score(y_test, multiple_linreg_predictions)\n",
    "        elif scoring=='f1':\n",
    "            score = metrics.f1_score(y_test, multiple_linreg_predictions)\n",
    "        elif scoring=='recall':\n",
    "            score = metrics.recall_score(y_test, multiple_linreg_predictions)\n",
    "        # append to results\n",
    "        results.append(score)\n",
    "    return results"
   ]
  },
  {
   "cell_type": "markdown",
   "id": "detected-resource",
   "metadata": {},
   "source": [
    "We will now create an additional function to perform 10 fold cross validation and store results into a dataframe\n",
    "- This will be used to simplify further analysis the dataset, looking at accuracy, precision, recall, f1."
   ]
  },
  {
   "cell_type": "code",
   "execution_count": 41,
   "id": "surface-rapid",
   "metadata": {},
   "outputs": [],
   "source": [
    "def cross_val_LinReg_DF(X,y):\n",
    "    \"\"\"Function to perform cross validation and store results \n",
    "    in dataframe. Cross validation looks at accuracy, precision, \n",
    "    recall, f1. Returns a dataframe with results\"\"\"\n",
    "\n",
    "    linRegResults = {}\n",
    "    # metrics to test against\n",
    "    test_metrics = ['accuracy','precision','recall', 'f1']\n",
    "    \n",
    "    for metric in test_metrics:\n",
    "        # generate test results\n",
    "        result = cross_val_LinReg(X, y, cv=10, scoring=metric)\n",
    "        length = len(result)\n",
    "        # store result in dict\n",
    "        linRegResults[metric] = sum(result)/length\n",
    "\n",
    "    # create dataframe with results\n",
    "    LinRegDF = pd.DataFrame.from_dict(linRegResults, orient='index', columns=['Linear_Regression'])\n",
    "    \n",
    "    return LinRegDF"
   ]
  },
  {
   "cell_type": "markdown",
   "id": "incoming-closer",
   "metadata": {},
   "source": [
    "Preform 10 fold cross validation using cross_val_LinReg_DF function\n",
    "- Results summarised below"
   ]
  },
  {
   "cell_type": "code",
   "execution_count": 42,
   "id": "perceived-yield",
   "metadata": {},
   "outputs": [
    {
     "name": "stdout",
     "output_type": "stream",
     "text": [
      "Mean results from 10 fold cross validation are:\n"
     ]
    },
    {
     "data": {
      "text/html": [
       "<div>\n",
       "<style scoped>\n",
       "    .dataframe tbody tr th:only-of-type {\n",
       "        vertical-align: middle;\n",
       "    }\n",
       "\n",
       "    .dataframe tbody tr th {\n",
       "        vertical-align: top;\n",
       "    }\n",
       "\n",
       "    .dataframe thead th {\n",
       "        text-align: right;\n",
       "    }\n",
       "</style>\n",
       "<table border=\"1\" class=\"dataframe\">\n",
       "  <thead>\n",
       "    <tr style=\"text-align: right;\">\n",
       "      <th></th>\n",
       "      <th>Linear_Regression</th>\n",
       "    </tr>\n",
       "  </thead>\n",
       "  <tbody>\n",
       "    <tr>\n",
       "      <th>accuracy</th>\n",
       "      <td>0.969696</td>\n",
       "    </tr>\n",
       "    <tr>\n",
       "      <th>precision</th>\n",
       "      <td>0.786084</td>\n",
       "    </tr>\n",
       "    <tr>\n",
       "      <th>recall</th>\n",
       "      <td>0.141094</td>\n",
       "    </tr>\n",
       "    <tr>\n",
       "      <th>f1</th>\n",
       "      <td>0.237153</td>\n",
       "    </tr>\n",
       "  </tbody>\n",
       "</table>\n",
       "</div>"
      ],
      "text/plain": [
       "           Linear_Regression\n",
       "accuracy            0.969696\n",
       "precision           0.786084\n",
       "recall              0.141094\n",
       "f1                  0.237153"
      ]
     },
     "execution_count": 42,
     "metadata": {},
     "output_type": "execute_result"
    }
   ],
   "source": [
    "linRegDF = cross_val_LinReg_DF(X,y)\n",
    "print(f\"Mean results from 10 fold cross validation are:\")\n",
    "linRegDF"
   ]
  },
  {
   "cell_type": "markdown",
   "id": "unknown-citation",
   "metadata": {},
   "source": [
    "From the above results, the values are almost equal with previous results. Here we have taken the mean of 10 sets of results. Even then the accuracy and recall is not changed as majority value of the dataset is having negative class. Alo, at each the set of values are different due to the random state but then the overall accuracy has same value beacuse the percentage of getting positive class values are very less as those are only 3%. "
   ]
  },
  {
   "cell_type": "markdown",
   "id": "loose-parent",
   "metadata": {},
   "source": [
    "## (3) Logistic Regression   "
   ]
  },
  {
   "cell_type": "markdown",
   "id": "rolled-development",
   "metadata": {},
   "source": [
    "#### 3.1 Train a logistic regression model using only the descriptive features selected from part 1 above"
   ]
  },
  {
   "cell_type": "code",
   "execution_count": 43,
   "id": "excessive-outline",
   "metadata": {},
   "outputs": [],
   "source": [
    "# Train aka fit, a model using all continuous and categorical features.\n",
    "multiple_logisticreg = LogisticRegression().fit(X_train, y_train)"
   ]
  },
  {
   "cell_type": "markdown",
   "id": "incomplete-pavilion",
   "metadata": {},
   "source": [
    "#### 3.2 Print out the coefficients learned by the model"
   ]
  },
  {
   "cell_type": "code",
   "execution_count": 44,
   "id": "circular-kidney",
   "metadata": {},
   "outputs": [
    {
     "name": "stdout",
     "output_type": "stream",
     "text": [
      "\n",
      "Features are: \n",
      " Index(['%deaths_every_30days', 'Is_person_Waited_OR_Not', 'sex_Female',\n",
      "       'sex_Male', 'sex_Other', 'age_group_0 - 9 Years',\n",
      "       'age_group_10 - 19 Years', 'age_group_20 - 29 Years',\n",
      "       'age_group_30 - 39 Years', 'age_group_40 - 49 Years',\n",
      "       'age_group_50 - 59 Years', 'age_group_60 - 69 Years',\n",
      "       'age_group_70 - 79 Years',\n",
      "       'race_ethnicity_combined_American Indian/Alaska Native, Non-Hispanic',\n",
      "       'race_ethnicity_combined_Asian, Non-Hispanic',\n",
      "       'race_ethnicity_combined_Black, Non-Hispanic',\n",
      "       'race_ethnicity_combined_Hispanic/Latino',\n",
      "       'race_ethnicity_combined_Multiple/Other, Non-Hispanic',\n",
      "       'race_ethnicity_combined_Native Hawaiian/Other Pacific Islander, Non-Hispanic',\n",
      "       'race_ethnicity_combined_White, Non-Hispanic', 'hosp_yn_No',\n",
      "       'hosp_yn_OTH', 'hosp_yn_Yes', 'icu_yn_No', 'icu_yn_Yes',\n",
      "       'medcond_yn_No', 'medcond_yn_Yes', 'Seasons_Autumn', 'Seasons_Spring',\n",
      "       'Seasons_Summer'],\n",
      "      dtype='object')\n",
      "\n",
      "Coeficients are: \n",
      " [ 0.09071655 -0.51877634 -0.25636573  0.21422996 -0.00762356 -2.78373498\n",
      " -3.34395947 -3.68245956 -3.33166546 -3.11615326 -2.62203642 -1.82648065\n",
      " -0.78176383  1.42494346  0.7960564   0.68377914  1.154289   -0.37058547\n",
      " -0.3118912   0.71433552 -1.16102572 -0.41628951  1.37758943 -0.46405401\n",
      "  1.31635033 -0.40343811  0.58088708  0.19367723  0.07930299  0.26386636]\n",
      "\n",
      "Intercept is: \n",
      " [-2.05839611]\n",
      "\n",
      "Features and coeficients: \n",
      " [('%deaths_every_30days', 0.09071655174273455), ('Is_person_Waited_OR_Not', -0.5187763399724304), ('sex_Female', -0.25636572772062455), ('sex_Male', 0.21422996444454478), ('sex_Other', -0.007623564082127171), ('age_group_0 - 9 Years', -2.783734979899058), ('age_group_10 - 19 Years', -3.343959474224526), ('age_group_20 - 29 Years', -3.682459561870891), ('age_group_30 - 39 Years', -3.331665461189864), ('age_group_40 - 49 Years', -3.1161532560401564), ('age_group_50 - 59 Years', -2.6220364204605486), ('age_group_60 - 69 Years', -1.8264806462294731), ('age_group_70 - 79 Years', -0.7817638291452526), ('race_ethnicity_combined_American Indian/Alaska Native, Non-Hispanic', 1.4249434603776963), ('race_ethnicity_combined_Asian, Non-Hispanic', 0.7960563994490865), ('race_ethnicity_combined_Black, Non-Hispanic', 0.6837791375590208), ('race_ethnicity_combined_Hispanic/Latino', 1.1542889976089223), ('race_ethnicity_combined_Multiple/Other, Non-Hispanic', -0.3705854689047389), ('race_ethnicity_combined_Native Hawaiian/Other Pacific Islander, Non-Hispanic', -0.3118911975797991), ('race_ethnicity_combined_White, Non-Hispanic', 0.7143355198022316), ('hosp_yn_No', -1.1610257164620237), ('hosp_yn_OTH', -0.41628951112633955), ('hosp_yn_Yes', 1.377589434052069), ('icu_yn_No', -0.46405401152689135), ('icu_yn_Yes', 1.3163503335787188), ('medcond_yn_No', -0.4034381085569855), ('medcond_yn_Yes', 0.5808870828574618), ('Seasons_Autumn', 0.1936772276397493), ('Seasons_Spring', 0.07930299048359869), ('Seasons_Summer', 0.26386635586336615)]\n"
     ]
    }
   ],
   "source": [
    "# Print the weights learned for each feature.\n",
    "print(\"\\nFeatures are: \\n\", X_train.columns)\n",
    "print(\"\\nCoeficients are: \\n\", multiple_logisticreg.coef_[0])\n",
    "print(\"\\nIntercept is: \\n\", multiple_logisticreg.intercept_)\n",
    "print(\"\\nFeatures and coeficients: \\n\", list(zip(X_train.columns, multiple_logisticreg.coef_[0])))"
   ]
  },
  {
   "cell_type": "markdown",
   "id": "random-helmet",
   "metadata": {},
   "source": [
    "#### 3.3 Interpreting the results \n",
    "\n",
    "The logistic regression function is a little different when compared with the linear regression function. \n",
    "- The output of the logistic function is a probability, a value between 0 and 1\n",
    "- The output of the linear function is a continuous value that is not a probability\n",
    "- Also, here it is not required to apply the threshold to this probability so that if it is >=0.5 its cast to 1 and if it os <0.5 it is casted to 0. These steps are taken out in the logistic regression as the sigmoid function will output a value between o and 1.\n",
    " \n",
    "\n",
    "The model estimated in logistic regression is given by the logistic function: <br>\n",
    "$probability(target=1|descriptive\\_features)=logistic(w_0 + w_1 * feature_1 + w_2*feature_2 + ...+ w_n*feature_n)$ <br>\n",
    "where $logistic(x)$ is defined as: $logistic(x) = \\frac{e ^ x}{1 + e ^ x} = \\frac{1}{1+e^{-x}}$\n",
    "\n",
    "- From the values above can see the calculated intercept is -2.453\n",
    "    - This indicates that the if the values of other featurs are 0 then the value of the logistic regression is -2.453.\n",
    "- We can see all the coefficients for each features\n",
    "    - These are zipped together in a single list for ease of inspection.\n",
    "    - The effect of these on the value 'x' is the same as for linear regression\n",
    "  \n",
    "\n"
   ]
  },
  {
   "cell_type": "code",
   "execution_count": 45,
   "id": "banned-brush",
   "metadata": {},
   "outputs": [
    {
     "name": "stdout",
     "output_type": "stream",
     "text": [
      "\n",
      "Predictions with multiple linear regression: \n",
      "\n",
      "   death_yn_Yes  Predicted\n",
      "0             0          0\n",
      "1             1          0\n",
      "2             0          0\n",
      "3             0          0\n",
      "4             0          0\n",
      "5             0          0\n",
      "6             0          0\n",
      "7             0          0\n",
      "8             0          0\n",
      "9             1          0\n"
     ]
    }
   ],
   "source": [
    "# calculate the prediction value.\n",
    "multiple_logisticreg_predictions_train = multiple_logisticreg.predict(X_train)\n",
    "\n",
    "print(\"\\nPredictions with multiple linear regression: \\n\")\n",
    "actual_vs_predicted_multiplelogisticreg = pd.concat([y_train, pd.DataFrame(multiple_logisticreg_predictions_train, columns=['Predicted'])], axis=1)\n",
    "print(actual_vs_predicted_multiplelogisticreg.head(10))"
   ]
  },
  {
   "cell_type": "markdown",
   "id": "weekly-reward",
   "metadata": {},
   "source": [
    "#### 3.5 Evaluation metrics based on training data\n",
    "- We will print the classification evaluation measures computed on the training set (e.g. Accuracy, Confusion matrix, Precision, Recall, F1)\n",
    "- We will discuss finding based on these measures"
   ]
  },
  {
   "cell_type": "code",
   "execution_count": 46,
   "id": "beneficial-reservation",
   "metadata": {},
   "outputs": [
    {
     "name": "stdout",
     "output_type": "stream",
     "text": [
      "==================== Train Data =======================\n",
      "Accuracy:  0.9710818100089901\n",
      "Confusion matrix: \n",
      " [[6410   31]\n",
      " [ 162   71]]\n",
      "Classification report:\n",
      "                precision    recall  f1-score   support\n",
      "\n",
      "           0       0.98      1.00      0.99      6441\n",
      "           1       0.70      0.30      0.42       233\n",
      "\n",
      "    accuracy                           0.97      6674\n",
      "   macro avg       0.84      0.65      0.70      6674\n",
      "weighted avg       0.97      0.97      0.97      6674\n",
      "\n",
      "======================================================\n"
     ]
    }
   ],
   "source": [
    "# Some more evaluation metrics.\n",
    "print(\"==================== Train Data =======================\")\n",
    "print(\"Accuracy: \", metrics.accuracy_score(y_train, multiple_logisticreg_predictions_train))\n",
    "print(\"Confusion matrix: \\n\", metrics.confusion_matrix(y_train, multiple_logisticreg_predictions_train))\n",
    "print(\"Classification report:\\n \", metrics.classification_report(y_train, multiple_logisticreg_predictions_train))\n",
    "print(\"======================================================\")"
   ]
  },
  {
   "cell_type": "markdown",
   "id": "political-american",
   "metadata": {},
   "source": [
    "#### Interpretation of results:\n",
    "\n",
    "- Confusion matrix:\n",
    "    This matrix gives the details of actual values taken by the model and how many values are predicted out of it.\n",
    "    This can be interpreted as TP(True Positive), TN(True Negative), FP(False Positive), FN(False Negative).\n",
    "    \n",
    "    TP - The value which is predicted 1 and the actual is also 1.\n",
    "    TN - The value which is predicted is 0 and the actual is also 0.\n",
    "    FP - The value which is predicted 1 and is actually 0.\n",
    "    FN - The value which is predicted 0 and is actually 1.\n",
    "    \n",
    "    Here - \n",
    "           Actual No or TN - 6766\n",
    "           Actual Yes or TP - 220\n",
    "\n",
    "- Accuracy:\n",
    "    - The overall accuracy on the train data is 97.3% which is quite good, but the dataset is imblanced so the accuracy is not a main focus here. \n",
    "    - As the majority class of the dataset is No(death_yn = NO). So the accuracy is quite good with respect to it.\n",
    "- Precission:\n",
    "    - This indicates what percentage of predicted positive are actually positive.\n",
    "    - For class 0 i.e. death_yn = No. the precision is 0.98.\n",
    "    - On the other hand, for class 1 i.e. death_yn = Yes, the prediction positive is 0.32\n",
    "- Recall:\n",
    "    - This tells that how much percentage of positive values did the model predict.\n",
    "    - Recall for the class positive i.e. a person died is 0.32\n",
    "    - Recall for the class negative i.e. a person did not died is 0.99\n",
    "    - The recall for class 0 is high because there are almost 97% of X-train is No(i.e. death_yn = No)\n",
    "    \n",
    "- f1-score\n",
    "    - This is the weighted average of precision and recall.\n",
    "    - The f1-score of negative class is 0.99\n",
    "    - The f1-score of positive class is 0.43\n",
    "    \n",
    "Summary\n",
    "- The model is also better at predicting the negative class.\n",
    "- This makes sense as the model has more negative data to learn from - it is the majority class. \n",
    "- But with respect to the positive class, the model is not good as its recall value is low.\n",
    "- Also, this is one of the reason that the positive class data is so great."
   ]
  },
  {
   "cell_type": "markdown",
   "id": "strange-biotechnology",
   "metadata": {},
   "source": [
    "#### 3.6 Evaluate the model using the hold-out (30% examples) test set\n",
    "- These results from the test data will be compared the results from the training data.\n",
    "- In addition they will be compared to the results from a cross-validated model (i.e., a new model trained and evaluated using cross-validation on the full dataset)."
   ]
  },
  {
   "cell_type": "markdown",
   "id": "atmospheric-waters",
   "metadata": {},
   "source": [
    "Printing Actual RiskPerformance vs predicted based on test data"
   ]
  },
  {
   "cell_type": "code",
   "execution_count": 47,
   "id": "overall-share",
   "metadata": {},
   "outputs": [
    {
     "name": "stdout",
     "output_type": "stream",
     "text": [
      "\n",
      "Predictions with multiple linear regression: \n",
      "\n",
      "    death_yn_Yes  Predicted\n",
      "0              0          0\n",
      "1              0          0\n",
      "2              0          0\n",
      "3              0          0\n",
      "4              0          0\n",
      "5              0          0\n",
      "6              0          0\n",
      "7              0          0\n",
      "8              0          0\n",
      "9              0          0\n",
      "10             0          0\n",
      "11             0          0\n",
      "12             0          0\n",
      "13             0          0\n",
      "14             0          0\n",
      "15             0          0\n",
      "16             0          0\n",
      "17             0          0\n",
      "18             0          0\n",
      "19             0          0\n"
     ]
    }
   ],
   "source": [
    "# calculate the prediction and threshold the value. If >= 0.5 its true\n",
    "multiple_logisticreg_predictions_test = multiple_logisticreg.predict(X_test)\n",
    "\n",
    "print(\"\\nPredictions with multiple linear regression: \\n\")\n",
    "actual_vs_predicted_multiplelogisticreg = pd.concat([y_test, pd.DataFrame(multiple_logisticreg_predictions_test, columns=['Predicted'])], axis=1)\n",
    "print(actual_vs_predicted_multiplelogisticreg.head(20))"
   ]
  },
  {
   "cell_type": "markdown",
   "id": "moral-monday",
   "metadata": {},
   "source": [
    "Evaluation based on test data"
   ]
  },
  {
   "cell_type": "code",
   "execution_count": 48,
   "id": "agricultural-thousand",
   "metadata": {},
   "outputs": [
    {
     "name": "stdout",
     "output_type": "stream",
     "text": [
      "==================== Test Data =======================\n",
      "Accuracy:  0.9699405802167075\n",
      "Confusion matrix: \n",
      " [[2746   23]\n",
      " [  63   29]]\n",
      "Classification report:\n",
      "                precision    recall  f1-score   support\n",
      "\n",
      "           0       0.98      0.99      0.98      2769\n",
      "           1       0.56      0.32      0.40        92\n",
      "\n",
      "    accuracy                           0.97      2861\n",
      "   macro avg       0.77      0.65      0.69      2861\n",
      "weighted avg       0.96      0.97      0.97      2861\n",
      "\n",
      "==================== Train Data =======================\n",
      "Accuracy:  0.9710818100089901\n",
      "Confusion matrix: \n",
      " [[6410   31]\n",
      " [ 162   71]]\n",
      "Classification report:\n",
      "                precision    recall  f1-score   support\n",
      "\n",
      "           0       0.98      1.00      0.99      6441\n",
      "           1       0.70      0.30      0.42       233\n",
      "\n",
      "    accuracy                           0.97      6674\n",
      "   macro avg       0.84      0.65      0.70      6674\n",
      "weighted avg       0.97      0.97      0.97      6674\n",
      "\n",
      "======================================================\n"
     ]
    }
   ],
   "source": [
    "# Some more evaluation metrics.\n",
    "print(\"==================== Test Data =======================\")\n",
    "print(\"Accuracy: \", metrics.accuracy_score(y_test, multiple_logisticreg_predictions_test))\n",
    "print(\"Confusion matrix: \\n\", metrics.confusion_matrix(y_test, multiple_logisticreg_predictions_test))\n",
    "print(\"Classification report:\\n \", metrics.classification_report(y_test, multiple_logisticreg_predictions_test))\n",
    "print(\"==================== Train Data =======================\")\n",
    "print(\"Accuracy: \", metrics.accuracy_score(y_train, multiple_logisticreg_predictions_train))\n",
    "print(\"Confusion matrix: \\n\", metrics.confusion_matrix(y_train, multiple_logisticreg_predictions_train))\n",
    "print(\"Classification report:\\n \", metrics.classification_report(y_train, multiple_logisticreg_predictions_train))\n",
    "print(\"======================================================\")"
   ]
  },
  {
   "cell_type": "markdown",
   "id": "quarterly-quilt",
   "metadata": {},
   "source": [
    "**Interpretation of test results and comparison with training results**\n",
    "\n",
    "- Confusion matrix\n",
    "    - The test data has total values of 2994.\n",
    "    - Here 25% of the postive class values are predicted correctly which is good.\n",
    "- Accuracy\n",
    "    - The accuracy of the test data is reduced when compared with train data. These values are 97.3% and 96.9%. \n",
    "    - But overall these values are almost similar with a difference of 0.4%.\n",
    "    \n",
    "- Precision\n",
    "    - The precision score for predicting the positive class has reduced from 67% to 26%.\n",
    "    - While the precision score for predicting the negative has increased from 99% to 100%.\n",
    "    \n",
    "- Recall\n",
    "    - The recall score for predicting the positive class has decreased from 32% to 12%.\n",
    "    - The recall score for predicting the negative class reamins same which is 100%.\n",
    "- F1\n",
    "    - The f1 score for predicting the positive class has reduced from 43% to 37%.\n",
    "    - The f1 score for predicting the negative class has reduced from 99% to 98% which is equal with a little difference.\n",
    "\n",
    "**Summary**\n",
    "- These are almost same with linear regression results.\n",
    "- But the prediction results for positive class in logistic regression is high when compared with linear regression.\n",
    "- These values are a little less than expected as we are now testing the model prediction on data it has not seen before\n",
    "- More comparisons need to be made and this is where cross validation steps in"
   ]
  },
  {
   "cell_type": "markdown",
   "id": "double-default",
   "metadata": {},
   "source": [
    "#### 3.7 Cross validation\n",
    "We will first create function to perform 10 fold cross validation and store results into dataframe\n",
    "- This will be used to simplify further analysis the dataset, looking at accuracy, precision, recall, f1."
   ]
  },
  {
   "cell_type": "code",
   "execution_count": 49,
   "id": "julian-astrology",
   "metadata": {},
   "outputs": [],
   "source": [
    "def cross_val_LogReg_DF(X,y):\n",
    "    \"\"\"Function to perform cross validation and store results \n",
    "    in dataframe. Cross validation looks at accuracy, precision, \n",
    "    recall, f1. Returns a dataframe with results\"\"\"\n",
    "\n",
    "    logRegResults = {}\n",
    "    # metrics to test against\n",
    "    test_metrics = ['accuracy','precision','recall', 'f1']\n",
    "\n",
    "    for metric in test_metrics:\n",
    "        # generate test results\n",
    "        result = cross_val_score(LogisticRegression(), X, y, scoring=metric, cv=10)\n",
    "        # store result in dict\n",
    "        logRegResults[metric] = result.mean()\n",
    "        \n",
    "    # create dataframe with results\n",
    "    LogRegDF = pd.DataFrame.from_dict(logRegResults, orient='index', columns=['Logistic_Regression'])\n",
    "    \n",
    "    return LogRegDF"
   ]
  },
  {
   "cell_type": "markdown",
   "id": "differential-minister",
   "metadata": {},
   "source": [
    "Preform 10 fold cross validation using cross_val_LogReg_DF function\n",
    "- Results summarised below"
   ]
  },
  {
   "cell_type": "code",
   "execution_count": 50,
   "id": "arranged-taste",
   "metadata": {},
   "outputs": [
    {
     "name": "stdout",
     "output_type": "stream",
     "text": [
      "Mean results from 10 fold cross validation are:\n"
     ]
    },
    {
     "data": {
      "text/html": [
       "<div>\n",
       "<style scoped>\n",
       "    .dataframe tbody tr th:only-of-type {\n",
       "        vertical-align: middle;\n",
       "    }\n",
       "\n",
       "    .dataframe tbody tr th {\n",
       "        vertical-align: top;\n",
       "    }\n",
       "\n",
       "    .dataframe thead th {\n",
       "        text-align: right;\n",
       "    }\n",
       "</style>\n",
       "<table border=\"1\" class=\"dataframe\">\n",
       "  <thead>\n",
       "    <tr style=\"text-align: right;\">\n",
       "      <th></th>\n",
       "      <th>Logistic_Regression</th>\n",
       "    </tr>\n",
       "  </thead>\n",
       "  <tbody>\n",
       "    <tr>\n",
       "      <th>accuracy</th>\n",
       "      <td>0.970110</td>\n",
       "    </tr>\n",
       "    <tr>\n",
       "      <th>precision</th>\n",
       "      <td>0.627805</td>\n",
       "    </tr>\n",
       "    <tr>\n",
       "      <th>recall</th>\n",
       "      <td>0.301042</td>\n",
       "    </tr>\n",
       "    <tr>\n",
       "      <th>f1</th>\n",
       "      <td>0.404898</td>\n",
       "    </tr>\n",
       "  </tbody>\n",
       "</table>\n",
       "</div>"
      ],
      "text/plain": [
       "           Logistic_Regression\n",
       "accuracy              0.970110\n",
       "precision             0.627805\n",
       "recall                0.301042\n",
       "f1                    0.404898"
      ]
     },
     "execution_count": 50,
     "metadata": {},
     "output_type": "execute_result"
    }
   ],
   "source": [
    "logRegDF = cross_val_LogReg_DF(X,y)\n",
    "print(f\"Mean results from 10 fold cross validation are:\")\n",
    "logRegDF"
   ]
  },
  {
   "cell_type": "markdown",
   "id": "controlling-hygiene",
   "metadata": {},
   "source": [
    "From the above results, we can observe that the accuracy approximately remains near to the test data. But when compared with respect to the recall this value is bit high which is good that the model is generalising. \n",
    "\n",
    "Hence the logistic regression is better than linear regression but we cannot conclude until the final predictions on other models. Hence we look into reandom forest in the next section."
   ]
  },
  {
   "cell_type": "markdown",
   "id": "renewable-equilibrium",
   "metadata": {},
   "source": [
    "## (4) Random Forest Model"
   ]
  },
  {
   "cell_type": "markdown",
   "id": "physical-denmark",
   "metadata": {},
   "source": [
    "### 4.1 Train a random forest model using only the descriptive features selected from part 1 above \n",
    "- A random forest model will now be trained on our test data. \n",
    "- We use the RandomForestClassifier() function. \n",
    "- The random state will be set to 1 to allow the results to be repeated"
   ]
  },
  {
   "cell_type": "code",
   "execution_count": 51,
   "id": "amended-lover",
   "metadata": {},
   "outputs": [
    {
     "data": {
      "text/plain": [
       "RandomForestClassifier(oob_score=True, random_state=1)"
      ]
     },
     "execution_count": 51,
     "metadata": {},
     "output_type": "execute_result"
    }
   ],
   "source": [
    "# Train RF with 100 trees\n",
    "rfc = RandomForestClassifier(n_estimators=100, max_features='auto', oob_score=True, random_state=1)\n",
    "rfc.fit(X_train, y_train)"
   ]
  },
  {
   "cell_type": "markdown",
   "id": "combined-champion",
   "metadata": {},
   "source": [
    "### 4.2 Understanding the Random Forest model\n",
    "\n",
    "- We will first start by trying to understand a decision tree \n",
    "- A random forest is made up of an ensemble/collection of decision trees\n",
    "- Decision tree\n",
    "    - A decision tree is a set of if-then-else rules based on splitting the data based on specific features\n",
    "    - The decision on which feature to split on is based on the information gain (Gini index). \n",
    "   \n",
    "- Random Forest \n",
    "    - The random forest is made up of a number of decision trees\n",
    "    - The output of the random forest is base on the majority output of all decision trees combined\n",
    "    - This gives reliable results but can be hard to interpret\n",
    "    - The random forest will keep track of the importance of features in terms of information gain, which we will see\n",
    "    \n",
    "We will now look at an example of a single decision tree to get a better understanding"
   ]
  },
  {
   "cell_type": "markdown",
   "id": "controlling-shepherd",
   "metadata": {},
   "source": [
    "####  4.2.1  Train Decision tree\n",
    "We will train 2 decision trees, with the same test data \n",
    "- One with max_depth=4 and the other max_depth=9\n",
    "- Max depth determines how deep a decision tree can go before it must give an answer"
   ]
  },
  {
   "cell_type": "code",
   "execution_count": 52,
   "id": "departmental-devon",
   "metadata": {},
   "outputs": [
    {
     "name": "stdout",
     "output_type": "stream",
     "text": [
      "Max depth 4: \n",
      " DecisionTreeClassifier(max_depth=4, random_state=1)\n",
      "Max depth 10: \n",
      " DecisionTreeClassifier(max_depth=9, random_state=1)\n"
     ]
    }
   ],
   "source": [
    "dtc4 = DecisionTreeClassifier(max_depth=4, random_state=1)\n",
    "dtc9 = DecisionTreeClassifier(max_depth=9, random_state=1)\n",
    "dtc4.fit(X_train, y_train)\n",
    "dtc9.fit(X_train, y_train)\n",
    "print(\"Max depth 4: \\n\",dtc4)\n",
    "print(\"Max depth 10: \\n\",dtc9)"
   ]
  },
  {
   "cell_type": "markdown",
   "id": "dedicated-allergy",
   "metadata": {},
   "source": [
    "####  4.2.2  Display Decision tree\n",
    "We will create graph of each tree and store as an image"
   ]
  },
  {
   "cell_type": "code",
   "execution_count": 53,
   "id": "social-military",
   "metadata": {},
   "outputs": [],
   "source": [
    "# create a Graphviz png\n",
    "with open(\"DecisionTree4.dot\", 'w') as f1:\n",
    "    f1 = export_graphviz(dtc4, out_file=f1, feature_names=X_train.columns)\n",
    "with open(\"DecisionTree10.dot\", 'w') as f2:\n",
    "    f2 = export_graphviz(dtc9, out_file=f2, feature_names=X_train.columns)\n"
   ]
  },
  {
   "cell_type": "code",
   "execution_count": 54,
   "id": "invalid-stick",
   "metadata": {},
   "outputs": [
    {
     "data": {
      "image/png": "[encoded data removed]",
      "text/plain": [
       "<Figure size 2880x1440 with 1 Axes>"
      ]
     },
     "metadata": {
      "needs_background": "light"
     },
     "output_type": "display_data"
    }
   ],
   "source": [
    "fig = plt.figure(figsize=(40,20))\n",
    "Tree_Depth_4 = tree.plot_tree(dtc4, feature_names=X_train.columns,  class_names=X_train.columns, filled=True)\n",
    "\n",
    "fig.savefig(\"decistion_tree4.png\")"
   ]
  },
  {
   "cell_type": "code",
   "execution_count": 55,
   "id": "rotary-collar",
   "metadata": {},
   "outputs": [
    {
     "data": {
      "image/png": "[encoded data removed]",
      "text/plain": [
       "<Figure size 2880x1440 with 1 Axes>"
      ]
     },
     "metadata": {
      "needs_background": "light"
     },
     "output_type": "display_data"
    }
   ],
   "source": [
    "fig = plt.figure(figsize=(40,20))\n",
    "Tree_Depth_9 = tree.plot_tree(dtc9, feature_names=X_train.columns,  class_names=X_train.columns, filled=True)\n",
    "\n",
    "fig.savefig(\"decistion_tree9.png\")"
   ]
  },
  {
   "cell_type": "markdown",
   "id": "discrete-mapping",
   "metadata": {},
   "source": [
    "The color coding in the above graphs indicates the majority of the class."
   ]
  },
  {
   "cell_type": "markdown",
   "id": "empirical-thompson",
   "metadata": {},
   "source": [
    "As we have 9 features in the dataset, the decision tree is trained with the depth of 4 and 9 to see how the branches are formed with total features. As we can observe in the figure of depth= 4, the majority of the branchaes are formed based on the '%death_every_30days' which indicates that this feature is so informative.\n",
    "\n",
    "Also, these are the sample decision trees which are similar to the actual ones.\n",
    "But in real case there will be 100's of similar tress which are constructed and at each of the tree the output is noted. Then the mean value among these output values are taken as the final result and are displayed as in the further sections."
   ]
  },
  {
   "cell_type": "markdown",
   "id": "fundamental-invalid",
   "metadata": {},
   "source": [
    "#### 4.2.3 Interpretation of the random forest model\n",
    "As mentioned above the random forest will keep track of the importance of features\n",
    "- We can see from the dataframe below the results of this feature importance ranking\n",
    "- The more important features are the features that the random forest has identified as having higher information gain\n",
    "- This list is the combined result of the 100 decision trees that make up the random forest model\n",
    "\n",
    "Furthermore, we can observe that the new features which are created in the data cleaning dataset(which is done in another file as mentioned above) are having **high information** and are taken as top priority among all other in th table below.\n",
    "Among the 3 new feature the '%deaths_every_30days' and 'Is_person_Waited_OR_Not' are having very good information in predicting the target feature. While 'Seasons' feature is also having some information but which is not as the above 2 features."
   ]
  },
  {
   "cell_type": "code",
   "execution_count": 56,
   "id": "worldwide-comment",
   "metadata": {
    "scrolled": false
   },
   "outputs": [
    {
     "data": {
      "text/html": [
       "<div>\n",
       "<style scoped>\n",
       "    .dataframe tbody tr th:only-of-type {\n",
       "        vertical-align: middle;\n",
       "    }\n",
       "\n",
       "    .dataframe tbody tr th {\n",
       "        vertical-align: top;\n",
       "    }\n",
       "\n",
       "    .dataframe thead th {\n",
       "        text-align: right;\n",
       "    }\n",
       "</style>\n",
       "<table border=\"1\" class=\"dataframe\">\n",
       "  <thead>\n",
       "    <tr style=\"text-align: right;\">\n",
       "      <th></th>\n",
       "      <th>feature</th>\n",
       "      <th>importance</th>\n",
       "    </tr>\n",
       "  </thead>\n",
       "  <tbody>\n",
       "    <tr>\n",
       "      <th>0</th>\n",
       "      <td>%deaths_every_30days</td>\n",
       "      <td>0.140650</td>\n",
       "    </tr>\n",
       "    <tr>\n",
       "      <th>22</th>\n",
       "      <td>hosp_yn_Yes</td>\n",
       "      <td>0.110025</td>\n",
       "    </tr>\n",
       "    <tr>\n",
       "      <th>1</th>\n",
       "      <td>Is_person_Waited_OR_Not</td>\n",
       "      <td>0.058158</td>\n",
       "    </tr>\n",
       "    <tr>\n",
       "      <th>11</th>\n",
       "      <td>age_group_60 - 69 Years</td>\n",
       "      <td>0.050898</td>\n",
       "    </tr>\n",
       "    <tr>\n",
       "      <th>19</th>\n",
       "      <td>race_ethnicity_combined_White, Non-Hispanic</td>\n",
       "      <td>0.050541</td>\n",
       "    </tr>\n",
       "    <tr>\n",
       "      <th>10</th>\n",
       "      <td>age_group_50 - 59 Years</td>\n",
       "      <td>0.048504</td>\n",
       "    </tr>\n",
       "    <tr>\n",
       "      <th>26</th>\n",
       "      <td>medcond_yn_Yes</td>\n",
       "      <td>0.044805</td>\n",
       "    </tr>\n",
       "    <tr>\n",
       "      <th>12</th>\n",
       "      <td>age_group_70 - 79 Years</td>\n",
       "      <td>0.041955</td>\n",
       "    </tr>\n",
       "    <tr>\n",
       "      <th>24</th>\n",
       "      <td>icu_yn_Yes</td>\n",
       "      <td>0.037290</td>\n",
       "    </tr>\n",
       "    <tr>\n",
       "      <th>20</th>\n",
       "      <td>hosp_yn_No</td>\n",
       "      <td>0.035847</td>\n",
       "    </tr>\n",
       "    <tr>\n",
       "      <th>23</th>\n",
       "      <td>icu_yn_No</td>\n",
       "      <td>0.034470</td>\n",
       "    </tr>\n",
       "    <tr>\n",
       "      <th>9</th>\n",
       "      <td>age_group_40 - 49 Years</td>\n",
       "      <td>0.034408</td>\n",
       "    </tr>\n",
       "    <tr>\n",
       "      <th>2</th>\n",
       "      <td>sex_Female</td>\n",
       "      <td>0.030026</td>\n",
       "    </tr>\n",
       "    <tr>\n",
       "      <th>16</th>\n",
       "      <td>race_ethnicity_combined_Hispanic/Latino</td>\n",
       "      <td>0.029961</td>\n",
       "    </tr>\n",
       "    <tr>\n",
       "      <th>3</th>\n",
       "      <td>sex_Male</td>\n",
       "      <td>0.029711</td>\n",
       "    </tr>\n",
       "    <tr>\n",
       "      <th>15</th>\n",
       "      <td>race_ethnicity_combined_Black, Non-Hispanic</td>\n",
       "      <td>0.026130</td>\n",
       "    </tr>\n",
       "    <tr>\n",
       "      <th>8</th>\n",
       "      <td>age_group_30 - 39 Years</td>\n",
       "      <td>0.025643</td>\n",
       "    </tr>\n",
       "    <tr>\n",
       "      <th>27</th>\n",
       "      <td>Seasons_Autumn</td>\n",
       "      <td>0.022720</td>\n",
       "    </tr>\n",
       "    <tr>\n",
       "      <th>29</th>\n",
       "      <td>Seasons_Summer</td>\n",
       "      <td>0.022526</td>\n",
       "    </tr>\n",
       "    <tr>\n",
       "      <th>28</th>\n",
       "      <td>Seasons_Spring</td>\n",
       "      <td>0.020546</td>\n",
       "    </tr>\n",
       "    <tr>\n",
       "      <th>14</th>\n",
       "      <td>race_ethnicity_combined_Asian, Non-Hispanic</td>\n",
       "      <td>0.020510</td>\n",
       "    </tr>\n",
       "    <tr>\n",
       "      <th>25</th>\n",
       "      <td>medcond_yn_No</td>\n",
       "      <td>0.019605</td>\n",
       "    </tr>\n",
       "    <tr>\n",
       "      <th>7</th>\n",
       "      <td>age_group_20 - 29 Years</td>\n",
       "      <td>0.019099</td>\n",
       "    </tr>\n",
       "    <tr>\n",
       "      <th>6</th>\n",
       "      <td>age_group_10 - 19 Years</td>\n",
       "      <td>0.015694</td>\n",
       "    </tr>\n",
       "    <tr>\n",
       "      <th>5</th>\n",
       "      <td>age_group_0 - 9 Years</td>\n",
       "      <td>0.012899</td>\n",
       "    </tr>\n",
       "    <tr>\n",
       "      <th>17</th>\n",
       "      <td>race_ethnicity_combined_Multiple/Other, Non-Hi...</td>\n",
       "      <td>0.009905</td>\n",
       "    </tr>\n",
       "    <tr>\n",
       "      <th>13</th>\n",
       "      <td>race_ethnicity_combined_American Indian/Alaska...</td>\n",
       "      <td>0.006217</td>\n",
       "    </tr>\n",
       "    <tr>\n",
       "      <th>18</th>\n",
       "      <td>race_ethnicity_combined_Native Hawaiian/Other ...</td>\n",
       "      <td>0.000751</td>\n",
       "    </tr>\n",
       "    <tr>\n",
       "      <th>21</th>\n",
       "      <td>hosp_yn_OTH</td>\n",
       "      <td>0.000497</td>\n",
       "    </tr>\n",
       "    <tr>\n",
       "      <th>4</th>\n",
       "      <td>sex_Other</td>\n",
       "      <td>0.000008</td>\n",
       "    </tr>\n",
       "  </tbody>\n",
       "</table>\n",
       "</div>"
      ],
      "text/plain": [
       "                                              feature  importance\n",
       "0                                %deaths_every_30days    0.140650\n",
       "22                                        hosp_yn_Yes    0.110025\n",
       "1                             Is_person_Waited_OR_Not    0.058158\n",
       "11                            age_group_60 - 69 Years    0.050898\n",
       "19        race_ethnicity_combined_White, Non-Hispanic    0.050541\n",
       "10                            age_group_50 - 59 Years    0.048504\n",
       "26                                     medcond_yn_Yes    0.044805\n",
       "12                            age_group_70 - 79 Years    0.041955\n",
       "24                                         icu_yn_Yes    0.037290\n",
       "20                                         hosp_yn_No    0.035847\n",
       "23                                          icu_yn_No    0.034470\n",
       "9                             age_group_40 - 49 Years    0.034408\n",
       "2                                          sex_Female    0.030026\n",
       "16            race_ethnicity_combined_Hispanic/Latino    0.029961\n",
       "3                                            sex_Male    0.029711\n",
       "15        race_ethnicity_combined_Black, Non-Hispanic    0.026130\n",
       "8                             age_group_30 - 39 Years    0.025643\n",
       "27                                     Seasons_Autumn    0.022720\n",
       "29                                     Seasons_Summer    0.022526\n",
       "28                                     Seasons_Spring    0.020546\n",
       "14        race_ethnicity_combined_Asian, Non-Hispanic    0.020510\n",
       "25                                      medcond_yn_No    0.019605\n",
       "7                             age_group_20 - 29 Years    0.019099\n",
       "6                             age_group_10 - 19 Years    0.015694\n",
       "5                               age_group_0 - 9 Years    0.012899\n",
       "17  race_ethnicity_combined_Multiple/Other, Non-Hi...    0.009905\n",
       "13  race_ethnicity_combined_American Indian/Alaska...    0.006217\n",
       "18  race_ethnicity_combined_Native Hawaiian/Other ...    0.000751\n",
       "21                                        hosp_yn_OTH    0.000497\n",
       "4                                           sex_Other    0.000008"
      ]
     },
     "execution_count": 56,
     "metadata": {},
     "output_type": "execute_result"
    }
   ],
   "source": [
    "importance = pd.DataFrame({'feature': X_train.columns, 'importance':rfc.feature_importances_})\n",
    "importance.sort_values('importance', ascending=False)"
   ]
  },
  {
   "cell_type": "markdown",
   "id": "institutional-probability",
   "metadata": {},
   "source": [
    "This information gain is a good feature to the random forest which tells what all features are providing good information in predicting the target feature. \n",
    "\n",
    "From the list of features, the features are sorted from the top information given feature till the least one. So, as we can observe that the other category in sex, other in hospital status features are providng very information to the target feature. "
   ]
  },
  {
   "cell_type": "markdown",
   "id": "capable-wagon",
   "metadata": {},
   "source": [
    "### 4.4 Printing 100 predicted target features and evaluate the prediction \n",
    "- Here we will print the predicted target feature value for the first 10 training examples. "
   ]
  },
  {
   "cell_type": "code",
   "execution_count": 57,
   "id": "automated-welcome",
   "metadata": {},
   "outputs": [
    {
     "data": {
      "text/html": [
       "<div>\n",
       "<style scoped>\n",
       "    .dataframe tbody tr th:only-of-type {\n",
       "        vertical-align: middle;\n",
       "    }\n",
       "\n",
       "    .dataframe tbody tr th {\n",
       "        vertical-align: top;\n",
       "    }\n",
       "\n",
       "    .dataframe thead th {\n",
       "        text-align: right;\n",
       "    }\n",
       "</style>\n",
       "<table border=\"1\" class=\"dataframe\">\n",
       "  <thead>\n",
       "    <tr style=\"text-align: right;\">\n",
       "      <th></th>\n",
       "      <th>ActualClass</th>\n",
       "      <th>PredictedClass</th>\n",
       "    </tr>\n",
       "  </thead>\n",
       "  <tbody>\n",
       "    <tr>\n",
       "      <th>0</th>\n",
       "      <td>0</td>\n",
       "      <td>0</td>\n",
       "    </tr>\n",
       "    <tr>\n",
       "      <th>1</th>\n",
       "      <td>1</td>\n",
       "      <td>1</td>\n",
       "    </tr>\n",
       "    <tr>\n",
       "      <th>2</th>\n",
       "      <td>0</td>\n",
       "      <td>0</td>\n",
       "    </tr>\n",
       "    <tr>\n",
       "      <th>3</th>\n",
       "      <td>0</td>\n",
       "      <td>0</td>\n",
       "    </tr>\n",
       "    <tr>\n",
       "      <th>4</th>\n",
       "      <td>0</td>\n",
       "      <td>0</td>\n",
       "    </tr>\n",
       "    <tr>\n",
       "      <th>5</th>\n",
       "      <td>0</td>\n",
       "      <td>0</td>\n",
       "    </tr>\n",
       "    <tr>\n",
       "      <th>6</th>\n",
       "      <td>0</td>\n",
       "      <td>0</td>\n",
       "    </tr>\n",
       "    <tr>\n",
       "      <th>7</th>\n",
       "      <td>0</td>\n",
       "      <td>0</td>\n",
       "    </tr>\n",
       "    <tr>\n",
       "      <th>8</th>\n",
       "      <td>0</td>\n",
       "      <td>0</td>\n",
       "    </tr>\n",
       "    <tr>\n",
       "      <th>9</th>\n",
       "      <td>1</td>\n",
       "      <td>1</td>\n",
       "    </tr>\n",
       "  </tbody>\n",
       "</table>\n",
       "</div>"
      ],
      "text/plain": [
       "   ActualClass  PredictedClass\n",
       "0            0               0\n",
       "1            1               1\n",
       "2            0               0\n",
       "3            0               0\n",
       "4            0               0\n",
       "5            0               0\n",
       "6            0               0\n",
       "7            0               0\n",
       "8            0               0\n",
       "9            1               1"
      ]
     },
     "execution_count": 57,
     "metadata": {},
     "output_type": "execute_result"
    }
   ],
   "source": [
    "# Predicted class labels for all examples, \n",
    "# using the trained model, on in-sample data (same sample used for training and test)\n",
    "rfc_predictions_train = rfc.predict(X_train)\n",
    "df_true_vs_rfc_predicted = pd.DataFrame({'ActualClass': y_train, 'PredictedClass': rfc_predictions_train})\n",
    "df_true_vs_rfc_predicted.head(10)"
   ]
  },
  {
   "cell_type": "markdown",
   "id": "human-questionnaire",
   "metadata": {},
   "source": [
    "### 4.5 Evaluation metrics based on training data\n",
    "- We will print the classification evaluation measures computed on the training set (e.g. Accuracy, Confusion matrix, Precision, Recall, F1)\n",
    "- We will discuss finding based on these measures"
   ]
  },
  {
   "cell_type": "code",
   "execution_count": 58,
   "id": "authorized-exercise",
   "metadata": {},
   "outputs": [
    {
     "name": "stdout",
     "output_type": "stream",
     "text": [
      "==================== Train Data =======================\n",
      "Accuracy:  0.9928079112975726\n",
      "Confusion matrix: \n",
      " [[6433    8]\n",
      " [  40  193]]\n",
      "Classification report:\n",
      "                precision    recall  f1-score   support\n",
      "\n",
      "           0       0.99      1.00      1.00      6441\n",
      "           1       0.96      0.83      0.89       233\n",
      "\n",
      "    accuracy                           0.99      6674\n",
      "   macro avg       0.98      0.91      0.94      6674\n",
      "weighted avg       0.99      0.99      0.99      6674\n",
      "\n"
     ]
    }
   ],
   "source": [
    "print(\"==================== Train Data =======================\")\n",
    "print(\"Accuracy: \", metrics.accuracy_score(y_train, rfc_predictions_train))\n",
    "print(\"Confusion matrix: \\n\", metrics.confusion_matrix(y_train, rfc_predictions_train))\n",
    "print(\"Classification report:\\n \", metrics.classification_report(y_train, rfc_predictions_train))"
   ]
  },
  {
   "cell_type": "markdown",
   "id": "ceramic-literacy",
   "metadata": {},
   "source": [
    "### 4.6 Evaluate the model using the hold-out (30% examples) test set\n",
    "- These results from the test data will be compared the results from the training data.\n",
    "- In addition they will be compared to the results from a cross-validated model (i.e., a new model trained and evaluated using cross-validation on the full dataset)."
   ]
  },
  {
   "cell_type": "markdown",
   "id": "sharp-acceptance",
   "metadata": {},
   "source": [
    "Printing Actual RiskPerformance vs predicted based on test data"
   ]
  },
  {
   "cell_type": "code",
   "execution_count": 59,
   "id": "separated-prison",
   "metadata": {},
   "outputs": [
    {
     "data": {
      "text/html": [
       "<div>\n",
       "<style scoped>\n",
       "    .dataframe tbody tr th:only-of-type {\n",
       "        vertical-align: middle;\n",
       "    }\n",
       "\n",
       "    .dataframe tbody tr th {\n",
       "        vertical-align: top;\n",
       "    }\n",
       "\n",
       "    .dataframe thead th {\n",
       "        text-align: right;\n",
       "    }\n",
       "</style>\n",
       "<table border=\"1\" class=\"dataframe\">\n",
       "  <thead>\n",
       "    <tr style=\"text-align: right;\">\n",
       "      <th></th>\n",
       "      <th>ActualClass</th>\n",
       "      <th>PredictedClass</th>\n",
       "    </tr>\n",
       "  </thead>\n",
       "  <tbody>\n",
       "    <tr>\n",
       "      <th>0</th>\n",
       "      <td>0</td>\n",
       "      <td>0</td>\n",
       "    </tr>\n",
       "    <tr>\n",
       "      <th>1</th>\n",
       "      <td>0</td>\n",
       "      <td>0</td>\n",
       "    </tr>\n",
       "    <tr>\n",
       "      <th>2</th>\n",
       "      <td>0</td>\n",
       "      <td>0</td>\n",
       "    </tr>\n",
       "    <tr>\n",
       "      <th>3</th>\n",
       "      <td>0</td>\n",
       "      <td>0</td>\n",
       "    </tr>\n",
       "    <tr>\n",
       "      <th>4</th>\n",
       "      <td>0</td>\n",
       "      <td>0</td>\n",
       "    </tr>\n",
       "    <tr>\n",
       "      <th>5</th>\n",
       "      <td>0</td>\n",
       "      <td>0</td>\n",
       "    </tr>\n",
       "    <tr>\n",
       "      <th>6</th>\n",
       "      <td>0</td>\n",
       "      <td>0</td>\n",
       "    </tr>\n",
       "    <tr>\n",
       "      <th>7</th>\n",
       "      <td>0</td>\n",
       "      <td>0</td>\n",
       "    </tr>\n",
       "    <tr>\n",
       "      <th>8</th>\n",
       "      <td>0</td>\n",
       "      <td>0</td>\n",
       "    </tr>\n",
       "    <tr>\n",
       "      <th>9</th>\n",
       "      <td>0</td>\n",
       "      <td>0</td>\n",
       "    </tr>\n",
       "    <tr>\n",
       "      <th>10</th>\n",
       "      <td>0</td>\n",
       "      <td>0</td>\n",
       "    </tr>\n",
       "    <tr>\n",
       "      <th>11</th>\n",
       "      <td>0</td>\n",
       "      <td>0</td>\n",
       "    </tr>\n",
       "    <tr>\n",
       "      <th>12</th>\n",
       "      <td>0</td>\n",
       "      <td>0</td>\n",
       "    </tr>\n",
       "    <tr>\n",
       "      <th>13</th>\n",
       "      <td>0</td>\n",
       "      <td>0</td>\n",
       "    </tr>\n",
       "    <tr>\n",
       "      <th>14</th>\n",
       "      <td>0</td>\n",
       "      <td>0</td>\n",
       "    </tr>\n",
       "    <tr>\n",
       "      <th>15</th>\n",
       "      <td>0</td>\n",
       "      <td>0</td>\n",
       "    </tr>\n",
       "    <tr>\n",
       "      <th>16</th>\n",
       "      <td>0</td>\n",
       "      <td>0</td>\n",
       "    </tr>\n",
       "    <tr>\n",
       "      <th>17</th>\n",
       "      <td>0</td>\n",
       "      <td>0</td>\n",
       "    </tr>\n",
       "    <tr>\n",
       "      <th>18</th>\n",
       "      <td>0</td>\n",
       "      <td>0</td>\n",
       "    </tr>\n",
       "    <tr>\n",
       "      <th>19</th>\n",
       "      <td>0</td>\n",
       "      <td>0</td>\n",
       "    </tr>\n",
       "  </tbody>\n",
       "</table>\n",
       "</div>"
      ],
      "text/plain": [
       "    ActualClass  PredictedClass\n",
       "0             0               0\n",
       "1             0               0\n",
       "2             0               0\n",
       "3             0               0\n",
       "4             0               0\n",
       "5             0               0\n",
       "6             0               0\n",
       "7             0               0\n",
       "8             0               0\n",
       "9             0               0\n",
       "10            0               0\n",
       "11            0               0\n",
       "12            0               0\n",
       "13            0               0\n",
       "14            0               0\n",
       "15            0               0\n",
       "16            0               0\n",
       "17            0               0\n",
       "18            0               0\n",
       "19            0               0"
      ]
     },
     "execution_count": 59,
     "metadata": {},
     "output_type": "execute_result"
    }
   ],
   "source": [
    "# Predicted class labels for all examples, \n",
    "# using the trained model, on in-sample data (same sample used for training and test)\n",
    "rfc_predictions_test = rfc.predict(X_test)\n",
    "df_true_vs_rfc_predicted_test = pd.DataFrame({'ActualClass': y_test, 'PredictedClass': rfc_predictions_test})\n",
    "df_true_vs_rfc_predicted_test.head(20)"
   ]
  },
  {
   "cell_type": "markdown",
   "id": "negative-method",
   "metadata": {},
   "source": [
    "Evaluation metrics based on test data"
   ]
  },
  {
   "cell_type": "code",
   "execution_count": 60,
   "id": "primary-password",
   "metadata": {},
   "outputs": [
    {
     "name": "stdout",
     "output_type": "stream",
     "text": [
      "==================== Test Data =======================\n",
      "Accuracy:  0.9629500174764068\n",
      "Confusion matrix: \n",
      " [[2731   38]\n",
      " [  68   24]]\n",
      "Classification report:\n",
      "                precision    recall  f1-score   support\n",
      "\n",
      "           0       0.98      0.99      0.98      2769\n",
      "           1       0.39      0.26      0.31        92\n",
      "\n",
      "    accuracy                           0.96      2861\n",
      "   macro avg       0.68      0.62      0.65      2861\n",
      "weighted avg       0.96      0.96      0.96      2861\n",
      "\n",
      "==================== Train Data =======================\n",
      "Accuracy:  0.9928079112975726\n",
      "Confusion matrix: \n",
      " [[6433    8]\n",
      " [  40  193]]\n",
      "Classification report:\n",
      "                precision    recall  f1-score   support\n",
      "\n",
      "           0       0.99      1.00      1.00      6441\n",
      "           1       0.96      0.83      0.89       233\n",
      "\n",
      "    accuracy                           0.99      6674\n",
      "   macro avg       0.98      0.91      0.94      6674\n",
      "weighted avg       0.99      0.99      0.99      6674\n",
      "\n",
      "======================================================\n"
     ]
    }
   ],
   "source": [
    "print(\"==================== Test Data =======================\")\n",
    "print(\"Accuracy: \", metrics.accuracy_score(y_test, rfc_predictions_test))\n",
    "print(\"Confusion matrix: \\n\", metrics.confusion_matrix(y_test, rfc_predictions_test))\n",
    "print(\"Classification report:\\n \", metrics.classification_report(y_test, rfc_predictions_test))\n",
    "print(\"==================== Train Data =======================\")\n",
    "print(\"Accuracy: \", metrics.accuracy_score(y_train, rfc_predictions_train))\n",
    "print(\"Confusion matrix: \\n\", metrics.confusion_matrix(y_train, rfc_predictions_train))\n",
    "print(\"Classification report:\\n \", metrics.classification_report(y_train, rfc_predictions_train))\n",
    "print(\"======================================================\")"
   ]
  },
  {
   "cell_type": "markdown",
   "id": "based-heart",
   "metadata": {},
   "source": [
    "**Interpretation of test results and comparison with training results**\n",
    "\n",
    "- Confusion matrix\n",
    "    - The test data has total values of 2994.\n",
    "    - Here 22% of the postive class values are predicted correctly.\n",
    "- Accuracy\n",
    "    - The accuracy of the test data is reduced when compared with train data. The values are 99.1% and 96.5%. \n",
    "    - The difference between these results are having a great difference.\n",
    "    \n",
    "- Precision\n",
    "    - The precision score for predicting the positive class has reduced from 94% to 51%.\n",
    "    - While the precision score for predicting the negative has reduced from 99% to 97%.\n",
    "    \n",
    "- Recall\n",
    "    - The recall score for predicting the positive class has decreased from 78% to 23%.\n",
    "    - The recall score for predicting the negative class has reduced from 100% to 99%.\n",
    "- F1\n",
    "    - The f1 score for predicting the positive class has reduced from 85% to 32%.\n",
    "    - The f1 score for predicting the negative class has reduced from 100% to 98% which is equal with a little difference.\n",
    "\n",
    "**Summary**\n",
    "- The results are having a large differnece when compared with other 2 models.\n",
    "- These values are a little less than expected as we are now testing the model prediction on data it has not seen before\n",
    "- More comparisons need to be made and this is where cross validation steps in"
   ]
  },
  {
   "cell_type": "markdown",
   "id": "nuclear-camel",
   "metadata": {},
   "source": [
    "### 4.7 Cross validation\n",
    "- We will preform cross validation and store the results in a dictionary for later use"
   ]
  },
  {
   "cell_type": "code",
   "execution_count": 61,
   "id": "floral-memorabilia",
   "metadata": {},
   "outputs": [],
   "source": [
    "def cross_val_RandomForest_DF(X,y, depth=None, trees=50):\n",
    "    \"\"\"Function to perform cross validation and store results \n",
    "    in dataframe. Cross validation looks at accuracy, precision, \n",
    "    recall, f1. Returns a dataframe with results\"\"\"\n",
    "\n",
    "    # store results in dict\n",
    "    RandomForestResults = {}\n",
    "    # metrics to test against\n",
    "    test_metrics = ['accuracy','precision','recall', 'f1']\n",
    "\n",
    "    for metric in test_metrics:\n",
    "        # generate test results\n",
    "        result = cross_val_score(RandomForestClassifier(n_estimators=trees, max_features='auto',  oob_score=True, random_state=1, max_depth=depth), X, y, scoring=metric, cv=10)\n",
    "        # store result in dict\n",
    "        RandomForestResults[metric] = result.mean()\n",
    "    \n",
    "    # create dataframe with results\n",
    "    RandomForestDF = pd.DataFrame.from_dict(RandomForestResults, orient='index', columns=['Random_Forests'])\n",
    "\n",
    "    return RandomForestDF"
   ]
  },
  {
   "cell_type": "markdown",
   "id": "pointed-horizon",
   "metadata": {},
   "source": [
    "##### The results for Random Forests are summarized below"
   ]
  },
  {
   "cell_type": "code",
   "execution_count": 62,
   "id": "swedish-knock",
   "metadata": {},
   "outputs": [
    {
     "name": "stdout",
     "output_type": "stream",
     "text": [
      "Mean results from 10 fold cross validation are:\n"
     ]
    },
    {
     "data": {
      "text/html": [
       "<div>\n",
       "<style scoped>\n",
       "    .dataframe tbody tr th:only-of-type {\n",
       "        vertical-align: middle;\n",
       "    }\n",
       "\n",
       "    .dataframe tbody tr th {\n",
       "        vertical-align: top;\n",
       "    }\n",
       "\n",
       "    .dataframe thead th {\n",
       "        text-align: right;\n",
       "    }\n",
       "</style>\n",
       "<table border=\"1\" class=\"dataframe\">\n",
       "  <thead>\n",
       "    <tr style=\"text-align: right;\">\n",
       "      <th></th>\n",
       "      <th>Random_Forests</th>\n",
       "    </tr>\n",
       "  </thead>\n",
       "  <tbody>\n",
       "    <tr>\n",
       "      <th>accuracy</th>\n",
       "      <td>0.963398</td>\n",
       "    </tr>\n",
       "    <tr>\n",
       "      <th>precision</th>\n",
       "      <td>0.442984</td>\n",
       "    </tr>\n",
       "    <tr>\n",
       "      <th>recall</th>\n",
       "      <td>0.248958</td>\n",
       "    </tr>\n",
       "    <tr>\n",
       "      <th>f1</th>\n",
       "      <td>0.315725</td>\n",
       "    </tr>\n",
       "  </tbody>\n",
       "</table>\n",
       "</div>"
      ],
      "text/plain": [
       "           Random_Forests\n",
       "accuracy         0.963398\n",
       "precision        0.442984\n",
       "recall           0.248958\n",
       "f1               0.315725"
      ]
     },
     "execution_count": 62,
     "metadata": {},
     "output_type": "execute_result"
    }
   ],
   "source": [
    "RandomForestDF = cross_val_RandomForest_DF(X,y)\n",
    "print(f\"Mean results from 10 fold cross validation are:\")\n",
    "RandomForestDF"
   ]
  },
  {
   "cell_type": "markdown",
   "id": "stone-gender",
   "metadata": {},
   "source": [
    "- The accuracy has been dropped from other 2 models and is having same accuracy before cross-validation. Which is beacuse even after 10 fold cross validation the set is not having good rows of positive class due to which the negative class is a majority class and hence the values are not appropriate.\n",
    "\n",
    "- While the precision, recall, f1 are decreased with train data but almost similar with other results. "
   ]
  },
  {
   "cell_type": "markdown",
   "id": "grateful-british",
   "metadata": {},
   "source": [
    "## 5 Improving Predictive Models"
   ]
  },
  {
   "cell_type": "markdown",
   "id": "square-distribution",
   "metadata": {},
   "source": [
    "### 5.1 Which model of the ones trained above performs better at predicting the target feature? \n",
    "\n",
    "#### 5.1.1 Comparision between all the models\n",
    "- All models preform almost identical on the test dataset except with random forest which is having a difference of - 1%\n",
    "- Summary of the results so far can be seen below (based on predicting as person died=Yes)\n"
   ]
  },
  {
   "cell_type": "code",
   "execution_count": 63,
   "id": "future-transcription",
   "metadata": {},
   "outputs": [
    {
     "data": {
      "text/html": [
       "<div>\n",
       "<style scoped>\n",
       "    .dataframe tbody tr th:only-of-type {\n",
       "        vertical-align: middle;\n",
       "    }\n",
       "\n",
       "    .dataframe tbody tr th {\n",
       "        vertical-align: top;\n",
       "    }\n",
       "\n",
       "    .dataframe thead th {\n",
       "        text-align: right;\n",
       "    }\n",
       "</style>\n",
       "<table border=\"1\" class=\"dataframe\">\n",
       "  <thead>\n",
       "    <tr style=\"text-align: right;\">\n",
       "      <th></th>\n",
       "      <th>Linear_Regression</th>\n",
       "      <th>Logistic_Regression</th>\n",
       "      <th>Random_Forests</th>\n",
       "    </tr>\n",
       "  </thead>\n",
       "  <tbody>\n",
       "    <tr>\n",
       "      <th>accuracy</th>\n",
       "      <td>0.969696</td>\n",
       "      <td>0.970110</td>\n",
       "      <td>0.963398</td>\n",
       "    </tr>\n",
       "    <tr>\n",
       "      <th>precision</th>\n",
       "      <td>0.786084</td>\n",
       "      <td>0.627805</td>\n",
       "      <td>0.442984</td>\n",
       "    </tr>\n",
       "    <tr>\n",
       "      <th>recall</th>\n",
       "      <td>0.141094</td>\n",
       "      <td>0.301042</td>\n",
       "      <td>0.248958</td>\n",
       "    </tr>\n",
       "    <tr>\n",
       "      <th>f1</th>\n",
       "      <td>0.237153</td>\n",
       "      <td>0.404898</td>\n",
       "      <td>0.315725</td>\n",
       "    </tr>\n",
       "  </tbody>\n",
       "</table>\n",
       "</div>"
      ],
      "text/plain": [
       "           Linear_Regression  Logistic_Regression  Random_Forests\n",
       "accuracy            0.969696             0.970110        0.963398\n",
       "precision           0.786084             0.627805        0.442984\n",
       "recall              0.141094             0.301042        0.248958\n",
       "f1                  0.237153             0.404898        0.315725"
      ]
     },
     "execution_count": 63,
     "metadata": {},
     "output_type": "execute_result"
    }
   ],
   "source": [
    "ResultsDF = pd.concat([linRegDF, logRegDF, RandomForestDF], axis=1)\n",
    "ResultsDF"
   ]
  },
  {
   "cell_type": "markdown",
   "id": "played-volume",
   "metadata": {},
   "source": [
    "From the comparision of above 3 models, we can conclude that the\n",
    "- logistic regression is performing well in predicting the postive class(death_yn = Yes) which can be observed in recall.\n",
    "- With respect to the accuracy also, the logistic regression is good but here the most of the values(majority class) are death_yn = No.\n",
    "\n",
    "Hence, overall the **logistic regression** is the best model among all 3 models."
   ]
  },
  {
   "cell_type": "markdown",
   "id": "obvious-morgan",
   "metadata": {},
   "source": [
    "### 5.1.2 Is the model more accurate than a simple model that always predicts the majority class\n",
    "- We will compare our results above to a simple model which predicts for the majority class\n",
    "- First we will get the breakdown of the test dataset and see which is the majority class"
   ]
  },
  {
   "cell_type": "code",
   "execution_count": 64,
   "id": "naval-steam",
   "metadata": {},
   "outputs": [
    {
     "name": "stdout",
     "output_type": "stream",
     "text": [
      "From original dataset: \t\tCount 2861\n",
      "Total number of persons never dead:\t 92\t3.22%\n",
      "Total number of persons died:\t\t 2769\t96.78%\n"
     ]
    }
   ],
   "source": [
    "death_yes_count = y_test[y_test == 1].count()\n",
    "death_No_count = y_test[y_test == 0].count()\n",
    "total = death_yes_count+ death_No_count\n",
    "print(f'From original dataset: \\t\\tCount {total}')\n",
    "print(f'Total number of persons never dead:\\t {death_yes_count}\\t{round(death_yes_count/len(y_test)*100,2)}%')\n",
    "print(f'Total number of persons died:\\t\\t {death_No_count}\\t{round(death_No_count/len(y_test)*100,2)}%')"
   ]
  },
  {
   "cell_type": "code",
   "execution_count": 65,
   "id": "further-alberta",
   "metadata": {},
   "outputs": [
    {
     "name": "stdout",
     "output_type": "stream",
     "text": [
      "Accuracy:  0.9678434113946173\n",
      "Confusion matrix: \n",
      " [[2769    0]\n",
      " [  92    0]]\n",
      "Classification report:\n",
      "                precision    recall  f1-score   support\n",
      "\n",
      "           0       0.97      1.00      0.98      2769\n",
      "           1       0.00      0.00      0.00        92\n",
      "\n",
      "    accuracy                           0.97      2861\n",
      "   macro avg       0.48      0.50      0.49      2861\n",
      "weighted avg       0.94      0.97      0.95      2861\n",
      "\n"
     ]
    }
   ],
   "source": [
    "# generate array of 2994 zeros (length of test dataset)\n",
    "majority = np.zeros(2861)\n",
    "# create dataframe \n",
    "df_majorityClass = pd.DataFrame(majority, columns=['prediction'])\n",
    "# calculate scores of simple predictin vs actual\n",
    "print(\"Accuracy: \", metrics.accuracy_score(y_test, df_majorityClass))\n",
    "print(\"Confusion matrix: \\n\", metrics.confusion_matrix(y_test, df_majorityClass))\n",
    "print(\"Classification report:\\n \", metrics.classification_report(y_test, df_majorityClass))"
   ]
  },
  {
   "cell_type": "markdown",
   "id": "copyrighted-bonus",
   "metadata": {},
   "source": [
    "### 5.2 Summarise your understanding of the problem and results. Can you think of ideas in improving the best model so far."
   ]
  },
  {
   "cell_type": "markdown",
   "id": "valuable-extraction",
   "metadata": {},
   "source": [
    "- For predicting good outcome the simple model fails completely as expected\n",
    "- In predicting the final target feature, the simple model is much worse than other models which can be observed from above results\n",
    "    - The precision is the same as the accuracy in this case - i.e. how good is it at predicting 0\n",
    "    - The recall is 100% as all of the actual 0 values were predicted 0, but the value is 0 for positive class.\n",
    "    - The f1 is between the precision and recall as it is a weighted average of the two"
   ]
  },
  {
   "cell_type": "markdown",
   "id": "exceptional-terror",
   "metadata": {},
   "source": [
    "As, we know that the dataset is imbalanced the low results of the models are expected. Also, there are many other parameters which effect the target feature which are not considered. But with this dataset, it is tough to conclude the results with such low data for death = Yes. Neverthless, with the existing data the below are the final conclusions till now on the modelling.\n",
    "\n",
    "Therefore, \n",
    "- From the above results and comparisions, the logistic regression is the best model to predict the target feature,\n",
    "- Logistic regression is better in accuracy, recall(as it is important with respect to positive class).\n",
    "- Also, it is more robust to outliers, hence the results does not effect even with different set of data which is having outliers.\n",
    "- The simple model concludes that the dataset is imbalanced due to which the prediction results not appropriate."
   ]
  },
  {
   "cell_type": "markdown",
   "id": "outer-savannah",
   "metadata": {},
   "source": [
    "#### Ideas to improve the model results\n",
    "- 5.2.1 By **normalising** the continous features.\n",
    "    - Sometimes the model may give good results on predictiong the target feature by normalising the data. \n",
    "    - Hence here the only continous feature '%deaths_every_30days' is normalised and then compared the results\n",
    "    \n",
    "- 5.2.2 **Balance the dataset** by replacing some rows with death_yn = Yes.\n",
    "    - As the dataset is imbalanced, we will change some data to death_yn = yes and check the output of the model."
   ]
  },
  {
   "cell_type": "markdown",
   "id": "spectacular-triumph",
   "metadata": {},
   "source": [
    "### 5.2.1 Normalising continous data\n",
    "We will use the standard normalise for the continous feature and test the results. Because the tarnsformation of standardising is very common and can help some learning algorithms."
   ]
  },
  {
   "cell_type": "code",
   "execution_count": 66,
   "id": "cubic-humanity",
   "metadata": {},
   "outputs": [],
   "source": [
    "# We will use the new dataframe which is a copy of df_model consists of all feature with dummy encoding\n",
    "df_norm = df_model.copy()"
   ]
  },
  {
   "cell_type": "code",
   "execution_count": 67,
   "id": "possible-peninsula",
   "metadata": {},
   "outputs": [],
   "source": [
    "#Only keep numeric features\n",
    "df_cont = df['%deaths_every_30days']"
   ]
  },
  {
   "cell_type": "code",
   "execution_count": 68,
   "id": "finite-approach",
   "metadata": {},
   "outputs": [
    {
     "data": {
      "text/html": [
       "<div>\n",
       "<style scoped>\n",
       "    .dataframe tbody tr th:only-of-type {\n",
       "        vertical-align: middle;\n",
       "    }\n",
       "\n",
       "    .dataframe tbody tr th {\n",
       "        vertical-align: top;\n",
       "    }\n",
       "\n",
       "    .dataframe thead th {\n",
       "        text-align: right;\n",
       "    }\n",
       "</style>\n",
       "<table border=\"1\" class=\"dataframe\">\n",
       "  <thead>\n",
       "    <tr style=\"text-align: right;\">\n",
       "      <th></th>\n",
       "      <th>%deaths_every_30days</th>\n",
       "      <th>Is_person_Waited_OR_Not</th>\n",
       "      <th>sex_Female</th>\n",
       "      <th>sex_Male</th>\n",
       "      <th>sex_Other</th>\n",
       "      <th>age_group_0 - 9 Years</th>\n",
       "      <th>age_group_10 - 19 Years</th>\n",
       "      <th>age_group_20 - 29 Years</th>\n",
       "      <th>age_group_30 - 39 Years</th>\n",
       "      <th>age_group_40 - 49 Years</th>\n",
       "      <th>...</th>\n",
       "      <th>hosp_yn_OTH</th>\n",
       "      <th>hosp_yn_Yes</th>\n",
       "      <th>icu_yn_No</th>\n",
       "      <th>icu_yn_Yes</th>\n",
       "      <th>death_yn_Yes</th>\n",
       "      <th>medcond_yn_No</th>\n",
       "      <th>medcond_yn_Yes</th>\n",
       "      <th>Seasons_Autumn</th>\n",
       "      <th>Seasons_Spring</th>\n",
       "      <th>Seasons_Summer</th>\n",
       "    </tr>\n",
       "  </thead>\n",
       "  <tbody>\n",
       "    <tr>\n",
       "      <th>0</th>\n",
       "      <td>-0.134278</td>\n",
       "      <td>0.0</td>\n",
       "      <td>0</td>\n",
       "      <td>1</td>\n",
       "      <td>0</td>\n",
       "      <td>0</td>\n",
       "      <td>0</td>\n",
       "      <td>0</td>\n",
       "      <td>1</td>\n",
       "      <td>0</td>\n",
       "      <td>...</td>\n",
       "      <td>0</td>\n",
       "      <td>0</td>\n",
       "      <td>0</td>\n",
       "      <td>0</td>\n",
       "      <td>0</td>\n",
       "      <td>0</td>\n",
       "      <td>0</td>\n",
       "      <td>0</td>\n",
       "      <td>0</td>\n",
       "      <td>0</td>\n",
       "    </tr>\n",
       "    <tr>\n",
       "      <th>1</th>\n",
       "      <td>-0.097189</td>\n",
       "      <td>0.0</td>\n",
       "      <td>1</td>\n",
       "      <td>0</td>\n",
       "      <td>0</td>\n",
       "      <td>0</td>\n",
       "      <td>1</td>\n",
       "      <td>0</td>\n",
       "      <td>0</td>\n",
       "      <td>0</td>\n",
       "      <td>...</td>\n",
       "      <td>0</td>\n",
       "      <td>0</td>\n",
       "      <td>0</td>\n",
       "      <td>0</td>\n",
       "      <td>0</td>\n",
       "      <td>0</td>\n",
       "      <td>0</td>\n",
       "      <td>1</td>\n",
       "      <td>0</td>\n",
       "      <td>0</td>\n",
       "    </tr>\n",
       "    <tr>\n",
       "      <th>2</th>\n",
       "      <td>-0.134278</td>\n",
       "      <td>1.0</td>\n",
       "      <td>1</td>\n",
       "      <td>0</td>\n",
       "      <td>0</td>\n",
       "      <td>0</td>\n",
       "      <td>0</td>\n",
       "      <td>0</td>\n",
       "      <td>1</td>\n",
       "      <td>0</td>\n",
       "      <td>...</td>\n",
       "      <td>0</td>\n",
       "      <td>0</td>\n",
       "      <td>0</td>\n",
       "      <td>0</td>\n",
       "      <td>0</td>\n",
       "      <td>1</td>\n",
       "      <td>0</td>\n",
       "      <td>0</td>\n",
       "      <td>0</td>\n",
       "      <td>0</td>\n",
       "    </tr>\n",
       "    <tr>\n",
       "      <th>3</th>\n",
       "      <td>0.232097</td>\n",
       "      <td>1.0</td>\n",
       "      <td>0</td>\n",
       "      <td>1</td>\n",
       "      <td>0</td>\n",
       "      <td>0</td>\n",
       "      <td>0</td>\n",
       "      <td>1</td>\n",
       "      <td>0</td>\n",
       "      <td>0</td>\n",
       "      <td>...</td>\n",
       "      <td>0</td>\n",
       "      <td>0</td>\n",
       "      <td>0</td>\n",
       "      <td>0</td>\n",
       "      <td>0</td>\n",
       "      <td>1</td>\n",
       "      <td>0</td>\n",
       "      <td>0</td>\n",
       "      <td>0</td>\n",
       "      <td>1</td>\n",
       "    </tr>\n",
       "    <tr>\n",
       "      <th>4</th>\n",
       "      <td>-0.134278</td>\n",
       "      <td>0.0</td>\n",
       "      <td>1</td>\n",
       "      <td>0</td>\n",
       "      <td>0</td>\n",
       "      <td>0</td>\n",
       "      <td>0</td>\n",
       "      <td>1</td>\n",
       "      <td>0</td>\n",
       "      <td>0</td>\n",
       "      <td>...</td>\n",
       "      <td>0</td>\n",
       "      <td>0</td>\n",
       "      <td>0</td>\n",
       "      <td>0</td>\n",
       "      <td>0</td>\n",
       "      <td>0</td>\n",
       "      <td>0</td>\n",
       "      <td>0</td>\n",
       "      <td>0</td>\n",
       "      <td>0</td>\n",
       "    </tr>\n",
       "    <tr>\n",
       "      <th>...</th>\n",
       "      <td>...</td>\n",
       "      <td>...</td>\n",
       "      <td>...</td>\n",
       "      <td>...</td>\n",
       "      <td>...</td>\n",
       "      <td>...</td>\n",
       "      <td>...</td>\n",
       "      <td>...</td>\n",
       "      <td>...</td>\n",
       "      <td>...</td>\n",
       "      <td>...</td>\n",
       "      <td>...</td>\n",
       "      <td>...</td>\n",
       "      <td>...</td>\n",
       "      <td>...</td>\n",
       "      <td>...</td>\n",
       "      <td>...</td>\n",
       "      <td>...</td>\n",
       "      <td>...</td>\n",
       "      <td>...</td>\n",
       "      <td>...</td>\n",
       "    </tr>\n",
       "    <tr>\n",
       "      <th>9530</th>\n",
       "      <td>-0.097189</td>\n",
       "      <td>1.0</td>\n",
       "      <td>1</td>\n",
       "      <td>0</td>\n",
       "      <td>0</td>\n",
       "      <td>0</td>\n",
       "      <td>0</td>\n",
       "      <td>1</td>\n",
       "      <td>0</td>\n",
       "      <td>0</td>\n",
       "      <td>...</td>\n",
       "      <td>0</td>\n",
       "      <td>0</td>\n",
       "      <td>0</td>\n",
       "      <td>0</td>\n",
       "      <td>0</td>\n",
       "      <td>0</td>\n",
       "      <td>0</td>\n",
       "      <td>1</td>\n",
       "      <td>0</td>\n",
       "      <td>0</td>\n",
       "    </tr>\n",
       "    <tr>\n",
       "      <th>9531</th>\n",
       "      <td>-0.766533</td>\n",
       "      <td>0.0</td>\n",
       "      <td>0</td>\n",
       "      <td>1</td>\n",
       "      <td>0</td>\n",
       "      <td>0</td>\n",
       "      <td>0</td>\n",
       "      <td>0</td>\n",
       "      <td>0</td>\n",
       "      <td>1</td>\n",
       "      <td>...</td>\n",
       "      <td>0</td>\n",
       "      <td>0</td>\n",
       "      <td>0</td>\n",
       "      <td>0</td>\n",
       "      <td>0</td>\n",
       "      <td>0</td>\n",
       "      <td>0</td>\n",
       "      <td>0</td>\n",
       "      <td>0</td>\n",
       "      <td>0</td>\n",
       "    </tr>\n",
       "    <tr>\n",
       "      <th>9532</th>\n",
       "      <td>-0.766533</td>\n",
       "      <td>1.0</td>\n",
       "      <td>0</td>\n",
       "      <td>1</td>\n",
       "      <td>0</td>\n",
       "      <td>0</td>\n",
       "      <td>0</td>\n",
       "      <td>0</td>\n",
       "      <td>0</td>\n",
       "      <td>1</td>\n",
       "      <td>...</td>\n",
       "      <td>0</td>\n",
       "      <td>0</td>\n",
       "      <td>0</td>\n",
       "      <td>0</td>\n",
       "      <td>0</td>\n",
       "      <td>0</td>\n",
       "      <td>0</td>\n",
       "      <td>0</td>\n",
       "      <td>0</td>\n",
       "      <td>0</td>\n",
       "    </tr>\n",
       "    <tr>\n",
       "      <th>9533</th>\n",
       "      <td>-0.097189</td>\n",
       "      <td>1.0</td>\n",
       "      <td>0</td>\n",
       "      <td>1</td>\n",
       "      <td>0</td>\n",
       "      <td>0</td>\n",
       "      <td>0</td>\n",
       "      <td>0</td>\n",
       "      <td>0</td>\n",
       "      <td>1</td>\n",
       "      <td>...</td>\n",
       "      <td>0</td>\n",
       "      <td>0</td>\n",
       "      <td>0</td>\n",
       "      <td>0</td>\n",
       "      <td>0</td>\n",
       "      <td>0</td>\n",
       "      <td>0</td>\n",
       "      <td>1</td>\n",
       "      <td>0</td>\n",
       "      <td>0</td>\n",
       "    </tr>\n",
       "    <tr>\n",
       "      <th>9534</th>\n",
       "      <td>0.232097</td>\n",
       "      <td>1.0</td>\n",
       "      <td>1</td>\n",
       "      <td>0</td>\n",
       "      <td>0</td>\n",
       "      <td>0</td>\n",
       "      <td>0</td>\n",
       "      <td>0</td>\n",
       "      <td>0</td>\n",
       "      <td>0</td>\n",
       "      <td>...</td>\n",
       "      <td>0</td>\n",
       "      <td>0</td>\n",
       "      <td>0</td>\n",
       "      <td>0</td>\n",
       "      <td>0</td>\n",
       "      <td>0</td>\n",
       "      <td>1</td>\n",
       "      <td>0</td>\n",
       "      <td>0</td>\n",
       "      <td>1</td>\n",
       "    </tr>\n",
       "  </tbody>\n",
       "</table>\n",
       "<p>9535 rows × 31 columns</p>\n",
       "</div>"
      ],
      "text/plain": [
       "      %deaths_every_30days  Is_person_Waited_OR_Not  sex_Female  sex_Male  \\\n",
       "0                -0.134278                      0.0           0         1   \n",
       "1                -0.097189                      0.0           1         0   \n",
       "2                -0.134278                      1.0           1         0   \n",
       "3                 0.232097                      1.0           0         1   \n",
       "4                -0.134278                      0.0           1         0   \n",
       "...                    ...                      ...         ...       ...   \n",
       "9530             -0.097189                      1.0           1         0   \n",
       "9531             -0.766533                      0.0           0         1   \n",
       "9532             -0.766533                      1.0           0         1   \n",
       "9533             -0.097189                      1.0           0         1   \n",
       "9534              0.232097                      1.0           1         0   \n",
       "\n",
       "      sex_Other  age_group_0 - 9 Years  age_group_10 - 19 Years  \\\n",
       "0             0                      0                        0   \n",
       "1             0                      0                        1   \n",
       "2             0                      0                        0   \n",
       "3             0                      0                        0   \n",
       "4             0                      0                        0   \n",
       "...         ...                    ...                      ...   \n",
       "9530          0                      0                        0   \n",
       "9531          0                      0                        0   \n",
       "9532          0                      0                        0   \n",
       "9533          0                      0                        0   \n",
       "9534          0                      0                        0   \n",
       "\n",
       "      age_group_20 - 29 Years  age_group_30 - 39 Years  \\\n",
       "0                           0                        1   \n",
       "1                           0                        0   \n",
       "2                           0                        1   \n",
       "3                           1                        0   \n",
       "4                           1                        0   \n",
       "...                       ...                      ...   \n",
       "9530                        1                        0   \n",
       "9531                        0                        0   \n",
       "9532                        0                        0   \n",
       "9533                        0                        0   \n",
       "9534                        0                        0   \n",
       "\n",
       "      age_group_40 - 49 Years  ...  hosp_yn_OTH  hosp_yn_Yes  icu_yn_No  \\\n",
       "0                           0  ...            0            0          0   \n",
       "1                           0  ...            0            0          0   \n",
       "2                           0  ...            0            0          0   \n",
       "3                           0  ...            0            0          0   \n",
       "4                           0  ...            0            0          0   \n",
       "...                       ...  ...          ...          ...        ...   \n",
       "9530                        0  ...            0            0          0   \n",
       "9531                        1  ...            0            0          0   \n",
       "9532                        1  ...            0            0          0   \n",
       "9533                        1  ...            0            0          0   \n",
       "9534                        0  ...            0            0          0   \n",
       "\n",
       "      icu_yn_Yes  death_yn_Yes  medcond_yn_No  medcond_yn_Yes  Seasons_Autumn  \\\n",
       "0              0             0              0               0               0   \n",
       "1              0             0              0               0               1   \n",
       "2              0             0              1               0               0   \n",
       "3              0             0              1               0               0   \n",
       "4              0             0              0               0               0   \n",
       "...          ...           ...            ...             ...             ...   \n",
       "9530           0             0              0               0               1   \n",
       "9531           0             0              0               0               0   \n",
       "9532           0             0              0               0               0   \n",
       "9533           0             0              0               0               1   \n",
       "9534           0             0              0               1               0   \n",
       "\n",
       "      Seasons_Spring  Seasons_Summer  \n",
       "0                  0               0  \n",
       "1                  0               0  \n",
       "2                  0               0  \n",
       "3                  0               1  \n",
       "4                  0               0  \n",
       "...              ...             ...  \n",
       "9530               0               0  \n",
       "9531               0               0  \n",
       "9532               0               0  \n",
       "9533               0               0  \n",
       "9534               0               1  \n",
       "\n",
       "[9535 rows x 31 columns]"
      ]
     },
     "execution_count": 68,
     "metadata": {},
     "output_type": "execute_result"
    }
   ],
   "source": [
    "# Standardise all numeric columns and store in the same dataset\n",
    "df_norm['%deaths_every_30days'] = (df_cont - df_cont.mean()) / df_cont.std()\n",
    "df_norm"
   ]
  },
  {
   "cell_type": "code",
   "execution_count": 69,
   "id": "ethical-minutes",
   "metadata": {},
   "outputs": [
    {
     "name": "stdout",
     "output_type": "stream",
     "text": [
      "original range is:  9535\n",
      "training range (70%):\t rows 0 to 6674\n",
      "test range (30%): \t rows 6674 to 9535\n"
     ]
    }
   ],
   "source": [
    "# y is the target\n",
    "y_norm = df_norm[\"death_yn_Yes\"]\n",
    "# X is everything else\n",
    "X_norm = df_norm.drop([\"death_yn_Yes\"],1)\n",
    "# Split the dataset into two datasets: 70% training and 30% test\n",
    "X_train_norm, X_test_norm, y_train_norm, y_test_norm = train_test_split(X_norm, y_norm, random_state=1,  test_size=0.3)\n",
    "\n",
    "print(\"original range is: \",df_model.shape[0])\n",
    "print(\"training range (70%):\\t rows 0 to\", round(X_train_norm.shape[0]))\n",
    "print(\"test range (30%): \\t rows\", round(X_train_norm.shape[0]), \"to\", round(X_train_norm.shape[0]) + X_test_norm.shape[0])"
   ]
  },
  {
   "cell_type": "code",
   "execution_count": 70,
   "id": "better-bicycle",
   "metadata": {},
   "outputs": [],
   "source": [
    "# need to reset the index to allow contatenation with predicted values otherwise not joining on same index...\n",
    "X_train_norm.reset_index(drop=True, inplace=True)\n",
    "y_train_norm.reset_index(drop=True, inplace=True)\n",
    "X_test_norm.reset_index(drop=True, inplace=True)\n",
    "y_test_norm.reset_index(drop=True, inplace=True)"
   ]
  },
  {
   "cell_type": "code",
   "execution_count": 71,
   "id": "requested-burns",
   "metadata": {},
   "outputs": [],
   "source": [
    "# Train aka fit, a model using all continuous and categorical features.\n",
    "multiple_logisticreg_norm = LogisticRegression().fit(X_train_norm, y_train_norm)"
   ]
  },
  {
   "cell_type": "code",
   "execution_count": 72,
   "id": "governmental-wellington",
   "metadata": {},
   "outputs": [
    {
     "name": "stdout",
     "output_type": "stream",
     "text": [
      "\n",
      "Features are: \n",
      " Index(['%deaths_every_30days', 'Is_person_Waited_OR_Not', 'sex_Female',\n",
      "       'sex_Male', 'sex_Other', 'age_group_0 - 9 Years',\n",
      "       'age_group_10 - 19 Years', 'age_group_20 - 29 Years',\n",
      "       'age_group_30 - 39 Years', 'age_group_40 - 49 Years',\n",
      "       'age_group_50 - 59 Years', 'age_group_60 - 69 Years',\n",
      "       'age_group_70 - 79 Years',\n",
      "       'race_ethnicity_combined_American Indian/Alaska Native, Non-Hispanic',\n",
      "       'race_ethnicity_combined_Asian, Non-Hispanic',\n",
      "       'race_ethnicity_combined_Black, Non-Hispanic',\n",
      "       'race_ethnicity_combined_Hispanic/Latino',\n",
      "       'race_ethnicity_combined_Multiple/Other, Non-Hispanic',\n",
      "       'race_ethnicity_combined_Native Hawaiian/Other Pacific Islander, Non-Hispanic',\n",
      "       'race_ethnicity_combined_White, Non-Hispanic', 'hosp_yn_No',\n",
      "       'hosp_yn_OTH', 'hosp_yn_Yes', 'icu_yn_No', 'icu_yn_Yes',\n",
      "       'medcond_yn_No', 'medcond_yn_Yes', 'Seasons_Autumn', 'Seasons_Spring',\n",
      "       'Seasons_Summer'],\n",
      "      dtype='object')\n",
      "\n",
      "Coeficients are: \n",
      " [ 0.30389734 -0.51928325 -0.23112795  0.24046511 -0.00633513 -2.79949927\n",
      " -3.34965712 -3.67652048 -3.32600425 -3.11489957 -2.62131609 -1.82553706\n",
      " -0.78168741  1.40774253  0.79012753  0.68227052  1.15321274 -0.37018091\n",
      " -0.31517422  0.71288639 -1.16040062 -0.42627667  1.37869285 -0.46506935\n",
      "  1.31623141 -0.39757809  0.58017666  0.19595691  0.08794318  0.26774887]\n",
      "\n",
      "Intercept is: \n",
      " [-1.77619363]\n",
      "\n",
      "Features and coeficients: \n",
      " [('%deaths_every_30days', 0.30389734381090716), ('Is_person_Waited_OR_Not', -0.5192832464301835), ('sex_Female', -0.2311279497486569), ('sex_Male', 0.24046510598919363), ('sex_Other', -0.006335131661406446), ('age_group_0 - 9 Years', -2.7994992733989568), ('age_group_10 - 19 Years', -3.349657117514942), ('age_group_20 - 29 Years', -3.676520481519554), ('age_group_30 - 39 Years', -3.3260042502410863), ('age_group_40 - 49 Years', -3.1148995697306194), ('age_group_50 - 59 Years', -2.621316086518836), ('age_group_60 - 69 Years', -1.825537064651102), ('age_group_70 - 79 Years', -0.7816874076493522), ('race_ethnicity_combined_American Indian/Alaska Native, Non-Hispanic', 1.4077425252398028), ('race_ethnicity_combined_Asian, Non-Hispanic', 0.7901275324038128), ('race_ethnicity_combined_Black, Non-Hispanic', 0.6822705206171278), ('race_ethnicity_combined_Hispanic/Latino', 1.1532127351891561), ('race_ethnicity_combined_Multiple/Other, Non-Hispanic', -0.3701809064492229), ('race_ethnicity_combined_Native Hawaiian/Other Pacific Islander, Non-Hispanic', -0.31517421936365403), ('race_ethnicity_combined_White, Non-Hispanic', 0.7128863875660493), ('hosp_yn_No', -1.1604006181792534), ('hosp_yn_OTH', -0.4262766720123362), ('hosp_yn_Yes', 1.378692849365896), ('icu_yn_No', -0.4650693472292402), ('icu_yn_Yes', 1.3162314113170366), ('medcond_yn_No', -0.397578090479816), ('medcond_yn_Yes', 0.580176660923113), ('Seasons_Autumn', 0.19595690592991138), ('Seasons_Spring', 0.08794318128404925), ('Seasons_Summer', 0.26774887184267293)]\n"
     ]
    }
   ],
   "source": [
    "# Print the weights learned for each feature.\n",
    "print(\"\\nFeatures are: \\n\", X_train_norm.columns)\n",
    "print(\"\\nCoeficients are: \\n\", multiple_logisticreg_norm.coef_[0])\n",
    "print(\"\\nIntercept is: \\n\", multiple_logisticreg_norm.intercept_)\n",
    "print(\"\\nFeatures and coeficients: \\n\", list(zip(X_train_norm.columns, multiple_logisticreg_norm.coef_[0])))"
   ]
  },
  {
   "cell_type": "code",
   "execution_count": 73,
   "id": "pleased-processing",
   "metadata": {},
   "outputs": [
    {
     "name": "stdout",
     "output_type": "stream",
     "text": [
      "\n",
      "Predictions with multiple linear regression: \n",
      "\n",
      "    death_yn_Yes  Predicted\n",
      "0              0          0\n",
      "1              1          0\n",
      "2              0          0\n",
      "3              0          0\n",
      "4              0          0\n",
      "..           ...        ...\n",
      "95             0          0\n",
      "96             0          0\n",
      "97             0          0\n",
      "98             0          0\n",
      "99             1          1\n",
      "\n",
      "[100 rows x 2 columns]\n"
     ]
    }
   ],
   "source": [
    "# calculate the prediction and threshold the value. If >= 0.5 its true\n",
    "multiple_logisticreg_predictions_train_norm = multiple_logisticreg_norm.predict(X_train_norm)\n",
    "\n",
    "print(\"\\nPredictions with multiple linear regression: \\n\")\n",
    "actual_vs_predicted_multiplelogisticreg_norm = pd.concat([y_train_norm, pd.DataFrame(multiple_logisticreg_predictions_train_norm, columns=['Predicted'])], axis=1)\n",
    "print(actual_vs_predicted_multiplelogisticreg_norm.head(100))"
   ]
  },
  {
   "cell_type": "code",
   "execution_count": 74,
   "id": "acoustic-square",
   "metadata": {},
   "outputs": [
    {
     "name": "stdout",
     "output_type": "stream",
     "text": [
      "==================== Train Data =======================\n",
      "Accuracy:  0.9710818100089901\n",
      "Confusion matrix: \n",
      " [[6410   31]\n",
      " [ 162   71]]\n",
      "Classification report:\n",
      "                precision    recall  f1-score   support\n",
      "\n",
      "           0       0.98      1.00      0.99      6441\n",
      "           1       0.70      0.30      0.42       233\n",
      "\n",
      "    accuracy                           0.97      6674\n",
      "   macro avg       0.84      0.65      0.70      6674\n",
      "weighted avg       0.97      0.97      0.97      6674\n",
      "\n",
      "======================================================\n"
     ]
    }
   ],
   "source": [
    "# Some more evaluation metrics.\n",
    "print(\"==================== Train Data =======================\")\n",
    "print(\"Accuracy: \", metrics.accuracy_score(y_train_norm, multiple_logisticreg_predictions_train_norm))\n",
    "print(\"Confusion matrix: \\n\", metrics.confusion_matrix(y_train_norm, multiple_logisticreg_predictions_train_norm))\n",
    "print(\"Classification report:\\n \", metrics.classification_report(y_train_norm, multiple_logisticreg_predictions_train_norm))\n",
    "print(\"======================================================\")"
   ]
  },
  {
   "cell_type": "code",
   "execution_count": 75,
   "id": "blond-pilot",
   "metadata": {
    "scrolled": true
   },
   "outputs": [
    {
     "name": "stdout",
     "output_type": "stream",
     "text": [
      "\n",
      "Predictions with multiple linear regression: \n",
      "\n",
      "    death_yn_Yes  Predicted\n",
      "0              0          0\n",
      "1              0          0\n",
      "2              0          0\n",
      "3              0          0\n",
      "4              0          0\n",
      "5              0          0\n",
      "6              0          0\n",
      "7              0          0\n",
      "8              0          0\n",
      "9              0          0\n",
      "10             0          0\n",
      "11             0          0\n",
      "12             0          0\n",
      "13             0          0\n",
      "14             0          0\n",
      "15             0          0\n",
      "16             0          0\n",
      "17             0          0\n",
      "18             0          0\n",
      "19             0          0\n"
     ]
    }
   ],
   "source": [
    "# calculate the prediction and threshold the value. If >= 0.5 its true\n",
    "multiple_logisticreg_predictions_test_norm = multiple_logisticreg_norm.predict(X_test_norm)\n",
    "\n",
    "print(\"\\nPredictions with multiple linear regression: \\n\")\n",
    "actual_vs_predicted_multiplelogisticreg_norm = pd.concat([y_test_norm, pd.DataFrame(multiple_logisticreg_predictions_test_norm, columns=['Predicted'])], axis=1)\n",
    "print(actual_vs_predicted_multiplelogisticreg_norm.head(20))"
   ]
  },
  {
   "cell_type": "code",
   "execution_count": 76,
   "id": "instructional-rebate",
   "metadata": {
    "scrolled": true
   },
   "outputs": [
    {
     "name": "stdout",
     "output_type": "stream",
     "text": [
      "==================== Test Data =======================\n",
      "Accuracy:  0.9699405802167075\n",
      "Confusion matrix: \n",
      " [[2746   23]\n",
      " [  63   29]]\n",
      "Classification report:\n",
      "                precision    recall  f1-score   support\n",
      "\n",
      "           0       0.98      0.99      0.98      2769\n",
      "           1       0.56      0.32      0.40        92\n",
      "\n",
      "    accuracy                           0.97      2861\n",
      "   macro avg       0.77      0.65      0.69      2861\n",
      "weighted avg       0.96      0.97      0.97      2861\n",
      "\n",
      "==================== Train Data =======================\n",
      "Accuracy:  0.9710818100089901\n",
      "Confusion matrix: \n",
      " [[6410   31]\n",
      " [ 162   71]]\n",
      "Classification report:\n",
      "                precision    recall  f1-score   support\n",
      "\n",
      "           0       0.98      1.00      0.99      6441\n",
      "           1       0.70      0.30      0.42       233\n",
      "\n",
      "    accuracy                           0.97      6674\n",
      "   macro avg       0.84      0.65      0.70      6674\n",
      "weighted avg       0.97      0.97      0.97      6674\n",
      "\n",
      "======================================================\n"
     ]
    }
   ],
   "source": [
    "# Some more evaluation metrics.\n",
    "print(\"==================== Test Data =======================\")\n",
    "print(\"Accuracy: \", metrics.accuracy_score(y_test_norm, multiple_logisticreg_predictions_test_norm))\n",
    "print(\"Confusion matrix: \\n\", metrics.confusion_matrix(y_test_norm, multiple_logisticreg_predictions_test_norm))\n",
    "print(\"Classification report:\\n \", metrics.classification_report(y_test_norm, multiple_logisticreg_predictions_test_norm))\n",
    "print(\"==================== Train Data =======================\")\n",
    "print(\"Accuracy: \", metrics.accuracy_score(y_train_norm, multiple_logisticreg_predictions_train_norm))\n",
    "print(\"Confusion matrix: \\n\", metrics.confusion_matrix(y_train_norm, multiple_logisticreg_predictions_train_norm))\n",
    "print(\"Classification report:\\n \", metrics.classification_report(y_train_norm, multiple_logisticreg_predictions_train_norm))\n",
    "print(\"======================================================\")"
   ]
  },
  {
   "cell_type": "code",
   "execution_count": 77,
   "id": "several-cathedral",
   "metadata": {},
   "outputs": [],
   "source": [
    "def cross_val_LogReg_DF_norm(X,y):\n",
    "    \"\"\"Function to perform cross validation and store results \n",
    "    in dataframe. Cross validation looks at accuracy, precision, \n",
    "    recall, f1. Returns a dataframe with results\"\"\"\n",
    "\n",
    "    logRegResults_norm = {}\n",
    "    # metrics to test against\n",
    "    test_metrics = ['accuracy','precision','recall', 'f1']\n",
    "\n",
    "    for metric in test_metrics:\n",
    "        # generate test results\n",
    "        result = cross_val_score(LogisticRegression(), X, y, scoring=metric, cv=10)\n",
    "        # store result in dict\n",
    "        logRegResults_norm[metric] = result.mean()\n",
    "        \n",
    "    # create dataframe with results\n",
    "    LogRegDF = pd.DataFrame.from_dict(logRegResults_norm, orient='index', columns=['Logistic_Regression'])\n",
    "    \n",
    "    return LogRegDF"
   ]
  },
  {
   "cell_type": "code",
   "execution_count": 78,
   "id": "hazardous-arbor",
   "metadata": {},
   "outputs": [
    {
     "name": "stdout",
     "output_type": "stream",
     "text": [
      "Mean results from 10 fold cross validation are:\n"
     ]
    },
    {
     "data": {
      "text/html": [
       "<div>\n",
       "<style scoped>\n",
       "    .dataframe tbody tr th:only-of-type {\n",
       "        vertical-align: middle;\n",
       "    }\n",
       "\n",
       "    .dataframe tbody tr th {\n",
       "        vertical-align: top;\n",
       "    }\n",
       "\n",
       "    .dataframe thead th {\n",
       "        text-align: right;\n",
       "    }\n",
       "</style>\n",
       "<table border=\"1\" class=\"dataframe\">\n",
       "  <thead>\n",
       "    <tr style=\"text-align: right;\">\n",
       "      <th></th>\n",
       "      <th>Logistic_Regression</th>\n",
       "    </tr>\n",
       "  </thead>\n",
       "  <tbody>\n",
       "    <tr>\n",
       "      <th>accuracy</th>\n",
       "      <td>0.970110</td>\n",
       "    </tr>\n",
       "    <tr>\n",
       "      <th>precision</th>\n",
       "      <td>0.627805</td>\n",
       "    </tr>\n",
       "    <tr>\n",
       "      <th>recall</th>\n",
       "      <td>0.301042</td>\n",
       "    </tr>\n",
       "    <tr>\n",
       "      <th>f1</th>\n",
       "      <td>0.404898</td>\n",
       "    </tr>\n",
       "  </tbody>\n",
       "</table>\n",
       "</div>"
      ],
      "text/plain": [
       "           Logistic_Regression\n",
       "accuracy              0.970110\n",
       "precision             0.627805\n",
       "recall                0.301042\n",
       "f1                    0.404898"
      ]
     },
     "execution_count": 78,
     "metadata": {},
     "output_type": "execute_result"
    }
   ],
   "source": [
    "logRegDF_norm = cross_val_LogReg_DF_norm(X_norm,y_norm)\n",
    "print(f\"Mean results from 10 fold cross validation are:\")\n",
    "logRegDF_norm"
   ]
  },
  {
   "cell_type": "markdown",
   "id": "precise-shock",
   "metadata": {},
   "source": [
    "From the above results, we can observe that the accuracy, recall does not have any change from the previous model by normalising the continous feature. Hence normalisation does not effect the predictions."
   ]
  },
  {
   "cell_type": "markdown",
   "id": "institutional-austria",
   "metadata": {},
   "source": [
    "### 5.2.2. Balance the dataset."
   ]
  },
  {
   "cell_type": "markdown",
   "id": "dirty-handling",
   "metadata": {},
   "source": [
    "Here we randomly change the value of traget feature by selecting a range of values. There are 5000 values which will be changed using the index values of randomly selected rows. <br>\n",
    "\n",
    "Then this clearles the problem of imbalanced data. But this data is not sufficient to train the model as the number of combinations of features to the target value will be resuced. But we can not conclude the results and hence we will implement the model on balanced dataset and compare the results."
   ]
  },
  {
   "cell_type": "code",
   "execution_count": 79,
   "id": "conventional-situation",
   "metadata": {},
   "outputs": [],
   "source": [
    "# Make a copy of original data and resample the values\n",
    "df_balanced = df.copy()"
   ]
  },
  {
   "cell_type": "code",
   "execution_count": 80,
   "id": "demonstrated-dance",
   "metadata": {},
   "outputs": [
    {
     "data": {
      "text/html": [
       "<div>\n",
       "<style scoped>\n",
       "    .dataframe tbody tr th:only-of-type {\n",
       "        vertical-align: middle;\n",
       "    }\n",
       "\n",
       "    .dataframe tbody tr th {\n",
       "        vertical-align: top;\n",
       "    }\n",
       "\n",
       "    .dataframe thead th {\n",
       "        text-align: right;\n",
       "    }\n",
       "</style>\n",
       "<table border=\"1\" class=\"dataframe\">\n",
       "  <thead>\n",
       "    <tr style=\"text-align: right;\">\n",
       "      <th></th>\n",
       "      <th>cdc_case_earliest_dt</th>\n",
       "      <th>current_status</th>\n",
       "      <th>sex</th>\n",
       "      <th>age_group</th>\n",
       "      <th>race_ethnicity_combined</th>\n",
       "      <th>hosp_yn</th>\n",
       "      <th>icu_yn</th>\n",
       "      <th>death_yn</th>\n",
       "      <th>medcond_yn</th>\n",
       "      <th>%deaths_every_30days</th>\n",
       "      <th>Seasons</th>\n",
       "      <th>Is_person_Waited_OR_Not</th>\n",
       "    </tr>\n",
       "  </thead>\n",
       "  <tbody>\n",
       "    <tr>\n",
       "      <th>0</th>\n",
       "      <td>2020-12-01</td>\n",
       "      <td>Laboratory-confirmed case</td>\n",
       "      <td>Male</td>\n",
       "      <td>30 - 39 Years</td>\n",
       "      <td>White, Non-Hispanic</td>\n",
       "      <td>Missing</td>\n",
       "      <td>Missing</td>\n",
       "      <td>No</td>\n",
       "      <td>Missing</td>\n",
       "      <td>2.955426</td>\n",
       "      <td>Winter</td>\n",
       "      <td>0.0</td>\n",
       "    </tr>\n",
       "    <tr>\n",
       "      <th>1</th>\n",
       "      <td>2020-10-28</td>\n",
       "      <td>Laboratory-confirmed case</td>\n",
       "      <td>Female</td>\n",
       "      <td>10 - 19 Years</td>\n",
       "      <td>Missing</td>\n",
       "      <td>Missing</td>\n",
       "      <td>Missing</td>\n",
       "      <td>No</td>\n",
       "      <td>Missing</td>\n",
       "      <td>3.080569</td>\n",
       "      <td>Autumn</td>\n",
       "      <td>0.0</td>\n",
       "    </tr>\n",
       "    <tr>\n",
       "      <th>2</th>\n",
       "      <td>2020-12-28</td>\n",
       "      <td>Laboratory-confirmed case</td>\n",
       "      <td>Female</td>\n",
       "      <td>30 - 39 Years</td>\n",
       "      <td>Missing</td>\n",
       "      <td>No</td>\n",
       "      <td>Missing</td>\n",
       "      <td>No</td>\n",
       "      <td>No</td>\n",
       "      <td>2.955426</td>\n",
       "      <td>Winter</td>\n",
       "      <td>1.0</td>\n",
       "    </tr>\n",
       "    <tr>\n",
       "      <th>3</th>\n",
       "      <td>2020-07-28</td>\n",
       "      <td>Laboratory-confirmed case</td>\n",
       "      <td>Male</td>\n",
       "      <td>20 - 29 Years</td>\n",
       "      <td>Black, Non-Hispanic</td>\n",
       "      <td>Missing</td>\n",
       "      <td>Missing</td>\n",
       "      <td>Yes</td>\n",
       "      <td>No</td>\n",
       "      <td>4.191617</td>\n",
       "      <td>Summer</td>\n",
       "      <td>1.0</td>\n",
       "    </tr>\n",
       "    <tr>\n",
       "      <th>4</th>\n",
       "      <td>2020-12-02</td>\n",
       "      <td>Laboratory-confirmed case</td>\n",
       "      <td>Female</td>\n",
       "      <td>20 - 29 Years</td>\n",
       "      <td>Missing</td>\n",
       "      <td>No</td>\n",
       "      <td>Missing</td>\n",
       "      <td>No</td>\n",
       "      <td>Missing</td>\n",
       "      <td>2.955426</td>\n",
       "      <td>Winter</td>\n",
       "      <td>0.0</td>\n",
       "    </tr>\n",
       "    <tr>\n",
       "      <th>...</th>\n",
       "      <td>...</td>\n",
       "      <td>...</td>\n",
       "      <td>...</td>\n",
       "      <td>...</td>\n",
       "      <td>...</td>\n",
       "      <td>...</td>\n",
       "      <td>...</td>\n",
       "      <td>...</td>\n",
       "      <td>...</td>\n",
       "      <td>...</td>\n",
       "      <td>...</td>\n",
       "      <td>...</td>\n",
       "    </tr>\n",
       "    <tr>\n",
       "      <th>9530</th>\n",
       "      <td>2020-10-04</td>\n",
       "      <td>Laboratory-confirmed case</td>\n",
       "      <td>Female</td>\n",
       "      <td>20 - 29 Years</td>\n",
       "      <td>White, Non-Hispanic</td>\n",
       "      <td>No</td>\n",
       "      <td>Missing</td>\n",
       "      <td>Yes</td>\n",
       "      <td>Missing</td>\n",
       "      <td>3.080569</td>\n",
       "      <td>Autumn</td>\n",
       "      <td>1.0</td>\n",
       "    </tr>\n",
       "    <tr>\n",
       "      <th>9531</th>\n",
       "      <td>2021-01-16</td>\n",
       "      <td>Laboratory-confirmed case</td>\n",
       "      <td>Male</td>\n",
       "      <td>40 - 49 Years</td>\n",
       "      <td>Missing</td>\n",
       "      <td>Missing</td>\n",
       "      <td>Missing</td>\n",
       "      <td>No</td>\n",
       "      <td>Missing</td>\n",
       "      <td>0.822123</td>\n",
       "      <td>Winter</td>\n",
       "      <td>0.0</td>\n",
       "    </tr>\n",
       "    <tr>\n",
       "      <th>9532</th>\n",
       "      <td>2021-01-11</td>\n",
       "      <td>Laboratory-confirmed case</td>\n",
       "      <td>Male</td>\n",
       "      <td>40 - 49 Years</td>\n",
       "      <td>Missing</td>\n",
       "      <td>No</td>\n",
       "      <td>Missing</td>\n",
       "      <td>No</td>\n",
       "      <td>Missing</td>\n",
       "      <td>0.822123</td>\n",
       "      <td>Winter</td>\n",
       "      <td>1.0</td>\n",
       "    </tr>\n",
       "    <tr>\n",
       "      <th>9533</th>\n",
       "      <td>2020-10-02</td>\n",
       "      <td>Laboratory-confirmed case</td>\n",
       "      <td>Male</td>\n",
       "      <td>40 - 49 Years</td>\n",
       "      <td>Asian, Non-Hispanic</td>\n",
       "      <td>Missing</td>\n",
       "      <td>Missing</td>\n",
       "      <td>No</td>\n",
       "      <td>Missing</td>\n",
       "      <td>3.080569</td>\n",
       "      <td>Autumn</td>\n",
       "      <td>1.0</td>\n",
       "    </tr>\n",
       "    <tr>\n",
       "      <th>9534</th>\n",
       "      <td>2020-07-12</td>\n",
       "      <td>Laboratory-confirmed case</td>\n",
       "      <td>Female</td>\n",
       "      <td>50 - 59 Years</td>\n",
       "      <td>Hispanic/Latino</td>\n",
       "      <td>Missing</td>\n",
       "      <td>Missing</td>\n",
       "      <td>No</td>\n",
       "      <td>Yes</td>\n",
       "      <td>4.191617</td>\n",
       "      <td>Summer</td>\n",
       "      <td>1.0</td>\n",
       "    </tr>\n",
       "  </tbody>\n",
       "</table>\n",
       "<p>9535 rows × 12 columns</p>\n",
       "</div>"
      ],
      "text/plain": [
       "     cdc_case_earliest_dt             current_status     sex      age_group  \\\n",
       "0              2020-12-01  Laboratory-confirmed case    Male  30 - 39 Years   \n",
       "1              2020-10-28  Laboratory-confirmed case  Female  10 - 19 Years   \n",
       "2              2020-12-28  Laboratory-confirmed case  Female  30 - 39 Years   \n",
       "3              2020-07-28  Laboratory-confirmed case    Male  20 - 29 Years   \n",
       "4              2020-12-02  Laboratory-confirmed case  Female  20 - 29 Years   \n",
       "...                   ...                        ...     ...            ...   \n",
       "9530           2020-10-04  Laboratory-confirmed case  Female  20 - 29 Years   \n",
       "9531           2021-01-16  Laboratory-confirmed case    Male  40 - 49 Years   \n",
       "9532           2021-01-11  Laboratory-confirmed case    Male  40 - 49 Years   \n",
       "9533           2020-10-02  Laboratory-confirmed case    Male  40 - 49 Years   \n",
       "9534           2020-07-12  Laboratory-confirmed case  Female  50 - 59 Years   \n",
       "\n",
       "     race_ethnicity_combined  hosp_yn   icu_yn death_yn medcond_yn  \\\n",
       "0        White, Non-Hispanic  Missing  Missing       No    Missing   \n",
       "1                    Missing  Missing  Missing       No    Missing   \n",
       "2                    Missing       No  Missing       No         No   \n",
       "3        Black, Non-Hispanic  Missing  Missing      Yes         No   \n",
       "4                    Missing       No  Missing       No    Missing   \n",
       "...                      ...      ...      ...      ...        ...   \n",
       "9530     White, Non-Hispanic       No  Missing      Yes    Missing   \n",
       "9531                 Missing  Missing  Missing       No    Missing   \n",
       "9532                 Missing       No  Missing       No    Missing   \n",
       "9533     Asian, Non-Hispanic  Missing  Missing       No    Missing   \n",
       "9534         Hispanic/Latino  Missing  Missing       No        Yes   \n",
       "\n",
       "      %deaths_every_30days Seasons  Is_person_Waited_OR_Not  \n",
       "0                 2.955426  Winter                      0.0  \n",
       "1                 3.080569  Autumn                      0.0  \n",
       "2                 2.955426  Winter                      1.0  \n",
       "3                 4.191617  Summer                      1.0  \n",
       "4                 2.955426  Winter                      0.0  \n",
       "...                    ...     ...                      ...  \n",
       "9530              3.080569  Autumn                      1.0  \n",
       "9531              0.822123  Winter                      0.0  \n",
       "9532              0.822123  Winter                      1.0  \n",
       "9533              3.080569  Autumn                      1.0  \n",
       "9534              4.191617  Summer                      1.0  \n",
       "\n",
       "[9535 rows x 12 columns]"
      ]
     },
     "execution_count": 80,
     "metadata": {},
     "output_type": "execute_result"
    }
   ],
   "source": [
    "# select 5000 rows from the dataset and update the target value with yes. then set them back to the original set.\n",
    "dfupdate=df_balanced.sample(5000)\n",
    "dfupdate.death_yn='Yes'\n",
    "df_balanced.update(dfupdate)\n",
    "update_list = dfupdate.index.tolist() # from  cᴏʟᴅsᴘᴇᴇᴅ  :)\n",
    "df_balanced"
   ]
  },
  {
   "cell_type": "code",
   "execution_count": 81,
   "id": "organic-wright",
   "metadata": {},
   "outputs": [
    {
     "data": {
      "text/plain": [
       "(5163, 12)"
      ]
     },
     "execution_count": 81,
     "metadata": {},
     "output_type": "execute_result"
    }
   ],
   "source": [
    "# Here we can observe there are 5000 rows of positive class\n",
    "df_balanced[(df_balanced.death_yn == 'Yes')].shape"
   ]
  },
  {
   "cell_type": "code",
   "execution_count": 82,
   "id": "spoken-brain",
   "metadata": {},
   "outputs": [],
   "source": [
    "# drop these 2 features which are not required for modelling.\n",
    "df_balanced = df_balanced.drop(['cdc_case_earliest_dt','current_status'],1)"
   ]
  },
  {
   "cell_type": "code",
   "execution_count": 83,
   "id": "compliant-postage",
   "metadata": {},
   "outputs": [
    {
     "data": {
      "text/plain": [
       "%deaths_every_30days                                                            float64\n",
       "Is_person_Waited_OR_Not                                                         float64\n",
       "sex_Female                                                                        uint8\n",
       "sex_Male                                                                          uint8\n",
       "sex_Other                                                                         uint8\n",
       "sex_Unknown                                                                       uint8\n",
       "age_group_0 - 9 Years                                                             uint8\n",
       "age_group_10 - 19 Years                                                           uint8\n",
       "age_group_20 - 29 Years                                                           uint8\n",
       "age_group_30 - 39 Years                                                           uint8\n",
       "age_group_40 - 49 Years                                                           uint8\n",
       "age_group_50 - 59 Years                                                           uint8\n",
       "age_group_60 - 69 Years                                                           uint8\n",
       "age_group_70 - 79 Years                                                           uint8\n",
       "age_group_80+ Years                                                               uint8\n",
       "race_ethnicity_combined_American Indian/Alaska Native, Non-Hispanic               uint8\n",
       "race_ethnicity_combined_Asian, Non-Hispanic                                       uint8\n",
       "race_ethnicity_combined_Black, Non-Hispanic                                       uint8\n",
       "race_ethnicity_combined_Hispanic/Latino                                           uint8\n",
       "race_ethnicity_combined_Missing                                                   uint8\n",
       "race_ethnicity_combined_Multiple/Other, Non-Hispanic                              uint8\n",
       "race_ethnicity_combined_Native Hawaiian/Other Pacific Islander, Non-Hispanic      uint8\n",
       "race_ethnicity_combined_White, Non-Hispanic                                       uint8\n",
       "hosp_yn_Missing                                                                   uint8\n",
       "hosp_yn_No                                                                        uint8\n",
       "hosp_yn_OTH                                                                       uint8\n",
       "hosp_yn_Yes                                                                       uint8\n",
       "icu_yn_Missing                                                                    uint8\n",
       "icu_yn_No                                                                         uint8\n",
       "icu_yn_Yes                                                                        uint8\n",
       "death_yn_No                                                                       uint8\n",
       "death_yn_Yes                                                                      uint8\n",
       "medcond_yn_Missing                                                                uint8\n",
       "medcond_yn_No                                                                     uint8\n",
       "medcond_yn_Yes                                                                    uint8\n",
       "Seasons_Autumn                                                                    uint8\n",
       "Seasons_Spring                                                                    uint8\n",
       "Seasons_Summer                                                                    uint8\n",
       "Seasons_Winter                                                                    uint8\n",
       "dtype: object"
      ]
     },
     "execution_count": 83,
     "metadata": {},
     "output_type": "execute_result"
    }
   ],
   "source": [
    "# set up dummies features\n",
    "df_balanced = pd.get_dummies(df_balanced)\n",
    "df_balanced.dtypes"
   ]
  },
  {
   "cell_type": "code",
   "execution_count": 84,
   "id": "handmade-lewis",
   "metadata": {},
   "outputs": [],
   "source": [
    "# drop all the redundent features\n",
    "df_balanced = df_balanced.drop(['death_yn_No','sex_Unknown','age_group_80+ Years','race_ethnicity_combined_Missing','hosp_yn_Missing','icu_yn_Missing','medcond_yn_Missing','Seasons_Winter'],1)"
   ]
  },
  {
   "cell_type": "code",
   "execution_count": 85,
   "id": "checked-homeless",
   "metadata": {},
   "outputs": [
    {
     "name": "stdout",
     "output_type": "stream",
     "text": [
      "original range is:  9535\n",
      "training range (70%):\t rows 0 to 6674\n",
      "test range (30%): \t rows 6674 to 9535\n"
     ]
    }
   ],
   "source": [
    "# y is the target\n",
    "y_balanced = df_balanced[\"death_yn_Yes\"]\n",
    "# X is everything else\n",
    "X_balanced = df_balanced.drop([\"death_yn_Yes\"],1)\n",
    "# Split the dataset into two datasets: 70% training and 30% test\n",
    "X_train_balanced, X_test_balanced, y_train_balanced, y_test_balanced = train_test_split(X_balanced, y_balanced, random_state=1,  test_size=0.3)\n",
    "\n",
    "print(\"original range is: \",df_balanced.shape[0])\n",
    "print(\"training range (70%):\\t rows 0 to\", round(X_train_balanced.shape[0]))\n",
    "print(\"test range (30%): \\t rows\", round(X_train_balanced.shape[0]), \"to\", round(X_train_balanced.shape[0]) + X_test_balanced.shape[0])"
   ]
  },
  {
   "cell_type": "code",
   "execution_count": 86,
   "id": "horizontal-implementation",
   "metadata": {},
   "outputs": [],
   "source": [
    "# need to reset the index to allow contatenation with predicted values otherwise not joining on same index...\n",
    "X_train_balanced.reset_index(drop=True, inplace=True)\n",
    "y_train_balanced.reset_index(drop=True, inplace=True)\n",
    "X_test_balanced.reset_index(drop=True, inplace=True)\n",
    "y_test_balanced.reset_index(drop=True, inplace=True)"
   ]
  },
  {
   "cell_type": "code",
   "execution_count": 87,
   "id": "demonstrated-biography",
   "metadata": {},
   "outputs": [],
   "source": [
    "# Train aka fit, a model using all continuous and categorical features.\n",
    "multiple_logisticreg_balanced = LogisticRegression().fit(X_train_balanced, y_train_balanced)"
   ]
  },
  {
   "cell_type": "code",
   "execution_count": 88,
   "id": "injured-committee",
   "metadata": {},
   "outputs": [
    {
     "name": "stdout",
     "output_type": "stream",
     "text": [
      "\n",
      "Features are: \n",
      " Index(['%deaths_every_30days', 'Is_person_Waited_OR_Not', 'sex_Female',\n",
      "       'sex_Male', 'sex_Other', 'age_group_0 - 9 Years',\n",
      "       'age_group_10 - 19 Years', 'age_group_20 - 29 Years',\n",
      "       'age_group_30 - 39 Years', 'age_group_40 - 49 Years',\n",
      "       'age_group_50 - 59 Years', 'age_group_60 - 69 Years',\n",
      "       'age_group_70 - 79 Years',\n",
      "       'race_ethnicity_combined_American Indian/Alaska Native, Non-Hispanic',\n",
      "       'race_ethnicity_combined_Asian, Non-Hispanic',\n",
      "       'race_ethnicity_combined_Black, Non-Hispanic',\n",
      "       'race_ethnicity_combined_Hispanic/Latino',\n",
      "       'race_ethnicity_combined_Multiple/Other, Non-Hispanic',\n",
      "       'race_ethnicity_combined_Native Hawaiian/Other Pacific Islander, Non-Hispanic',\n",
      "       'race_ethnicity_combined_White, Non-Hispanic', 'hosp_yn_No',\n",
      "       'hosp_yn_OTH', 'hosp_yn_Yes', 'icu_yn_No', 'icu_yn_Yes',\n",
      "       'medcond_yn_No', 'medcond_yn_Yes', 'Seasons_Autumn', 'Seasons_Spring',\n",
      "       'Seasons_Summer'],\n",
      "      dtype='object')\n",
      "\n",
      "Coeficients are: \n",
      " [ 0.02722054 -0.08492481  0.03579216  0.13083793  0.24225873 -0.3851187\n",
      " -0.41529076 -0.59099759 -0.54276204 -0.41722601 -0.6166287  -0.46964709\n",
      " -0.34292436  0.3291397   0.08202439  0.11008706 -0.15215654 -0.12279459\n",
      " -1.16189179  0.02817392  0.06769684 -0.63231253  0.33696051  0.05585168\n",
      "  0.28387095 -0.06091782  0.03744023  0.03155483 -0.11927415  0.06142678]\n",
      "\n",
      "Intercept is: \n",
      " [0.45507547]\n",
      "\n",
      "Features and coeficients: \n",
      " [('%deaths_every_30days', 0.027220538252765752), ('Is_person_Waited_OR_Not', -0.08492480963508664), ('sex_Female', 0.0357921637933231), ('sex_Male', 0.13083793294514895), ('sex_Other', 0.242258730057368), ('age_group_0 - 9 Years', -0.3851187043297895), ('age_group_10 - 19 Years', -0.4152907573124213), ('age_group_20 - 29 Years', -0.5909975933046783), ('age_group_30 - 39 Years', -0.5427620447458964), ('age_group_40 - 49 Years', -0.4172260053161808), ('age_group_50 - 59 Years', -0.6166286958017694), ('age_group_60 - 69 Years', -0.46964708653694365), ('age_group_70 - 79 Years', -0.3429243563355248), ('race_ethnicity_combined_American Indian/Alaska Native, Non-Hispanic', 0.329139698931695), ('race_ethnicity_combined_Asian, Non-Hispanic', 0.08202439384177779), ('race_ethnicity_combined_Black, Non-Hispanic', 0.11008706399237721), ('race_ethnicity_combined_Hispanic/Latino', -0.15215653855842146), ('race_ethnicity_combined_Multiple/Other, Non-Hispanic', -0.12279458970709668), ('race_ethnicity_combined_Native Hawaiian/Other Pacific Islander, Non-Hispanic', -1.161891787060787), ('race_ethnicity_combined_White, Non-Hispanic', 0.028173922992214086), ('hosp_yn_No', 0.06769684156336477), ('hosp_yn_OTH', -0.6323125267734193), ('hosp_yn_Yes', 0.33696051053775716), ('icu_yn_No', 0.055851679487977014), ('icu_yn_Yes', 0.28387095324814965), ('medcond_yn_No', -0.06091782146474896), ('medcond_yn_Yes', 0.03744023249446676), ('Seasons_Autumn', 0.03155483052695981), ('Seasons_Spring', -0.11927414754215694), ('Seasons_Summer', 0.06142678467278857)]\n"
     ]
    }
   ],
   "source": [
    "# Print the weights learned for each feature.\n",
    "print(\"\\nFeatures are: \\n\", X_train_balanced.columns)\n",
    "print(\"\\nCoeficients are: \\n\", multiple_logisticreg_balanced.coef_[0])\n",
    "print(\"\\nIntercept is: \\n\", multiple_logisticreg_balanced.intercept_)\n",
    "print(\"\\nFeatures and coeficients: \\n\", list(zip(X_train_balanced.columns, multiple_logisticreg_balanced.coef_[0])))"
   ]
  },
  {
   "cell_type": "markdown",
   "id": "reasonable-leader",
   "metadata": {},
   "source": [
    "After fitting the train data with the model, the model is having an intercept of 0.79 which is on positive y-axis when other feature values are zero."
   ]
  },
  {
   "cell_type": "code",
   "execution_count": 89,
   "id": "unlikely-length",
   "metadata": {},
   "outputs": [
    {
     "name": "stdout",
     "output_type": "stream",
     "text": [
      "\n",
      "Predictions with multiple linear regression: \n",
      "\n",
      "   death_yn_Yes  Predicted\n",
      "0             1          1\n",
      "1             1          1\n",
      "2             1          1\n",
      "3             1          1\n",
      "4             1          1\n",
      "5             0          1\n",
      "6             1          0\n",
      "7             0          1\n",
      "8             1          1\n",
      "9             1          1\n"
     ]
    }
   ],
   "source": [
    "# calculate the prediction and threshold the value. If >= 0.5 its true\n",
    "multiple_logisticreg_predictions_train_balanced = multiple_logisticreg_balanced.predict(X_train_balanced)\n",
    "\n",
    "print(\"\\nPredictions with multiple linear regression: \\n\")\n",
    "actual_vs_predicted_multiplelogisticreg_balanced = pd.concat([y_train_balanced, pd.DataFrame(multiple_logisticreg_predictions_train_balanced, columns=['Predicted'])], axis=1)\n",
    "print(actual_vs_predicted_multiplelogisticreg_balanced.head(10))"
   ]
  },
  {
   "cell_type": "code",
   "execution_count": 90,
   "id": "fifth-florida",
   "metadata": {},
   "outputs": [
    {
     "name": "stdout",
     "output_type": "stream",
     "text": [
      "==================== Train Data =======================\n",
      "Accuracy:  0.5479472580161822\n",
      "Confusion matrix: \n",
      " [[ 627 2424]\n",
      " [ 593 3030]]\n",
      "Classification report:\n",
      "                precision    recall  f1-score   support\n",
      "\n",
      "           0       0.51      0.21      0.29      3051\n",
      "           1       0.56      0.84      0.67      3623\n",
      "\n",
      "    accuracy                           0.55      6674\n",
      "   macro avg       0.53      0.52      0.48      6674\n",
      "weighted avg       0.54      0.55      0.50      6674\n",
      "\n",
      "======================================================\n"
     ]
    }
   ],
   "source": [
    "# Some more evaluation metrics.\n",
    "print(\"==================== Train Data =======================\")\n",
    "print(\"Accuracy: \", metrics.accuracy_score(y_train_balanced, multiple_logisticreg_predictions_train_balanced))\n",
    "print(\"Confusion matrix: \\n\", metrics.confusion_matrix(y_train_balanced, multiple_logisticreg_predictions_train_balanced))\n",
    "print(\"Classification report:\\n \", metrics.classification_report(y_train_balanced, multiple_logisticreg_predictions_train_balanced))\n",
    "print(\"======================================================\")"
   ]
  },
  {
   "cell_type": "code",
   "execution_count": 91,
   "id": "cellular-enterprise",
   "metadata": {
    "scrolled": true
   },
   "outputs": [
    {
     "name": "stdout",
     "output_type": "stream",
     "text": [
      "\n",
      "Predictions with multiple linear regression: \n",
      "\n",
      "    death_yn_Yes  Predicted\n",
      "0              0          1\n",
      "1              1          0\n",
      "2              1          0\n",
      "3              1          1\n",
      "4              0          0\n",
      "5              1          1\n",
      "6              0          1\n",
      "7              1          1\n",
      "8              1          1\n",
      "9              0          0\n",
      "10             0          1\n",
      "11             0          1\n",
      "12             0          1\n",
      "13             0          0\n",
      "14             1          1\n",
      "15             1          1\n",
      "16             1          1\n",
      "17             0          1\n",
      "18             0          1\n",
      "19             1          0\n"
     ]
    }
   ],
   "source": [
    "# calculate the prediction and threshold the value. If >= 0.5 its true\n",
    "multiple_logisticreg_predictions_test_balanced = multiple_logisticreg_balanced.predict(X_test_balanced)\n",
    "\n",
    "print(\"\\nPredictions with multiple linear regression: \\n\")\n",
    "actual_vs_predicted_multiplelogisticreg_balanced = pd.concat([y_test_balanced, pd.DataFrame(multiple_logisticreg_predictions_test_balanced, columns=['Predicted'])], axis=1)\n",
    "print(actual_vs_predicted_multiplelogisticreg_balanced.head(20))"
   ]
  },
  {
   "cell_type": "code",
   "execution_count": 92,
   "id": "operational-deviation",
   "metadata": {
    "scrolled": true
   },
   "outputs": [
    {
     "name": "stdout",
     "output_type": "stream",
     "text": [
      "==================== Test Data =======================\n",
      "Accuracy:  0.5260398462076197\n",
      "Confusion matrix: \n",
      " [[ 217 1104]\n",
      " [ 252 1288]]\n",
      "Classification report:\n",
      "                precision    recall  f1-score   support\n",
      "\n",
      "           0       0.46      0.16      0.24      1321\n",
      "           1       0.54      0.84      0.66      1540\n",
      "\n",
      "    accuracy                           0.53      2861\n",
      "   macro avg       0.50      0.50      0.45      2861\n",
      "weighted avg       0.50      0.53      0.46      2861\n",
      "\n",
      "==================== Train Data =======================\n",
      "Accuracy:  0.5479472580161822\n",
      "Confusion matrix: \n",
      " [[ 627 2424]\n",
      " [ 593 3030]]\n",
      "Classification report:\n",
      "                precision    recall  f1-score   support\n",
      "\n",
      "           0       0.51      0.21      0.29      3051\n",
      "           1       0.56      0.84      0.67      3623\n",
      "\n",
      "    accuracy                           0.55      6674\n",
      "   macro avg       0.53      0.52      0.48      6674\n",
      "weighted avg       0.54      0.55      0.50      6674\n",
      "\n",
      "======================================================\n"
     ]
    }
   ],
   "source": [
    "# Some more evaluation metrics.\n",
    "print(\"==================== Test Data =======================\")\n",
    "print(\"Accuracy: \", metrics.accuracy_score(y_test_balanced, multiple_logisticreg_predictions_test_balanced))\n",
    "print(\"Confusion matrix: \\n\", metrics.confusion_matrix(y_test_balanced, multiple_logisticreg_predictions_test_balanced))\n",
    "print(\"Classification report:\\n \", metrics.classification_report(y_test_balanced, multiple_logisticreg_predictions_test_balanced))\n",
    "print(\"==================== Train Data =======================\")\n",
    "print(\"Accuracy: \", metrics.accuracy_score(y_train_balanced, multiple_logisticreg_predictions_train_balanced))\n",
    "print(\"Confusion matrix: \\n\", metrics.confusion_matrix(y_train_balanced, multiple_logisticreg_predictions_train_balanced))\n",
    "print(\"Classification report:\\n \", metrics.classification_report(y_train_balanced, multiple_logisticreg_predictions_train_balanced))\n",
    "print(\"======================================================\")"
   ]
  },
  {
   "cell_type": "code",
   "execution_count": 93,
   "id": "initial-berry",
   "metadata": {},
   "outputs": [],
   "source": [
    "def cross_val_LogReg_DF_balanced(X,y):\n",
    "    \"\"\"Function to perform cross validation and store results \n",
    "    in dataframe. Cross validation looks at accuracy, precision, \n",
    "    recall, f1. Returns a dataframe with results\"\"\"\n",
    "\n",
    "    logRegResults_balanced = {}\n",
    "    # metrics to test against\n",
    "    test_metrics = ['accuracy','precision','recall', 'f1']\n",
    "\n",
    "    for metric in test_metrics:\n",
    "        # generate test results\n",
    "        result = cross_val_score(LogisticRegression(), X, y, scoring=metric, cv=10)\n",
    "        # store result in dict\n",
    "        logRegResults_balanced[metric] = result.mean()\n",
    "        \n",
    "    # create dataframe with results\n",
    "    LogRegDF = pd.DataFrame.from_dict(logRegResults_balanced, orient='index', columns=['Logistic_Regression'])\n",
    "    \n",
    "    return LogRegDF"
   ]
  },
  {
   "cell_type": "code",
   "execution_count": 94,
   "id": "secondary-impossible",
   "metadata": {},
   "outputs": [
    {
     "name": "stdout",
     "output_type": "stream",
     "text": [
      "Mean results from 10 fold cross validation are:\n"
     ]
    },
    {
     "data": {
      "text/html": [
       "<div>\n",
       "<style scoped>\n",
       "    .dataframe tbody tr th:only-of-type {\n",
       "        vertical-align: middle;\n",
       "    }\n",
       "\n",
       "    .dataframe tbody tr th {\n",
       "        vertical-align: top;\n",
       "    }\n",
       "\n",
       "    .dataframe thead th {\n",
       "        text-align: right;\n",
       "    }\n",
       "</style>\n",
       "<table border=\"1\" class=\"dataframe\">\n",
       "  <thead>\n",
       "    <tr style=\"text-align: right;\">\n",
       "      <th></th>\n",
       "      <th>Logistic_Regression</th>\n",
       "    </tr>\n",
       "  </thead>\n",
       "  <tbody>\n",
       "    <tr>\n",
       "      <th>accuracy</th>\n",
       "      <td>0.532144</td>\n",
       "    </tr>\n",
       "    <tr>\n",
       "      <th>precision</th>\n",
       "      <td>0.541673</td>\n",
       "    </tr>\n",
       "    <tr>\n",
       "      <th>recall</th>\n",
       "      <td>0.881262</td>\n",
       "    </tr>\n",
       "    <tr>\n",
       "      <th>f1</th>\n",
       "      <td>0.670806</td>\n",
       "    </tr>\n",
       "  </tbody>\n",
       "</table>\n",
       "</div>"
      ],
      "text/plain": [
       "           Logistic_Regression\n",
       "accuracy              0.532144\n",
       "precision             0.541673\n",
       "recall                0.881262\n",
       "f1                    0.670806"
      ]
     },
     "execution_count": 94,
     "metadata": {},
     "output_type": "execute_result"
    }
   ],
   "source": [
    "logRegDF_balanced = cross_val_LogReg_DF_balanced(X_balanced,y_balanced)\n",
    "print(f\"Mean results from 10 fold cross validation are:\")\n",
    "logRegDF_balanced"
   ]
  },
  {
   "cell_type": "markdown",
   "id": "exposed-bargain",
   "metadata": {},
   "source": [
    "Summary :\n",
    "\n",
    "From the above results, we can say that the accuracy is quite low when compared with the previous results which is expected. Because the probability of different combinations between the feature in predicting the target feature will be very high. Hence the model can not generalise the predictions on positive class. \n",
    "\n",
    "Also, 50% of the data is not seen by the model before. Hence the prediction will obviously be less than the training set. \n",
    "\n",
    "On the other hand, the recall is high which is great. This indicates that the maximum of the positive class data are predicting well on test data. "
   ]
  },
  {
   "cell_type": "markdown",
   "id": "opened-friend",
   "metadata": {},
   "source": [
    "<b>Final Discussion of implementing new ideas on best model.</b><br>\n",
    "After all the analysis, the accuracy of logistic regression is not improved. Initially, I assumed that the accuracy will be increaed by normalising the continous features. But as we are having only 1 continous feature the model has no effect on the change. \n",
    "Furthermore, by balancing the dataset the model is not able to generalise the data because the target values are changed randomly which is not correct as the same details may have different target value in the test data. Also he model does not have much data to analyse all the combination of the features in predicting the target feature. Hence this idea does not work.\n",
    "\n",
    "But we can observe that by rescaling the data makes the recall high. Hence if the original data is balanced then there is great possibility of getting much greater accuracy and high recall as we have seen in the above results."
   ]
  },
  {
   "cell_type": "markdown",
   "id": "governing-custody",
   "metadata": {},
   "source": [
    "### 5.3 Predicting on new dataset."
   ]
  },
  {
   "cell_type": "markdown",
   "id": "accepted-fisher",
   "metadata": {},
   "source": [
    "The data cleaning for the new dataset is done in seperate file called New_data_cleaning.<br>\n",
    "And the final dataset after cleaning is attached in the zip file called 3_new_data_cleaned_new_features_FOR_A2.<br>\n",
    "This csv file is used as an input and this used for modelling because all the data cleaning is done in the above mentioned file."
   ]
  },
  {
   "cell_type": "code",
   "execution_count": 95,
   "id": "impressive-taylor",
   "metadata": {},
   "outputs": [],
   "source": [
    "# Call the csv of cleaned new dataset.\n",
    "df_new = pd.read_csv('CDC_New_dataset_1-3_cleaned_new_features_FOR_A2.csv', keep_default_na=True, sep=',\\s+', delimiter=',', skipinitialspace=True)\n"
   ]
  },
  {
   "cell_type": "code",
   "execution_count": 96,
   "id": "fitting-elite",
   "metadata": {},
   "outputs": [
    {
     "data": {
      "text/plain": [
       "(8296, 13)"
      ]
     },
     "execution_count": 96,
     "metadata": {},
     "output_type": "execute_result"
    }
   ],
   "source": [
    "df_new.shape"
   ]
  },
  {
   "cell_type": "code",
   "execution_count": 97,
   "id": "addressed-polish",
   "metadata": {},
   "outputs": [
    {
     "data": {
      "text/plain": [
       "cdc_case_earliest_dt        object\n",
       "current_status              object\n",
       "sex                         object\n",
       "age_group                   object\n",
       "race_ethnicity_combined     object\n",
       "hosp_yn                     object\n",
       "icu_yn                      object\n",
       "death_yn                    object\n",
       "medcond_yn                  object\n",
       "percent                    float64\n",
       "%deaths_every_30days       float64\n",
       "Seasons                     object\n",
       "Is_person_Waited_OR_Not    float64\n",
       "dtype: object"
      ]
     },
     "execution_count": 97,
     "metadata": {},
     "output_type": "execute_result"
    }
   ],
   "source": [
    "df_new.dtypes"
   ]
  },
  {
   "cell_type": "code",
   "execution_count": 98,
   "id": "touched-revolution",
   "metadata": {},
   "outputs": [],
   "source": [
    "# initially set date columns to datetime datatype. \n",
    "df_new['cdc_case_earliest_dt'] = pd.to_datetime(df_new['cdc_case_earliest_dt'],errors = 'ignore')\n"
   ]
  },
  {
   "cell_type": "code",
   "execution_count": 99,
   "id": "pretty-shadow",
   "metadata": {},
   "outputs": [
    {
     "data": {
      "text/plain": [
       "cdc_case_earliest_dt       datetime64[ns]\n",
       "current_status                     object\n",
       "sex                                object\n",
       "age_group                          object\n",
       "race_ethnicity_combined            object\n",
       "hosp_yn                            object\n",
       "icu_yn                             object\n",
       "death_yn                           object\n",
       "medcond_yn                         object\n",
       "percent                           float64\n",
       "%deaths_every_30days              float64\n",
       "Seasons                            object\n",
       "Is_person_Waited_OR_Not           float64\n",
       "dtype: object"
      ]
     },
     "execution_count": 99,
     "metadata": {},
     "output_type": "execute_result"
    }
   ],
   "source": [
    "df_new.dtypes"
   ]
  },
  {
   "cell_type": "code",
   "execution_count": 100,
   "id": "rocky-clock",
   "metadata": {},
   "outputs": [
    {
     "data": {
      "text/plain": [
       "Index(['current_status', 'sex', 'age_group', 'race_ethnicity_combined',\n",
       "       'hosp_yn', 'icu_yn', 'death_yn', 'medcond_yn', 'Seasons'],\n",
       "      dtype='object')"
      ]
     },
     "execution_count": 100,
     "metadata": {},
     "output_type": "execute_result"
    }
   ],
   "source": [
    "# select all the remaining object features to convert them into categorical\n",
    "object_columns = df_new.select_dtypes(['object']).columns\n",
    "object_columns"
   ]
  },
  {
   "cell_type": "code",
   "execution_count": 101,
   "id": "secondary-mortality",
   "metadata": {},
   "outputs": [
    {
     "data": {
      "text/plain": [
       "cdc_case_earliest_dt       datetime64[ns]\n",
       "current_status                   category\n",
       "sex                              category\n",
       "age_group                        category\n",
       "race_ethnicity_combined          category\n",
       "hosp_yn                          category\n",
       "icu_yn                           category\n",
       "death_yn                         category\n",
       "medcond_yn                       category\n",
       "percent                           float64\n",
       "%deaths_every_30days              float64\n",
       "Seasons                          category\n",
       "Is_person_Waited_OR_Not           float64\n",
       "dtype: object"
      ]
     },
     "execution_count": 101,
     "metadata": {},
     "output_type": "execute_result"
    }
   ],
   "source": [
    "#change each column and change the dtype as categorical\n",
    "for column in object_columns:\n",
    "    df_new[column] = df_new[column].astype('category')\n",
    "df_new.dtypes  "
   ]
  },
  {
   "cell_type": "code",
   "execution_count": 102,
   "id": "focused-basement",
   "metadata": {},
   "outputs": [],
   "source": [
    "# As this feature can be dropped as it is used for stakked ploting.\n",
    "df_new.drop(['percent'], axis='columns', inplace=True)"
   ]
  },
  {
   "cell_type": "code",
   "execution_count": 103,
   "id": "comic-disclaimer",
   "metadata": {},
   "outputs": [
    {
     "data": {
      "text/plain": [
       "cdc_case_earliest_dt       0\n",
       "current_status             0\n",
       "sex                        0\n",
       "age_group                  0\n",
       "race_ethnicity_combined    0\n",
       "hosp_yn                    0\n",
       "icu_yn                     0\n",
       "death_yn                   0\n",
       "medcond_yn                 0\n",
       "%deaths_every_30days       0\n",
       "Seasons                    0\n",
       "Is_person_Waited_OR_Not    0\n",
       "dtype: int64"
      ]
     },
     "execution_count": 103,
     "metadata": {},
     "output_type": "execute_result"
    }
   ],
   "source": [
    "### Check for Null Values\n",
    "\n",
    "df_new.isnull().sum()"
   ]
  },
  {
   "cell_type": "markdown",
   "id": "specific-little",
   "metadata": {},
   "source": [
    "From the above values, it indicates that there are no null values in the dataset and are cleaned in another notebook(New_data_cleaning_homework_2_Q4.3)."
   ]
  },
  {
   "cell_type": "code",
   "execution_count": 104,
   "id": "sacred-transfer",
   "metadata": {},
   "outputs": [
    {
     "name": "stdout",
     "output_type": "stream",
     "text": [
      "cdc_case_earliest_dt :\n",
      "2021-01-20    459\n",
      "2021-01-19    449\n",
      "2021-01-21    445\n",
      "2021-01-29    443\n",
      "2021-01-25    442\n",
      "2021-01-22    418\n",
      "2021-01-26    384\n",
      "2021-01-28    377\n",
      "2021-01-27    372\n",
      "2021-02-01    355\n",
      "2021-02-03    328\n",
      "2021-01-23    315\n",
      "2021-02-02    307\n",
      "2021-01-30    301\n",
      "2021-01-24    289\n",
      "2021-02-04    286\n",
      "2021-02-05    272\n",
      "2021-02-08    271\n",
      "2021-02-10    266\n",
      "2021-02-11    259\n",
      "2021-01-31    249\n",
      "2021-02-09    240\n",
      "2021-02-12    221\n",
      "2021-02-06    202\n",
      "2021-02-07    173\n",
      "2021-02-13    166\n",
      "2021-01-18      1\n",
      "2020-07-17      1\n",
      "2020-12-28      1\n",
      "2021-01-08      1\n",
      "2020-12-16      1\n",
      "2020-11-23      1\n",
      "2021-01-06      1\n",
      "Name: cdc_case_earliest_dt, dtype: int64 \n",
      "\n",
      "current_status :\n",
      "Laboratory-confirmed case    7252\n",
      "Probable Case                1044\n",
      "Name: current_status, dtype: int64 \n",
      "\n",
      "sex :\n",
      "Female     4253\n",
      "Male       3971\n",
      "Unknown      71\n",
      "Other         1\n",
      "Name: sex, dtype: int64 \n",
      "\n",
      "age_group :\n",
      "20 - 29 Years    1354\n",
      "30 - 39 Years    1262\n",
      "50 - 59 Years    1175\n",
      "40 - 49 Years    1130\n",
      "10 - 19 Years    1075\n",
      "60 - 69 Years     912\n",
      "0 - 9 Years       527\n",
      "70 - 79 Years     512\n",
      "80+ Years         349\n",
      "Name: age_group, dtype: int64 \n",
      "\n",
      "race_ethnicity_combined :\n",
      "White, Non-Hispanic                                     3128\n",
      "Missing                                                 2898\n",
      "Black, Non-Hispanic                                      679\n",
      "Multiple/Other, Non-Hispanic                             612\n",
      "Hispanic/Latino                                          556\n",
      "Asian, Non-Hispanic                                      322\n",
      "American Indian/Alaska Native, Non-Hispanic               69\n",
      "Native Hawaiian/Other Pacific Islander, Non-Hispanic      32\n",
      "Name: race_ethnicity_combined, dtype: int64 \n",
      "\n",
      "hosp_yn :\n",
      "No         4203\n",
      "Missing    3702\n",
      "Yes         391\n",
      "Name: hosp_yn, dtype: int64 \n",
      "\n",
      "icu_yn :\n",
      "Missing    7758\n",
      "No          517\n",
      "Yes          21\n",
      "Name: icu_yn, dtype: int64 \n",
      "\n",
      "death_yn :\n",
      "No     8176\n",
      "Yes     120\n",
      "Name: death_yn, dtype: int64 \n",
      "\n",
      "medcond_yn :\n",
      "Missing    7268\n",
      "No          595\n",
      "Yes         433\n",
      "Name: medcond_yn, dtype: int64 \n",
      "\n",
      "%deaths_every_30days :\n",
      "1.493104     7903\n",
      "0.258398      387\n",
      "25.000000       4\n",
      "0.000000        2\n",
      "Name: %deaths_every_30days, dtype: int64 \n",
      "\n",
      "Seasons :\n",
      "Winter    8294\n",
      "Autumn       1\n",
      "Summer       1\n",
      "Name: Seasons, dtype: int64 \n",
      "\n",
      "Is_person_Waited_OR_Not :\n",
      "0.0    4436\n",
      "1.0    3860\n",
      "Name: Is_person_Waited_OR_Not, dtype: int64 \n",
      "\n"
     ]
    }
   ],
   "source": [
    "# get all the details of each feature in the new dataset.\n",
    "for i in df_new.columns:\n",
    "    print(i,':')\n",
    "    print(df_new[i].value_counts(),'\\n')"
   ]
  },
  {
   "cell_type": "markdown",
   "id": "accomplished-speaker",
   "metadata": {},
   "source": [
    "**End of data cleaning for new dataset**\n",
    "\n",
    "Hence, all the data cleaning and prepartions of new dataset is done. <br>\n",
    "The below code is the implementation and preparation for logistic regression modelling as it is the best model."
   ]
  },
  {
   "cell_type": "code",
   "execution_count": 105,
   "id": "civic-entrepreneur",
   "metadata": {},
   "outputs": [],
   "source": [
    "# These features can be dropped from the dataset as these are not used for modelling.\n",
    "df_new.drop(['cdc_case_earliest_dt','current_status'], axis='columns', inplace=True)"
   ]
  },
  {
   "cell_type": "code",
   "execution_count": 106,
   "id": "respiratory-fisher",
   "metadata": {},
   "outputs": [
    {
     "data": {
      "text/plain": [
       "%deaths_every_30days                                                            float64\n",
       "Is_person_Waited_OR_Not                                                         float64\n",
       "sex_Female                                                                        uint8\n",
       "sex_Male                                                                          uint8\n",
       "sex_Other                                                                         uint8\n",
       "sex_Unknown                                                                       uint8\n",
       "age_group_0 - 9 Years                                                             uint8\n",
       "age_group_10 - 19 Years                                                           uint8\n",
       "age_group_20 - 29 Years                                                           uint8\n",
       "age_group_30 - 39 Years                                                           uint8\n",
       "age_group_40 - 49 Years                                                           uint8\n",
       "age_group_50 - 59 Years                                                           uint8\n",
       "age_group_60 - 69 Years                                                           uint8\n",
       "age_group_70 - 79 Years                                                           uint8\n",
       "age_group_80+ Years                                                               uint8\n",
       "race_ethnicity_combined_American Indian/Alaska Native, Non-Hispanic               uint8\n",
       "race_ethnicity_combined_Asian, Non-Hispanic                                       uint8\n",
       "race_ethnicity_combined_Black, Non-Hispanic                                       uint8\n",
       "race_ethnicity_combined_Hispanic/Latino                                           uint8\n",
       "race_ethnicity_combined_Missing                                                   uint8\n",
       "race_ethnicity_combined_Multiple/Other, Non-Hispanic                              uint8\n",
       "race_ethnicity_combined_Native Hawaiian/Other Pacific Islander, Non-Hispanic      uint8\n",
       "race_ethnicity_combined_White, Non-Hispanic                                       uint8\n",
       "hosp_yn_Missing                                                                   uint8\n",
       "hosp_yn_No                                                                        uint8\n",
       "hosp_yn_Yes                                                                       uint8\n",
       "icu_yn_Missing                                                                    uint8\n",
       "icu_yn_No                                                                         uint8\n",
       "icu_yn_Yes                                                                        uint8\n",
       "death_yn_No                                                                       uint8\n",
       "death_yn_Yes                                                                      uint8\n",
       "medcond_yn_Missing                                                                uint8\n",
       "medcond_yn_No                                                                     uint8\n",
       "medcond_yn_Yes                                                                    uint8\n",
       "Seasons_Autumn                                                                    uint8\n",
       "Seasons_Summer                                                                    uint8\n",
       "Seasons_Winter                                                                    uint8\n",
       "dtype: object"
      ]
     },
     "execution_count": 106,
     "metadata": {},
     "output_type": "execute_result"
    }
   ],
   "source": [
    "# set up dummies features\n",
    "df_new = pd.get_dummies(df_new)\n",
    "df_new.dtypes"
   ]
  },
  {
   "cell_type": "code",
   "execution_count": 107,
   "id": "improving-effort",
   "metadata": {},
   "outputs": [],
   "source": [
    "df_new = df_new.drop(['death_yn_No','sex_Unknown','age_group_80+ Years','race_ethnicity_combined_Missing','hosp_yn_Missing','icu_yn_Missing','medcond_yn_Missing','Seasons_Winter'],1)"
   ]
  },
  {
   "cell_type": "code",
   "execution_count": 108,
   "id": "national-drove",
   "metadata": {},
   "outputs": [
    {
     "data": {
      "text/plain": [
       "(8296, 29)"
      ]
     },
     "execution_count": 108,
     "metadata": {},
     "output_type": "execute_result"
    }
   ],
   "source": [
    "df_new.shape"
   ]
  },
  {
   "cell_type": "markdown",
   "id": "known-priest",
   "metadata": {},
   "source": [
    "**Adding 2 feature for prediction purposes**<br>\n",
    "In the new dataset,\n",
    "- <b>Seasons_spring : </b>All the values in this data are ranging from july till febrauary due to which there is no spring season in the data values. Hence there is no Seasons_spring feature in the new dataframe when compared with the previous one. Therefore, this feature is added to the dataframe for prediction purposes. \n",
    "- <b>hosp_yn_OTH : </b> This catagory in previous dataframe is having few values, but which is not available in the new dataset. Hence for prediction purposes this feature is created in the dataset.\n",
    "\n",
    "Hence, for the prediction purposes these feature are added to the dataframe but with the value 0."
   ]
  },
  {
   "cell_type": "code",
   "execution_count": 109,
   "id": "elder-screen",
   "metadata": {},
   "outputs": [],
   "source": [
    "# Create new features which are not available in the original dataset.\n",
    "df_new['Seasons_Spring']=0\n",
    "df_new['hosp_yn_OTH']=0"
   ]
  },
  {
   "cell_type": "code",
   "execution_count": 110,
   "id": "powerful-marshall",
   "metadata": {},
   "outputs": [
    {
     "data": {
      "text/plain": [
       "Index(['%deaths_every_30days', 'Is_person_Waited_OR_Not', 'sex_Female',\n",
       "       'sex_Male', 'sex_Other', 'age_group_0 - 9 Years',\n",
       "       'age_group_10 - 19 Years', 'age_group_20 - 29 Years',\n",
       "       'age_group_30 - 39 Years', 'age_group_40 - 49 Years',\n",
       "       'age_group_50 - 59 Years', 'age_group_60 - 69 Years',\n",
       "       'age_group_70 - 79 Years',\n",
       "       'race_ethnicity_combined_American Indian/Alaska Native, Non-Hispanic',\n",
       "       'race_ethnicity_combined_Asian, Non-Hispanic',\n",
       "       'race_ethnicity_combined_Black, Non-Hispanic',\n",
       "       'race_ethnicity_combined_Hispanic/Latino',\n",
       "       'race_ethnicity_combined_Multiple/Other, Non-Hispanic',\n",
       "       'race_ethnicity_combined_Native Hawaiian/Other Pacific Islander, Non-Hispanic',\n",
       "       'race_ethnicity_combined_White, Non-Hispanic', 'hosp_yn_No',\n",
       "       'hosp_yn_Yes', 'icu_yn_No', 'icu_yn_Yes', 'death_yn_Yes',\n",
       "       'medcond_yn_No', 'medcond_yn_Yes', 'Seasons_Autumn', 'Seasons_Summer',\n",
       "       'Seasons_Spring', 'hosp_yn_OTH'],\n",
       "      dtype='object')"
      ]
     },
     "execution_count": 110,
     "metadata": {},
     "output_type": "execute_result"
    }
   ],
   "source": [
    "df_new.columns"
   ]
  },
  {
   "cell_type": "code",
   "execution_count": 111,
   "id": "illegal-surveillance",
   "metadata": {},
   "outputs": [],
   "source": [
    "# y is the target\n",
    "y_new = df_new[\"death_yn_Yes\"]\n",
    "# X is everything else\n",
    "X_new = df_new.drop([\"death_yn_Yes\"],1)\n",
    "\n",
    "X_all = df_model.drop([\"death_yn_Yes\"],1)\n",
    "y_all = df_model[\"death_yn_Yes\"]\n"
   ]
  },
  {
   "cell_type": "markdown",
   "id": "fifty-colony",
   "metadata": {},
   "source": [
    "Now compare the data columns in the datasets and verify whether the feature in both the datasets are equal or not."
   ]
  },
  {
   "cell_type": "code",
   "execution_count": 112,
   "id": "dominican-recall",
   "metadata": {},
   "outputs": [
    {
     "data": {
      "text/plain": [
       "Index(['%deaths_every_30days', 'Is_person_Waited_OR_Not', 'sex_Female',\n",
       "       'sex_Male', 'sex_Other', 'age_group_0 - 9 Years',\n",
       "       'age_group_10 - 19 Years', 'age_group_20 - 29 Years',\n",
       "       'age_group_30 - 39 Years', 'age_group_40 - 49 Years',\n",
       "       'age_group_50 - 59 Years', 'age_group_60 - 69 Years',\n",
       "       'age_group_70 - 79 Years',\n",
       "       'race_ethnicity_combined_American Indian/Alaska Native, Non-Hispanic',\n",
       "       'race_ethnicity_combined_Asian, Non-Hispanic',\n",
       "       'race_ethnicity_combined_Black, Non-Hispanic',\n",
       "       'race_ethnicity_combined_Hispanic/Latino',\n",
       "       'race_ethnicity_combined_Multiple/Other, Non-Hispanic',\n",
       "       'race_ethnicity_combined_Native Hawaiian/Other Pacific Islander, Non-Hispanic',\n",
       "       'race_ethnicity_combined_White, Non-Hispanic', 'hosp_yn_No',\n",
       "       'hosp_yn_OTH', 'hosp_yn_Yes', 'icu_yn_No', 'icu_yn_Yes',\n",
       "       'medcond_yn_No', 'medcond_yn_Yes', 'Seasons_Autumn', 'Seasons_Spring',\n",
       "       'Seasons_Summer'],\n",
       "      dtype='object')"
      ]
     },
     "execution_count": 112,
     "metadata": {},
     "output_type": "execute_result"
    }
   ],
   "source": [
    "# Get all the features of previous dataset(training data).\n",
    "X_all.columns"
   ]
  },
  {
   "cell_type": "code",
   "execution_count": 113,
   "id": "solid-dietary",
   "metadata": {},
   "outputs": [
    {
     "data": {
      "text/plain": [
       "Index(['%deaths_every_30days', 'Is_person_Waited_OR_Not', 'sex_Female',\n",
       "       'sex_Male', 'sex_Other', 'age_group_0 - 9 Years',\n",
       "       'age_group_10 - 19 Years', 'age_group_20 - 29 Years',\n",
       "       'age_group_30 - 39 Years', 'age_group_40 - 49 Years',\n",
       "       'age_group_50 - 59 Years', 'age_group_60 - 69 Years',\n",
       "       'age_group_70 - 79 Years',\n",
       "       'race_ethnicity_combined_American Indian/Alaska Native, Non-Hispanic',\n",
       "       'race_ethnicity_combined_Asian, Non-Hispanic',\n",
       "       'race_ethnicity_combined_Black, Non-Hispanic',\n",
       "       'race_ethnicity_combined_Hispanic/Latino',\n",
       "       'race_ethnicity_combined_Multiple/Other, Non-Hispanic',\n",
       "       'race_ethnicity_combined_Native Hawaiian/Other Pacific Islander, Non-Hispanic',\n",
       "       'race_ethnicity_combined_White, Non-Hispanic', 'hosp_yn_No',\n",
       "       'hosp_yn_Yes', 'icu_yn_No', 'icu_yn_Yes', 'medcond_yn_No',\n",
       "       'medcond_yn_Yes', 'Seasons_Autumn', 'Seasons_Summer', 'Seasons_Spring',\n",
       "       'hosp_yn_OTH'],\n",
       "      dtype='object')"
      ]
     },
     "execution_count": 113,
     "metadata": {},
     "output_type": "execute_result"
    }
   ],
   "source": [
    "# Get all the features of new dataset(testing data).\n",
    "X_new.columns"
   ]
  },
  {
   "cell_type": "code",
   "execution_count": 114,
   "id": "specified-vacuum",
   "metadata": {},
   "outputs": [],
   "source": [
    "# Train aka fit, a model using all continuous and categorical features.\n",
    "multiple_logisticreg_new = LogisticRegression().fit(X_all, y_all)"
   ]
  },
  {
   "cell_type": "code",
   "execution_count": 115,
   "id": "interpreted-cathedral",
   "metadata": {},
   "outputs": [
    {
     "name": "stdout",
     "output_type": "stream",
     "text": [
      "\n",
      "Features are: \n",
      " Index(['%deaths_every_30days', 'Is_person_Waited_OR_Not', 'sex_Female',\n",
      "       'sex_Male', 'sex_Other', 'age_group_0 - 9 Years',\n",
      "       'age_group_10 - 19 Years', 'age_group_20 - 29 Years',\n",
      "       'age_group_30 - 39 Years', 'age_group_40 - 49 Years',\n",
      "       'age_group_50 - 59 Years', 'age_group_60 - 69 Years',\n",
      "       'age_group_70 - 79 Years',\n",
      "       'race_ethnicity_combined_American Indian/Alaska Native, Non-Hispanic',\n",
      "       'race_ethnicity_combined_Asian, Non-Hispanic',\n",
      "       'race_ethnicity_combined_Black, Non-Hispanic',\n",
      "       'race_ethnicity_combined_Hispanic/Latino',\n",
      "       'race_ethnicity_combined_Multiple/Other, Non-Hispanic',\n",
      "       'race_ethnicity_combined_Native Hawaiian/Other Pacific Islander, Non-Hispanic',\n",
      "       'race_ethnicity_combined_White, Non-Hispanic', 'hosp_yn_No',\n",
      "       'hosp_yn_OTH', 'hosp_yn_Yes', 'icu_yn_No', 'icu_yn_Yes',\n",
      "       'medcond_yn_No', 'medcond_yn_Yes', 'Seasons_Autumn', 'Seasons_Spring',\n",
      "       'Seasons_Summer'],\n",
      "      dtype='object')\n",
      "\n",
      "Coeficients are: \n",
      " [ 0.09126552 -0.441032   -0.19705969  0.30375962 -0.0067293  -3.01514517\n",
      " -3.58177943 -3.90603425 -3.60508667 -3.14649047 -2.7393185  -1.8451043\n",
      " -0.80366605  0.97893527  1.18969198  0.67822673  0.85760776 -0.39237023\n",
      " -0.33080396  0.67769832 -1.06085732 -0.38724293  1.45303244 -0.70463466\n",
      "  1.18782549 -0.26202768  0.50766275  0.2143481   0.25970586  0.33588223]\n",
      "\n",
      "Intercept is: \n",
      " [-2.24579856]\n",
      "\n",
      "Features and coeficients: \n",
      " [('%deaths_every_30days', 0.09126551548617197), ('Is_person_Waited_OR_Not', -0.44103200289256966), ('sex_Female', -0.1970596921982226), ('sex_Male', 0.30375961771592797), ('sex_Other', -0.006729300009693198), ('age_group_0 - 9 Years', -3.01514516667149), ('age_group_10 - 19 Years', -3.5817794261612805), ('age_group_20 - 29 Years', -3.906034254727253), ('age_group_30 - 39 Years', -3.6050866653545692), ('age_group_40 - 49 Years', -3.14649046698289), ('age_group_50 - 59 Years', -2.7393185012208003), ('age_group_60 - 69 Years', -1.8451042995917273), ('age_group_70 - 79 Years', -0.8036660479108485), ('race_ethnicity_combined_American Indian/Alaska Native, Non-Hispanic', 0.9789352730396723), ('race_ethnicity_combined_Asian, Non-Hispanic', 1.189691980663721), ('race_ethnicity_combined_Black, Non-Hispanic', 0.6782267258971595), ('race_ethnicity_combined_Hispanic/Latino', 0.8576077630545662), ('race_ethnicity_combined_Multiple/Other, Non-Hispanic', -0.3923702302296707), ('race_ethnicity_combined_Native Hawaiian/Other Pacific Islander, Non-Hispanic', -0.33080396210753404), ('race_ethnicity_combined_White, Non-Hispanic', 0.6776983233696806), ('hosp_yn_No', -1.0608573228234497), ('hosp_yn_OTH', -0.38724292621429035), ('hosp_yn_Yes', 1.4530324377862525), ('icu_yn_No', -0.7046346593373417), ('icu_yn_Yes', 1.1878254908340615), ('medcond_yn_No', -0.2620276833173341), ('medcond_yn_Yes', 0.5076627532820723), ('Seasons_Autumn', 0.21434810010303418), ('Seasons_Spring', 0.25970585938939356), ('Seasons_Summer', 0.3358822314587338)]\n"
     ]
    }
   ],
   "source": [
    "# Print the weights learned for each feature.\n",
    "print(\"\\nFeatures are: \\n\", X_all.columns)\n",
    "print(\"\\nCoeficients are: \\n\", multiple_logisticreg_new.coef_[0])\n",
    "print(\"\\nIntercept is: \\n\", multiple_logisticreg_new.intercept_)\n",
    "print(\"\\nFeatures and coeficients: \\n\", list(zip(X_all.columns, multiple_logisticreg_new.coef_[0])))"
   ]
  },
  {
   "cell_type": "markdown",
   "id": "oriented-martial",
   "metadata": {},
   "source": [
    "#### Interpreting the results \n",
    "\n",
    "- From the values above can see the calculated intercept is -2.25\n",
    "    - This is the starting point. i.e. if all other coefficients were zero then the value for 'x' would be -2.25.\n",
    "    - This means that the y axis value is -2.25 when other feature values are zero.\n",
    "    - This is the input to the logistic function and the logistic function will then calculate the probability and threshold based on this.\n",
    "- We can see all the coefficients for each features\n",
    "    - These are zipped together in a single list for ease of inspection.\n"
   ]
  },
  {
   "cell_type": "code",
   "execution_count": 116,
   "id": "hired-welsh",
   "metadata": {},
   "outputs": [
    {
     "name": "stdout",
     "output_type": "stream",
     "text": [
      "\n",
      "Predictions with multiple linear regression: \n",
      "\n",
      "    death_yn_Yes  Predicted\n",
      "0              0          0\n",
      "1              0          0\n",
      "2              0          0\n",
      "3              0          0\n",
      "4              0          0\n",
      "..           ...        ...\n",
      "95             0          0\n",
      "96             0          0\n",
      "97             0          0\n",
      "98             0          0\n",
      "99             0          0\n",
      "\n",
      "[100 rows x 2 columns]\n"
     ]
    }
   ],
   "source": [
    "# calculate the prediction and threshold the value. If >= 0.5 its true\n",
    "multiple_logisticreg_predictions_train_new = multiple_logisticreg_new.predict(X_all)\n",
    "\n",
    "print(\"\\nPredictions with multiple linear regression: \\n\")\n",
    "actual_vs_predicted_multiplelogisticreg_new = pd.concat([y_all, pd.DataFrame(multiple_logisticreg_predictions_train_new, columns=['Predicted'])], axis=1)\n",
    "print(actual_vs_predicted_multiplelogisticreg_new.head(100))"
   ]
  },
  {
   "cell_type": "code",
   "execution_count": 117,
   "id": "stuffed-upper",
   "metadata": {},
   "outputs": [
    {
     "name": "stdout",
     "output_type": "stream",
     "text": [
      "==================== Train Data =======================\n",
      "Accuracy:  0.9712637650760356\n",
      "Confusion matrix: \n",
      " [[9162   48]\n",
      " [ 226   99]]\n",
      "Classification report:\n",
      "                precision    recall  f1-score   support\n",
      "\n",
      "           0       0.98      0.99      0.99      9210\n",
      "           1       0.67      0.30      0.42       325\n",
      "\n",
      "    accuracy                           0.97      9535\n",
      "   macro avg       0.82      0.65      0.70      9535\n",
      "weighted avg       0.97      0.97      0.97      9535\n",
      "\n",
      "======================================================\n"
     ]
    }
   ],
   "source": [
    "# Some more evaluation metrics.\n",
    "print(\"==================== Train Data =======================\")\n",
    "print(\"Accuracy: \", metrics.accuracy_score(y_all, multiple_logisticreg_predictions_train_new))\n",
    "print(\"Confusion matrix: \\n\", metrics.confusion_matrix(y_all, multiple_logisticreg_predictions_train_new))\n",
    "print(\"Classification report:\\n \", metrics.classification_report(y_all, multiple_logisticreg_predictions_train_new))\n",
    "print(\"======================================================\")"
   ]
  },
  {
   "cell_type": "code",
   "execution_count": 118,
   "id": "rural-brunei",
   "metadata": {},
   "outputs": [
    {
     "name": "stdout",
     "output_type": "stream",
     "text": [
      "\n",
      "Predictions with multiple linear regression: \n",
      "\n",
      "    death_yn_Yes  Predicted\n",
      "0              0          0\n",
      "1              0          0\n",
      "2              0          0\n",
      "3              0          0\n",
      "4              0          0\n",
      "5              0          0\n",
      "6              0          0\n",
      "7              0          0\n",
      "8              0          0\n",
      "9              0          0\n",
      "10             0          0\n",
      "11             0          0\n",
      "12             0          0\n",
      "13             0          0\n",
      "14             0          0\n",
      "15             0          0\n",
      "16             0          0\n",
      "17             0          0\n",
      "18             0          0\n",
      "19             0          0\n"
     ]
    }
   ],
   "source": [
    "# calculate the prediction and threshold the value. If >= 0.5 its true\n",
    "multiple_logisticreg_predictions_test_new = multiple_logisticreg_new.predict(X_new)\n",
    "\n",
    "print(\"\\nPredictions with multiple linear regression: \\n\")\n",
    "actual_vs_predicted_multiplelogisticreg_new = pd.concat([y_new, pd.DataFrame(multiple_logisticreg_predictions_test_new, columns=['Predicted'])], axis=1)\n",
    "print(actual_vs_predicted_multiplelogisticreg_new.head(20))"
   ]
  },
  {
   "cell_type": "code",
   "execution_count": 119,
   "id": "systematic-jewel",
   "metadata": {},
   "outputs": [
    {
     "name": "stdout",
     "output_type": "stream",
     "text": [
      "==================== Test Data =======================\n",
      "Accuracy:  0.9852941176470589\n",
      "Confusion matrix: \n",
      " [[8173    3]\n",
      " [ 119    1]]\n",
      "Classification report:\n",
      "                precision    recall  f1-score   support\n",
      "\n",
      "           0       0.99      1.00      0.99      8176\n",
      "           1       0.25      0.01      0.02       120\n",
      "\n",
      "    accuracy                           0.99      8296\n",
      "   macro avg       0.62      0.50      0.50      8296\n",
      "weighted avg       0.98      0.99      0.98      8296\n",
      "\n",
      "==================== Train Data =======================\n",
      "Accuracy:  0.9712637650760356\n",
      "Confusion matrix: \n",
      " [[9162   48]\n",
      " [ 226   99]]\n",
      "Classification report:\n",
      "                precision    recall  f1-score   support\n",
      "\n",
      "           0       0.98      0.99      0.99      9210\n",
      "           1       0.67      0.30      0.42       325\n",
      "\n",
      "    accuracy                           0.97      9535\n",
      "   macro avg       0.82      0.65      0.70      9535\n",
      "weighted avg       0.97      0.97      0.97      9535\n",
      "\n",
      "======================================================\n"
     ]
    }
   ],
   "source": [
    "# Some more evaluation metrics.\n",
    "print(\"==================== Test Data =======================\")\n",
    "print(\"Accuracy: \", metrics.accuracy_score(y_new, multiple_logisticreg_predictions_test_new))\n",
    "print(\"Confusion matrix: \\n\", metrics.confusion_matrix(y_new, multiple_logisticreg_predictions_test_new))\n",
    "print(\"Classification report:\\n \", metrics.classification_report(y_new, multiple_logisticreg_predictions_test_new))\n",
    "print(\"==================== Train Data =======================\")\n",
    "print(\"Accuracy: \", metrics.accuracy_score(y_all, multiple_logisticreg_predictions_train_new))\n",
    "print(\"Confusion matrix: \\n\", metrics.confusion_matrix(y_all, multiple_logisticreg_predictions_train_new))\n",
    "print(\"Classification report:\\n \", metrics.classification_report(y_all, multiple_logisticreg_predictions_train_new))\n",
    "print(\"======================================================\")"
   ]
  },
  {
   "cell_type": "markdown",
   "id": "damaged-burlington",
   "metadata": {},
   "source": [
    "Interpretation of test results and comparison with training results \n",
    "- Accuracy\n",
    "    - The accuracy of the test data is increased from 97.2% vs 98.7%. \n",
    "- Precision\n",
    "    - The precision score for predicting the positive case has reduced from 67% to 25%.\n",
    "    - The precision score for predicting the negative case has increased from 98% to 99%.\n",
    "- Recall\n",
    "    - The recall score for predicting the positive case has decreased from 30% to 1%.\n",
    "    - The recall score for predicting the negative case has increased from 99% to 100%.\n",
    "- F1\n",
    "    - The f1 score for predicting the positive case has reduced from 42% to 2%.\n",
    "    - The f1 score for predicting the negative case remains sam which is 99%.\n",
    "\n",
    "Summary\n",
    "- These values quite good when compared to the test results.\n",
    "- The accuracy level has benn increased, but this new data is also very similar to the previous one i.e. the majority class in both the datasets is death_yn = No.\n",
    "- This is a good sign that the model is generalizing\n",
    "- More comparisons need to be made and this is where cross validation steps in"
   ]
  },
  {
   "cell_type": "markdown",
   "id": "thrown-cardiff",
   "metadata": {},
   "source": [
    "####  Cross validation\n",
    "We will first create function to perform 10 fold cross validation and store results into dataframe\n",
    "- This will be used to simplify further analysis the dataset, looking at accuracy, precision, recall, f1."
   ]
  },
  {
   "cell_type": "code",
   "execution_count": 120,
   "id": "artificial-superintendent",
   "metadata": {},
   "outputs": [],
   "source": [
    "def cross_val_LogReg_DF_new(X,y):\n",
    "    \"\"\"Function to perform cross validation and store results \n",
    "    in dataframe. Cross validation looks at accuracy, precision, \n",
    "    recall, f1. Returns a dataframe with results\"\"\"\n",
    "\n",
    "    logRegResults = {}\n",
    "    # metrics to test against\n",
    "    test_metrics = ['accuracy','precision','recall', 'f1']\n",
    "\n",
    "    for metric in test_metrics:\n",
    "        # generate test results\n",
    "        result = cross_val_score(LogisticRegression(), X, y, scoring=metric, cv=10)\n",
    "        # store result in dict\n",
    "        logRegResults[metric] = result.mean()\n",
    "        \n",
    "    # create dataframe with results\n",
    "    LogRegDF = pd.DataFrame.from_dict(logRegResults, orient='index', columns=['Logistic_Regression'])\n",
    "    \n",
    "    return LogRegDF"
   ]
  },
  {
   "cell_type": "markdown",
   "id": "suburban-technology",
   "metadata": {},
   "source": [
    "For the testing purposes, we will join both the new dataset and previous dataset. This final data will be splitted and given as an input to the cross validation."
   ]
  },
  {
   "cell_type": "code",
   "execution_count": 121,
   "id": "altered-skirt",
   "metadata": {},
   "outputs": [],
   "source": [
    "# Concat both the dataframes.\n",
    "df_all_and_new = pd.concat([df_model, df_new], ignore_index=True)"
   ]
  },
  {
   "cell_type": "code",
   "execution_count": 122,
   "id": "saving-denial",
   "metadata": {},
   "outputs": [
    {
     "data": {
      "text/html": [
       "<div>\n",
       "<style scoped>\n",
       "    .dataframe tbody tr th:only-of-type {\n",
       "        vertical-align: middle;\n",
       "    }\n",
       "\n",
       "    .dataframe tbody tr th {\n",
       "        vertical-align: top;\n",
       "    }\n",
       "\n",
       "    .dataframe thead th {\n",
       "        text-align: right;\n",
       "    }\n",
       "</style>\n",
       "<table border=\"1\" class=\"dataframe\">\n",
       "  <thead>\n",
       "    <tr style=\"text-align: right;\">\n",
       "      <th></th>\n",
       "      <th>%deaths_every_30days</th>\n",
       "      <th>Is_person_Waited_OR_Not</th>\n",
       "      <th>sex_Female</th>\n",
       "      <th>sex_Male</th>\n",
       "      <th>sex_Other</th>\n",
       "      <th>age_group_0 - 9 Years</th>\n",
       "      <th>age_group_10 - 19 Years</th>\n",
       "      <th>age_group_20 - 29 Years</th>\n",
       "      <th>age_group_30 - 39 Years</th>\n",
       "      <th>age_group_40 - 49 Years</th>\n",
       "      <th>...</th>\n",
       "      <th>hosp_yn_OTH</th>\n",
       "      <th>hosp_yn_Yes</th>\n",
       "      <th>icu_yn_No</th>\n",
       "      <th>icu_yn_Yes</th>\n",
       "      <th>death_yn_Yes</th>\n",
       "      <th>medcond_yn_No</th>\n",
       "      <th>medcond_yn_Yes</th>\n",
       "      <th>Seasons_Autumn</th>\n",
       "      <th>Seasons_Spring</th>\n",
       "      <th>Seasons_Summer</th>\n",
       "    </tr>\n",
       "  </thead>\n",
       "  <tbody>\n",
       "    <tr>\n",
       "      <th>0</th>\n",
       "      <td>2.955426</td>\n",
       "      <td>0.0</td>\n",
       "      <td>0</td>\n",
       "      <td>1</td>\n",
       "      <td>0</td>\n",
       "      <td>0</td>\n",
       "      <td>0</td>\n",
       "      <td>0</td>\n",
       "      <td>1</td>\n",
       "      <td>0</td>\n",
       "      <td>...</td>\n",
       "      <td>0</td>\n",
       "      <td>0</td>\n",
       "      <td>0</td>\n",
       "      <td>0</td>\n",
       "      <td>0</td>\n",
       "      <td>0</td>\n",
       "      <td>0</td>\n",
       "      <td>0</td>\n",
       "      <td>0</td>\n",
       "      <td>0</td>\n",
       "    </tr>\n",
       "    <tr>\n",
       "      <th>1</th>\n",
       "      <td>3.080569</td>\n",
       "      <td>0.0</td>\n",
       "      <td>1</td>\n",
       "      <td>0</td>\n",
       "      <td>0</td>\n",
       "      <td>0</td>\n",
       "      <td>1</td>\n",
       "      <td>0</td>\n",
       "      <td>0</td>\n",
       "      <td>0</td>\n",
       "      <td>...</td>\n",
       "      <td>0</td>\n",
       "      <td>0</td>\n",
       "      <td>0</td>\n",
       "      <td>0</td>\n",
       "      <td>0</td>\n",
       "      <td>0</td>\n",
       "      <td>0</td>\n",
       "      <td>1</td>\n",
       "      <td>0</td>\n",
       "      <td>0</td>\n",
       "    </tr>\n",
       "  </tbody>\n",
       "</table>\n",
       "<p>2 rows × 31 columns</p>\n",
       "</div>"
      ],
      "text/plain": [
       "   %deaths_every_30days  Is_person_Waited_OR_Not  sex_Female  sex_Male  \\\n",
       "0              2.955426                      0.0           0         1   \n",
       "1              3.080569                      0.0           1         0   \n",
       "\n",
       "   sex_Other  age_group_0 - 9 Years  age_group_10 - 19 Years  \\\n",
       "0          0                      0                        0   \n",
       "1          0                      0                        1   \n",
       "\n",
       "   age_group_20 - 29 Years  age_group_30 - 39 Years  age_group_40 - 49 Years  \\\n",
       "0                        0                        1                        0   \n",
       "1                        0                        0                        0   \n",
       "\n",
       "   ...  hosp_yn_OTH  hosp_yn_Yes  icu_yn_No  icu_yn_Yes  death_yn_Yes  \\\n",
       "0  ...            0            0          0           0             0   \n",
       "1  ...            0            0          0           0             0   \n",
       "\n",
       "   medcond_yn_No  medcond_yn_Yes  Seasons_Autumn  Seasons_Spring  \\\n",
       "0              0               0               0               0   \n",
       "1              0               0               1               0   \n",
       "\n",
       "   Seasons_Summer  \n",
       "0               0  \n",
       "1               0  \n",
       "\n",
       "[2 rows x 31 columns]"
      ]
     },
     "execution_count": 122,
     "metadata": {},
     "output_type": "execute_result"
    }
   ],
   "source": [
    "# Analyse the final dataframe and check if the data got added.\n",
    "df_all_and_new.head(2)\n"
   ]
  },
  {
   "cell_type": "code",
   "execution_count": 123,
   "id": "blessed-norfolk",
   "metadata": {},
   "outputs": [
    {
     "data": {
      "text/plain": [
       "(8296, 31)"
      ]
     },
     "execution_count": 123,
     "metadata": {},
     "output_type": "execute_result"
    }
   ],
   "source": [
    "df_new.shape"
   ]
  },
  {
   "cell_type": "markdown",
   "id": "straight-poster",
   "metadata": {},
   "source": [
    "Here, <br>\n",
    "New data consists of - 9977 rows<br>\n",
    "Previous data - 9980\n",
    "\n",
    "Total rows - 19957 with 31 columns.\n",
    "\n",
    "These data should be matched with the concatinated data which is seen below."
   ]
  },
  {
   "cell_type": "code",
   "execution_count": 124,
   "id": "demonstrated-glance",
   "metadata": {},
   "outputs": [
    {
     "data": {
      "text/plain": [
       "(17831, 31)"
      ]
     },
     "execution_count": 124,
     "metadata": {},
     "output_type": "execute_result"
    }
   ],
   "source": [
    "df_all_and_new.shape"
   ]
  },
  {
   "cell_type": "code",
   "execution_count": 125,
   "id": "intellectual-clarity",
   "metadata": {},
   "outputs": [],
   "source": [
    "# y is the target\n",
    "y_Combined_new = df_all_and_new[\"death_yn_Yes\"]\n",
    "# X is everything else\n",
    "X_Combined_new = df_all_and_new.drop([\"death_yn_Yes\"],1)"
   ]
  },
  {
   "cell_type": "markdown",
   "id": "portuguese-statement",
   "metadata": {},
   "source": [
    "Preform 10 fold cross validation using cross_val_LogReg_DF function\n",
    "- Results summarised below"
   ]
  },
  {
   "cell_type": "code",
   "execution_count": 126,
   "id": "afraid-dodge",
   "metadata": {},
   "outputs": [
    {
     "name": "stdout",
     "output_type": "stream",
     "text": [
      "Mean results from 10 fold cross validation are:\n"
     ]
    },
    {
     "data": {
      "text/html": [
       "<div>\n",
       "<style scoped>\n",
       "    .dataframe tbody tr th:only-of-type {\n",
       "        vertical-align: middle;\n",
       "    }\n",
       "\n",
       "    .dataframe tbody tr th {\n",
       "        vertical-align: top;\n",
       "    }\n",
       "\n",
       "    .dataframe thead th {\n",
       "        text-align: right;\n",
       "    }\n",
       "</style>\n",
       "<table border=\"1\" class=\"dataframe\">\n",
       "  <thead>\n",
       "    <tr style=\"text-align: right;\">\n",
       "      <th></th>\n",
       "      <th>Logistic_Regression</th>\n",
       "    </tr>\n",
       "  </thead>\n",
       "  <tbody>\n",
       "    <tr>\n",
       "      <th>accuracy</th>\n",
       "      <td>0.977567</td>\n",
       "    </tr>\n",
       "    <tr>\n",
       "      <th>precision</th>\n",
       "      <td>0.668222</td>\n",
       "    </tr>\n",
       "    <tr>\n",
       "      <th>recall</th>\n",
       "      <td>0.250101</td>\n",
       "    </tr>\n",
       "    <tr>\n",
       "      <th>f1</th>\n",
       "      <td>0.335991</td>\n",
       "    </tr>\n",
       "  </tbody>\n",
       "</table>\n",
       "</div>"
      ],
      "text/plain": [
       "           Logistic_Regression\n",
       "accuracy              0.977567\n",
       "precision             0.668222\n",
       "recall                0.250101\n",
       "f1                    0.335991"
      ]
     },
     "execution_count": 126,
     "metadata": {},
     "output_type": "execute_result"
    }
   ],
   "source": [
    "logRegDF_new = cross_val_LogReg_DF_new(X_Combined_new,y_Combined_new)\n",
    "print(f\"Mean results from 10 fold cross validation are:\")\n",
    "logRegDF_new"
   ]
  },
  {
   "cell_type": "code",
   "execution_count": 127,
   "id": "harmful-therapist",
   "metadata": {},
   "outputs": [
    {
     "data": {
      "text/html": [
       "<div>\n",
       "<style scoped>\n",
       "    .dataframe tbody tr th:only-of-type {\n",
       "        vertical-align: middle;\n",
       "    }\n",
       "\n",
       "    .dataframe tbody tr th {\n",
       "        vertical-align: top;\n",
       "    }\n",
       "\n",
       "    .dataframe thead th {\n",
       "        text-align: right;\n",
       "    }\n",
       "</style>\n",
       "<table border=\"1\" class=\"dataframe\">\n",
       "  <thead>\n",
       "    <tr style=\"text-align: right;\">\n",
       "      <th></th>\n",
       "      <th>Logistic_Regression</th>\n",
       "      <th>Logistic_Regression</th>\n",
       "    </tr>\n",
       "  </thead>\n",
       "  <tbody>\n",
       "    <tr>\n",
       "      <th>accuracy</th>\n",
       "      <td>0.970110</td>\n",
       "      <td>0.977567</td>\n",
       "    </tr>\n",
       "    <tr>\n",
       "      <th>precision</th>\n",
       "      <td>0.627805</td>\n",
       "      <td>0.668222</td>\n",
       "    </tr>\n",
       "    <tr>\n",
       "      <th>recall</th>\n",
       "      <td>0.301042</td>\n",
       "      <td>0.250101</td>\n",
       "    </tr>\n",
       "    <tr>\n",
       "      <th>f1</th>\n",
       "      <td>0.404898</td>\n",
       "      <td>0.335991</td>\n",
       "    </tr>\n",
       "  </tbody>\n",
       "</table>\n",
       "</div>"
      ],
      "text/plain": [
       "           Logistic_Regression  Logistic_Regression\n",
       "accuracy              0.970110             0.977567\n",
       "precision             0.627805             0.668222\n",
       "recall                0.301042             0.250101\n",
       "f1                    0.404898             0.335991"
      ]
     },
     "execution_count": 127,
     "metadata": {},
     "output_type": "execute_result"
    }
   ],
   "source": [
    "Logistic_new_old_results_df = pd.concat([logRegDF,logRegDF_new], axis=1)\n",
    "Logistic_new_old_results_df"
   ]
  },
  {
   "cell_type": "markdown",
   "id": "detailed-still",
   "metadata": {},
   "source": [
    "<b>Summary : </b>\n",
    "\n",
    "From the above results, we can conclude that the accuracy is very similar to the results with previous data model. But the recall value from the previous results has decreased here as the total positive class data is approximately 3% of 19957 rows whereas, in previous data it has 3.3% among 10000 rows. Hence the probablity of combinations of different feature values are high in predicting the target feature. Due to which the recall will decrease.\n",
    "\n",
    "On the other hand, the new data does not have values during the spring season and other category in hospital feature. Even then there is no big difference in the prediction results which is good and is sign of robustness of logistic regression.\n",
    "\n",
    "Furthermore, this model havent seen the test data before, hence there are chance in mispredicting the target feature. \n",
    "Therefore, overall the model is good in terms of accurcay even with new dataset but it is bit low with respect to the prediction of positive class(recall value)."
   ]
  },
  {
   "cell_type": "code",
   "execution_count": null,
   "id": "whole-corps",
   "metadata": {},
   "outputs": [],
   "source": []
  }
 ],
 "metadata": {
  "kernelspec": {
   "display_name": "Python 3",
   "language": "python",
   "name": "python3"
  },
  "language_info": {
   "codemirror_mode": {
    "name": "ipython",
    "version": 3
   },
   "file_extension": ".py",
   "mimetype": "text/x-python",
   "name": "python",
   "nbconvert_exporter": "python",
   "pygments_lexer": "ipython3",
   "version": "3.8.5"
  }
 },
 "nbformat": 4,
 "nbformat_minor": 5
}
